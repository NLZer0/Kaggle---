{
 "cells": [
  {
   "cell_type": "code",
   "execution_count": 4,
   "source": [
    "import pandas as pd \r\n",
    "import numpy as np"
   ],
   "outputs": [],
   "metadata": {}
  },
  {
   "cell_type": "markdown",
   "source": [
    "Подготовка данных для обучения"
   ],
   "metadata": {}
  },
  {
   "cell_type": "code",
   "execution_count": 5,
   "source": [
    "train_df = pd.read_csv(\"data/train.csv\")"
   ],
   "outputs": [],
   "metadata": {}
  },
  {
   "cell_type": "code",
   "execution_count": 131,
   "source": [
    "clients_df = pd.read_csv('data/clients2.csv')"
   ],
   "outputs": [],
   "metadata": {}
  },
  {
   "cell_type": "code",
   "execution_count": 132,
   "source": [
    "clients_df = clients_df.merge(train_df.loc[:,['client_id']], how='inner')"
   ],
   "outputs": [],
   "metadata": {}
  },
  {
   "cell_type": "code",
   "execution_count": 133,
   "source": [
    "print((clients_df.age > 100).sum())\r\n",
    "print((clients_df.age < 0).sum())"
   ],
   "outputs": [
    {
     "output_type": "stream",
     "name": "stdout",
     "text": [
      "375\n",
      "41\n"
     ]
    }
   ],
   "metadata": {}
  },
  {
   "cell_type": "code",
   "execution_count": 134,
   "source": [
    "q25, q75 = np.percentile(clients_df.age, [25,75])\r\n",
    "intr_qr = q75 - q25\r\n",
    "max = q75 + intr_qr*1.5\r\n",
    "min = q25 - intr_qr*1.5"
   ],
   "outputs": [],
   "metadata": {}
  },
  {
   "cell_type": "code",
   "execution_count": 135,
   "source": [
    "print(min,max)"
   ],
   "outputs": [
    {
     "output_type": "stream",
     "name": "stdout",
     "text": [
      "-3.5 96.5\n"
     ]
    }
   ],
   "metadata": {}
  },
  {
   "cell_type": "code",
   "execution_count": 136,
   "source": [
    "min = 0"
   ],
   "outputs": [],
   "metadata": {}
  },
  {
   "cell_type": "code",
   "execution_count": 137,
   "source": [
    "clients_df.loc[(clients_df.age > max) | (clients_df.age < min), 'age'] = np.nan"
   ],
   "outputs": [],
   "metadata": {}
  },
  {
   "cell_type": "code",
   "execution_count": 138,
   "source": [
    "median_age = clients_df.age.median()\r\n",
    "clients_df['age'] = clients_df['age'].fillna(median_age)"
   ],
   "outputs": [],
   "metadata": {}
  },
  {
   "cell_type": "code",
   "execution_count": 139,
   "source": [
    "clients_df.boxplot()"
   ],
   "outputs": [
    {
     "output_type": "execute_result",
     "data": {
      "text/plain": [
       "<AxesSubplot:>"
      ]
     },
     "metadata": {},
     "execution_count": 139
    },
    {
     "output_type": "display_data",
     "data": {
      "image/png": "[encoded data removed]",
      "text/plain": [
       "<Figure size 432x288 with 1 Axes>"
      ]
     },
     "metadata": {
      "needs_background": "light"
     }
    }
   ],
   "metadata": {}
  },
  {
   "cell_type": "code",
   "execution_count": 140,
   "source": [
    "clients_df.head()"
   ],
   "outputs": [
    {
     "output_type": "execute_result",
     "data": {
      "text/html": [
       "<div>\n",
       "<style scoped>\n",
       "    .dataframe tbody tr th:only-of-type {\n",
       "        vertical-align: middle;\n",
       "    }\n",
       "\n",
       "    .dataframe tbody tr th {\n",
       "        vertical-align: top;\n",
       "    }\n",
       "\n",
       "    .dataframe thead th {\n",
       "        text-align: right;\n",
       "    }\n",
       "</style>\n",
       "<table border=\"1\" class=\"dataframe\">\n",
       "  <thead>\n",
       "    <tr style=\"text-align: right;\">\n",
       "      <th></th>\n",
       "      <th>client_id</th>\n",
       "      <th>client_id.1</th>\n",
       "      <th>first_issue_date</th>\n",
       "      <th>first_redeem_date</th>\n",
       "      <th>age</th>\n",
       "      <th>gender</th>\n",
       "    </tr>\n",
       "  </thead>\n",
       "  <tbody>\n",
       "    <tr>\n",
       "      <th>0</th>\n",
       "      <td>000012768d</td>\n",
       "      <td>NaN</td>\n",
       "      <td>2017-08-05 15:40:48</td>\n",
       "      <td>2018-01-04 19:30:07</td>\n",
       "      <td>45.0</td>\n",
       "      <td>U</td>\n",
       "    </tr>\n",
       "    <tr>\n",
       "      <th>1</th>\n",
       "      <td>000036f903</td>\n",
       "      <td>NaN</td>\n",
       "      <td>2017-04-10 13:54:23</td>\n",
       "      <td>2017-04-23 12:37:56</td>\n",
       "      <td>72.0</td>\n",
       "      <td>F</td>\n",
       "    </tr>\n",
       "    <tr>\n",
       "      <th>2</th>\n",
       "      <td>0001f552b0</td>\n",
       "      <td>NaN</td>\n",
       "      <td>2017-06-30 19:20:38</td>\n",
       "      <td>2018-08-28 12:59:45</td>\n",
       "      <td>33.0</td>\n",
       "      <td>F</td>\n",
       "    </tr>\n",
       "    <tr>\n",
       "      <th>3</th>\n",
       "      <td>00020e7b18</td>\n",
       "      <td>NaN</td>\n",
       "      <td>2017-11-27 11:41:45</td>\n",
       "      <td>2018-01-10 17:50:05</td>\n",
       "      <td>73.0</td>\n",
       "      <td>U</td>\n",
       "    </tr>\n",
       "    <tr>\n",
       "      <th>4</th>\n",
       "      <td>000220a0a7</td>\n",
       "      <td>NaN</td>\n",
       "      <td>2017-12-09 17:26:20</td>\n",
       "      <td>2018-10-04 14:59:29</td>\n",
       "      <td>45.0</td>\n",
       "      <td>M</td>\n",
       "    </tr>\n",
       "  </tbody>\n",
       "</table>\n",
       "</div>"
      ],
      "text/plain": [
       "    client_id  client_id.1     first_issue_date    first_redeem_date   age  \\\n",
       "0  000012768d          NaN  2017-08-05 15:40:48  2018-01-04 19:30:07  45.0   \n",
       "1  000036f903          NaN  2017-04-10 13:54:23  2017-04-23 12:37:56  72.0   \n",
       "2  0001f552b0          NaN  2017-06-30 19:20:38  2018-08-28 12:59:45  33.0   \n",
       "3  00020e7b18          NaN  2017-11-27 11:41:45  2018-01-10 17:50:05  73.0   \n",
       "4  000220a0a7          NaN  2017-12-09 17:26:20  2018-10-04 14:59:29  45.0   \n",
       "\n",
       "  gender  \n",
       "0      U  \n",
       "1      F  \n",
       "2      F  \n",
       "3      U  \n",
       "4      M  "
      ]
     },
     "metadata": {},
     "execution_count": 140
    }
   ],
   "metadata": {}
  },
  {
   "cell_type": "code",
   "execution_count": 141,
   "source": [
    "clients_df.gender = clients_df.gender.apply(lambda x: (x=='M') + 2*(x=='F'))"
   ],
   "outputs": [],
   "metadata": {}
  },
  {
   "cell_type": "code",
   "execution_count": 142,
   "source": [
    "clients_df.head()"
   ],
   "outputs": [
    {
     "output_type": "execute_result",
     "data": {
      "text/html": [
       "<div>\n",
       "<style scoped>\n",
       "    .dataframe tbody tr th:only-of-type {\n",
       "        vertical-align: middle;\n",
       "    }\n",
       "\n",
       "    .dataframe tbody tr th {\n",
       "        vertical-align: top;\n",
       "    }\n",
       "\n",
       "    .dataframe thead th {\n",
       "        text-align: right;\n",
       "    }\n",
       "</style>\n",
       "<table border=\"1\" class=\"dataframe\">\n",
       "  <thead>\n",
       "    <tr style=\"text-align: right;\">\n",
       "      <th></th>\n",
       "      <th>client_id</th>\n",
       "      <th>client_id.1</th>\n",
       "      <th>first_issue_date</th>\n",
       "      <th>first_redeem_date</th>\n",
       "      <th>age</th>\n",
       "      <th>gender</th>\n",
       "    </tr>\n",
       "  </thead>\n",
       "  <tbody>\n",
       "    <tr>\n",
       "      <th>0</th>\n",
       "      <td>000012768d</td>\n",
       "      <td>NaN</td>\n",
       "      <td>2017-08-05 15:40:48</td>\n",
       "      <td>2018-01-04 19:30:07</td>\n",
       "      <td>45.0</td>\n",
       "      <td>0</td>\n",
       "    </tr>\n",
       "    <tr>\n",
       "      <th>1</th>\n",
       "      <td>000036f903</td>\n",
       "      <td>NaN</td>\n",
       "      <td>2017-04-10 13:54:23</td>\n",
       "      <td>2017-04-23 12:37:56</td>\n",
       "      <td>72.0</td>\n",
       "      <td>2</td>\n",
       "    </tr>\n",
       "    <tr>\n",
       "      <th>2</th>\n",
       "      <td>0001f552b0</td>\n",
       "      <td>NaN</td>\n",
       "      <td>2017-06-30 19:20:38</td>\n",
       "      <td>2018-08-28 12:59:45</td>\n",
       "      <td>33.0</td>\n",
       "      <td>2</td>\n",
       "    </tr>\n",
       "    <tr>\n",
       "      <th>3</th>\n",
       "      <td>00020e7b18</td>\n",
       "      <td>NaN</td>\n",
       "      <td>2017-11-27 11:41:45</td>\n",
       "      <td>2018-01-10 17:50:05</td>\n",
       "      <td>73.0</td>\n",
       "      <td>0</td>\n",
       "    </tr>\n",
       "    <tr>\n",
       "      <th>4</th>\n",
       "      <td>000220a0a7</td>\n",
       "      <td>NaN</td>\n",
       "      <td>2017-12-09 17:26:20</td>\n",
       "      <td>2018-10-04 14:59:29</td>\n",
       "      <td>45.0</td>\n",
       "      <td>1</td>\n",
       "    </tr>\n",
       "  </tbody>\n",
       "</table>\n",
       "</div>"
      ],
      "text/plain": [
       "    client_id  client_id.1     first_issue_date    first_redeem_date   age  \\\n",
       "0  000012768d          NaN  2017-08-05 15:40:48  2018-01-04 19:30:07  45.0   \n",
       "1  000036f903          NaN  2017-04-10 13:54:23  2017-04-23 12:37:56  72.0   \n",
       "2  0001f552b0          NaN  2017-06-30 19:20:38  2018-08-28 12:59:45  33.0   \n",
       "3  00020e7b18          NaN  2017-11-27 11:41:45  2018-01-10 17:50:05  73.0   \n",
       "4  000220a0a7          NaN  2017-12-09 17:26:20  2018-10-04 14:59:29  45.0   \n",
       "\n",
       "   gender  \n",
       "0       0  \n",
       "1       2  \n",
       "2       2  \n",
       "3       0  \n",
       "4       1  "
      ]
     },
     "metadata": {},
     "execution_count": 142
    }
   ],
   "metadata": {}
  },
  {
   "cell_type": "code",
   "execution_count": 143,
   "source": [
    "clients_df = clients_df.merge(train_df.client_id, how='inner')"
   ],
   "outputs": [],
   "metadata": {}
  },
  {
   "cell_type": "code",
   "execution_count": 144,
   "source": [
    "clients_df['first_redeem_date'] = pd.to_datetime(clients_df['first_redeem_date'], errors='coerce')"
   ],
   "outputs": [],
   "metadata": {}
  },
  {
   "cell_type": "code",
   "execution_count": 145,
   "source": [
    "clients_df['first_reedem_ts'] = clients_df.first_redeem_date.values.view('int64') / 1e9"
   ],
   "outputs": [],
   "metadata": {}
  },
  {
   "cell_type": "code",
   "execution_count": 146,
   "source": [
    "clients_df.head()"
   ],
   "outputs": [
    {
     "output_type": "execute_result",
     "data": {
      "text/html": [
       "<div>\n",
       "<style scoped>\n",
       "    .dataframe tbody tr th:only-of-type {\n",
       "        vertical-align: middle;\n",
       "    }\n",
       "\n",
       "    .dataframe tbody tr th {\n",
       "        vertical-align: top;\n",
       "    }\n",
       "\n",
       "    .dataframe thead th {\n",
       "        text-align: right;\n",
       "    }\n",
       "</style>\n",
       "<table border=\"1\" class=\"dataframe\">\n",
       "  <thead>\n",
       "    <tr style=\"text-align: right;\">\n",
       "      <th></th>\n",
       "      <th>client_id</th>\n",
       "      <th>client_id.1</th>\n",
       "      <th>first_issue_date</th>\n",
       "      <th>first_redeem_date</th>\n",
       "      <th>age</th>\n",
       "      <th>gender</th>\n",
       "      <th>first_reedem_ts</th>\n",
       "    </tr>\n",
       "  </thead>\n",
       "  <tbody>\n",
       "    <tr>\n",
       "      <th>0</th>\n",
       "      <td>000012768d</td>\n",
       "      <td>NaN</td>\n",
       "      <td>2017-08-05 15:40:48</td>\n",
       "      <td>2018-01-04 19:30:07</td>\n",
       "      <td>45.0</td>\n",
       "      <td>0</td>\n",
       "      <td>1.515094e+09</td>\n",
       "    </tr>\n",
       "    <tr>\n",
       "      <th>1</th>\n",
       "      <td>000036f903</td>\n",
       "      <td>NaN</td>\n",
       "      <td>2017-04-10 13:54:23</td>\n",
       "      <td>2017-04-23 12:37:56</td>\n",
       "      <td>72.0</td>\n",
       "      <td>2</td>\n",
       "      <td>1.492951e+09</td>\n",
       "    </tr>\n",
       "    <tr>\n",
       "      <th>2</th>\n",
       "      <td>0001f552b0</td>\n",
       "      <td>NaN</td>\n",
       "      <td>2017-06-30 19:20:38</td>\n",
       "      <td>2018-08-28 12:59:45</td>\n",
       "      <td>33.0</td>\n",
       "      <td>2</td>\n",
       "      <td>1.535461e+09</td>\n",
       "    </tr>\n",
       "    <tr>\n",
       "      <th>3</th>\n",
       "      <td>00020e7b18</td>\n",
       "      <td>NaN</td>\n",
       "      <td>2017-11-27 11:41:45</td>\n",
       "      <td>2018-01-10 17:50:05</td>\n",
       "      <td>73.0</td>\n",
       "      <td>0</td>\n",
       "      <td>1.515607e+09</td>\n",
       "    </tr>\n",
       "    <tr>\n",
       "      <th>4</th>\n",
       "      <td>000220a0a7</td>\n",
       "      <td>NaN</td>\n",
       "      <td>2017-12-09 17:26:20</td>\n",
       "      <td>2018-10-04 14:59:29</td>\n",
       "      <td>45.0</td>\n",
       "      <td>1</td>\n",
       "      <td>1.538665e+09</td>\n",
       "    </tr>\n",
       "  </tbody>\n",
       "</table>\n",
       "</div>"
      ],
      "text/plain": [
       "    client_id  client_id.1     first_issue_date   first_redeem_date   age  \\\n",
       "0  000012768d          NaN  2017-08-05 15:40:48 2018-01-04 19:30:07  45.0   \n",
       "1  000036f903          NaN  2017-04-10 13:54:23 2017-04-23 12:37:56  72.0   \n",
       "2  0001f552b0          NaN  2017-06-30 19:20:38 2018-08-28 12:59:45  33.0   \n",
       "3  00020e7b18          NaN  2017-11-27 11:41:45 2018-01-10 17:50:05  73.0   \n",
       "4  000220a0a7          NaN  2017-12-09 17:26:20 2018-10-04 14:59:29  45.0   \n",
       "\n",
       "   gender  first_reedem_ts  \n",
       "0       0     1.515094e+09  \n",
       "1       2     1.492951e+09  \n",
       "2       2     1.535461e+09  \n",
       "3       0     1.515607e+09  \n",
       "4       1     1.538665e+09  "
      ]
     },
     "metadata": {},
     "execution_count": 146
    }
   ],
   "metadata": {}
  },
  {
   "cell_type": "code",
   "execution_count": 22,
   "source": [
    "train_purch_df = pd.read_csv('data/train_purch.csv')"
   ],
   "outputs": [],
   "metadata": {}
  },
  {
   "cell_type": "code",
   "execution_count": 23,
   "source": [
    "train_purch_df['transaction_datetime'] = pd.to_datetime(train_purch_df['transaction_datetime'], errors='coerce')"
   ],
   "outputs": [],
   "metadata": {}
  },
  {
   "cell_type": "code",
   "execution_count": 24,
   "source": [
    "last_purch_ts = train_purch_df.groupby('client_id', as_index=False).transaction_datetime.max().rename(columns={'transaction_datetime': 'last_ts'})\r\n",
    "last_purch_ts['last_ts'] = last_purch_ts.last_ts.values.view('int64')/(1e9)"
   ],
   "outputs": [],
   "metadata": {}
  },
  {
   "cell_type": "code",
   "execution_count": 25,
   "source": [
    "last_purch_ts.head()"
   ],
   "outputs": [
    {
     "output_type": "execute_result",
     "data": {
      "text/html": [
       "<div>\n",
       "<style scoped>\n",
       "    .dataframe tbody tr th:only-of-type {\n",
       "        vertical-align: middle;\n",
       "    }\n",
       "\n",
       "    .dataframe tbody tr th {\n",
       "        vertical-align: top;\n",
       "    }\n",
       "\n",
       "    .dataframe thead th {\n",
       "        text-align: right;\n",
       "    }\n",
       "</style>\n",
       "<table border=\"1\" class=\"dataframe\">\n",
       "  <thead>\n",
       "    <tr style=\"text-align: right;\">\n",
       "      <th></th>\n",
       "      <th>client_id</th>\n",
       "      <th>last_ts</th>\n",
       "    </tr>\n",
       "  </thead>\n",
       "  <tbody>\n",
       "    <tr>\n",
       "      <th>0</th>\n",
       "      <td>000012768d</td>\n",
       "      <td>1.552576e+09</td>\n",
       "    </tr>\n",
       "    <tr>\n",
       "      <th>1</th>\n",
       "      <td>000036f903</td>\n",
       "      <td>1.552819e+09</td>\n",
       "    </tr>\n",
       "    <tr>\n",
       "      <th>2</th>\n",
       "      <td>0001f552b0</td>\n",
       "      <td>1.552734e+09</td>\n",
       "    </tr>\n",
       "    <tr>\n",
       "      <th>3</th>\n",
       "      <td>00020e7b18</td>\n",
       "      <td>1.552651e+09</td>\n",
       "    </tr>\n",
       "    <tr>\n",
       "      <th>4</th>\n",
       "      <td>000220a0a7</td>\n",
       "      <td>1.552409e+09</td>\n",
       "    </tr>\n",
       "  </tbody>\n",
       "</table>\n",
       "</div>"
      ],
      "text/plain": [
       "    client_id       last_ts\n",
       "0  000012768d  1.552576e+09\n",
       "1  000036f903  1.552819e+09\n",
       "2  0001f552b0  1.552734e+09\n",
       "3  00020e7b18  1.552651e+09\n",
       "4  000220a0a7  1.552409e+09"
      ]
     },
     "metadata": {},
     "execution_count": 25
    }
   ],
   "metadata": {}
  },
  {
   "cell_type": "code",
   "execution_count": 26,
   "source": [
    "clients_df.head()"
   ],
   "outputs": [
    {
     "output_type": "execute_result",
     "data": {
      "text/html": [
       "<div>\n",
       "<style scoped>\n",
       "    .dataframe tbody tr th:only-of-type {\n",
       "        vertical-align: middle;\n",
       "    }\n",
       "\n",
       "    .dataframe tbody tr th {\n",
       "        vertical-align: top;\n",
       "    }\n",
       "\n",
       "    .dataframe thead th {\n",
       "        text-align: right;\n",
       "    }\n",
       "</style>\n",
       "<table border=\"1\" class=\"dataframe\">\n",
       "  <thead>\n",
       "    <tr style=\"text-align: right;\">\n",
       "      <th></th>\n",
       "      <th>client_id</th>\n",
       "      <th>client_id.1</th>\n",
       "      <th>first_issue_date</th>\n",
       "      <th>first_redeem_date</th>\n",
       "      <th>age</th>\n",
       "      <th>gender</th>\n",
       "      <th>first_reedem_ts</th>\n",
       "    </tr>\n",
       "  </thead>\n",
       "  <tbody>\n",
       "    <tr>\n",
       "      <th>0</th>\n",
       "      <td>000012768d</td>\n",
       "      <td>NaN</td>\n",
       "      <td>2017-08-05 15:40:48</td>\n",
       "      <td>2018-01-04 19:30:07</td>\n",
       "      <td>45.0</td>\n",
       "      <td>0</td>\n",
       "      <td>1.515094e+09</td>\n",
       "    </tr>\n",
       "    <tr>\n",
       "      <th>1</th>\n",
       "      <td>000036f903</td>\n",
       "      <td>NaN</td>\n",
       "      <td>2017-04-10 13:54:23</td>\n",
       "      <td>2017-04-23 12:37:56</td>\n",
       "      <td>72.0</td>\n",
       "      <td>2</td>\n",
       "      <td>1.492951e+09</td>\n",
       "    </tr>\n",
       "    <tr>\n",
       "      <th>2</th>\n",
       "      <td>0001f552b0</td>\n",
       "      <td>NaN</td>\n",
       "      <td>2017-06-30 19:20:38</td>\n",
       "      <td>2018-08-28 12:59:45</td>\n",
       "      <td>33.0</td>\n",
       "      <td>2</td>\n",
       "      <td>1.535461e+09</td>\n",
       "    </tr>\n",
       "    <tr>\n",
       "      <th>3</th>\n",
       "      <td>00020e7b18</td>\n",
       "      <td>NaN</td>\n",
       "      <td>2017-11-27 11:41:45</td>\n",
       "      <td>2018-01-10 17:50:05</td>\n",
       "      <td>73.0</td>\n",
       "      <td>0</td>\n",
       "      <td>1.515607e+09</td>\n",
       "    </tr>\n",
       "    <tr>\n",
       "      <th>4</th>\n",
       "      <td>000220a0a7</td>\n",
       "      <td>NaN</td>\n",
       "      <td>2017-12-09 17:26:20</td>\n",
       "      <td>2018-10-04 14:59:29</td>\n",
       "      <td>45.0</td>\n",
       "      <td>1</td>\n",
       "      <td>1.538665e+09</td>\n",
       "    </tr>\n",
       "  </tbody>\n",
       "</table>\n",
       "</div>"
      ],
      "text/plain": [
       "    client_id  client_id.1     first_issue_date   first_redeem_date   age  \\\n",
       "0  000012768d          NaN  2017-08-05 15:40:48 2018-01-04 19:30:07  45.0   \n",
       "1  000036f903          NaN  2017-04-10 13:54:23 2017-04-23 12:37:56  72.0   \n",
       "2  0001f552b0          NaN  2017-06-30 19:20:38 2018-08-28 12:59:45  33.0   \n",
       "3  00020e7b18          NaN  2017-11-27 11:41:45 2018-01-10 17:50:05  73.0   \n",
       "4  000220a0a7          NaN  2017-12-09 17:26:20 2018-10-04 14:59:29  45.0   \n",
       "\n",
       "   gender  first_reedem_ts  \n",
       "0       0     1.515094e+09  \n",
       "1       2     1.492951e+09  \n",
       "2       2     1.535461e+09  \n",
       "3       0     1.515607e+09  \n",
       "4       1     1.538665e+09  "
      ]
     },
     "metadata": {},
     "execution_count": 26
    }
   ],
   "metadata": {}
  },
  {
   "cell_type": "code",
   "execution_count": 27,
   "source": [
    "train_purch_df['ts'] = train_purch_df.transaction_datetime.values.view('int64')/(1e9)"
   ],
   "outputs": [],
   "metadata": {}
  },
  {
   "cell_type": "code",
   "execution_count": 28,
   "source": [
    "train_purch_df = train_purch_df.merge(last_purch_ts, on='client_id', how='outer')"
   ],
   "outputs": [],
   "metadata": {}
  },
  {
   "cell_type": "code",
   "execution_count": 29,
   "source": [
    "train_purch_df.head()"
   ],
   "outputs": [
    {
     "output_type": "execute_result",
     "data": {
      "text/html": [
       "<div>\n",
       "<style scoped>\n",
       "    .dataframe tbody tr th:only-of-type {\n",
       "        vertical-align: middle;\n",
       "    }\n",
       "\n",
       "    .dataframe tbody tr th {\n",
       "        vertical-align: top;\n",
       "    }\n",
       "\n",
       "    .dataframe thead th {\n",
       "        text-align: right;\n",
       "    }\n",
       "</style>\n",
       "<table border=\"1\" class=\"dataframe\">\n",
       "  <thead>\n",
       "    <tr style=\"text-align: right;\">\n",
       "      <th></th>\n",
       "      <th>client_id</th>\n",
       "      <th>transaction_id</th>\n",
       "      <th>transaction_datetime</th>\n",
       "      <th>regular_points_received</th>\n",
       "      <th>express_points_received</th>\n",
       "      <th>regular_points_spent</th>\n",
       "      <th>express_points_spent</th>\n",
       "      <th>purchase_sum</th>\n",
       "      <th>store_id</th>\n",
       "      <th>product_id</th>\n",
       "      <th>product_quantity</th>\n",
       "      <th>trn_sum_from_iss</th>\n",
       "      <th>trn_sum_from_red</th>\n",
       "      <th>ts</th>\n",
       "      <th>last_ts</th>\n",
       "    </tr>\n",
       "  </thead>\n",
       "  <tbody>\n",
       "    <tr>\n",
       "      <th>0</th>\n",
       "      <td>000012768d</td>\n",
       "      <td>7e3e2e3984</td>\n",
       "      <td>2018-12-01 07:12:45</td>\n",
       "      <td>10.0</td>\n",
       "      <td>0.0</td>\n",
       "      <td>0.0</td>\n",
       "      <td>0.0</td>\n",
       "      <td>1007.0</td>\n",
       "      <td>54a4a11a29</td>\n",
       "      <td>9a80204f78</td>\n",
       "      <td>2.0</td>\n",
       "      <td>80.0</td>\n",
       "      <td>NaN</td>\n",
       "      <td>1.543648e+09</td>\n",
       "      <td>1.552576e+09</td>\n",
       "    </tr>\n",
       "    <tr>\n",
       "      <th>1</th>\n",
       "      <td>000012768d</td>\n",
       "      <td>7e3e2e3984</td>\n",
       "      <td>2018-12-01 07:12:45</td>\n",
       "      <td>10.0</td>\n",
       "      <td>0.0</td>\n",
       "      <td>0.0</td>\n",
       "      <td>0.0</td>\n",
       "      <td>1007.0</td>\n",
       "      <td>54a4a11a29</td>\n",
       "      <td>da89ebd374</td>\n",
       "      <td>1.0</td>\n",
       "      <td>65.0</td>\n",
       "      <td>NaN</td>\n",
       "      <td>1.543648e+09</td>\n",
       "      <td>1.552576e+09</td>\n",
       "    </tr>\n",
       "    <tr>\n",
       "      <th>2</th>\n",
       "      <td>000012768d</td>\n",
       "      <td>7e3e2e3984</td>\n",
       "      <td>2018-12-01 07:12:45</td>\n",
       "      <td>10.0</td>\n",
       "      <td>0.0</td>\n",
       "      <td>0.0</td>\n",
       "      <td>0.0</td>\n",
       "      <td>1007.0</td>\n",
       "      <td>54a4a11a29</td>\n",
       "      <td>0a95e1151d</td>\n",
       "      <td>1.0</td>\n",
       "      <td>24.0</td>\n",
       "      <td>NaN</td>\n",
       "      <td>1.543648e+09</td>\n",
       "      <td>1.552576e+09</td>\n",
       "    </tr>\n",
       "    <tr>\n",
       "      <th>3</th>\n",
       "      <td>000012768d</td>\n",
       "      <td>7e3e2e3984</td>\n",
       "      <td>2018-12-01 07:12:45</td>\n",
       "      <td>10.0</td>\n",
       "      <td>0.0</td>\n",
       "      <td>0.0</td>\n",
       "      <td>0.0</td>\n",
       "      <td>1007.0</td>\n",
       "      <td>54a4a11a29</td>\n",
       "      <td>4055b15e4a</td>\n",
       "      <td>2.0</td>\n",
       "      <td>50.0</td>\n",
       "      <td>NaN</td>\n",
       "      <td>1.543648e+09</td>\n",
       "      <td>1.552576e+09</td>\n",
       "    </tr>\n",
       "    <tr>\n",
       "      <th>4</th>\n",
       "      <td>000012768d</td>\n",
       "      <td>7e3e2e3984</td>\n",
       "      <td>2018-12-01 07:12:45</td>\n",
       "      <td>10.0</td>\n",
       "      <td>0.0</td>\n",
       "      <td>0.0</td>\n",
       "      <td>0.0</td>\n",
       "      <td>1007.0</td>\n",
       "      <td>54a4a11a29</td>\n",
       "      <td>a685f1916b</td>\n",
       "      <td>1.0</td>\n",
       "      <td>22.0</td>\n",
       "      <td>NaN</td>\n",
       "      <td>1.543648e+09</td>\n",
       "      <td>1.552576e+09</td>\n",
       "    </tr>\n",
       "  </tbody>\n",
       "</table>\n",
       "</div>"
      ],
      "text/plain": [
       "    client_id transaction_id transaction_datetime  regular_points_received  \\\n",
       "0  000012768d     7e3e2e3984  2018-12-01 07:12:45                     10.0   \n",
       "1  000012768d     7e3e2e3984  2018-12-01 07:12:45                     10.0   \n",
       "2  000012768d     7e3e2e3984  2018-12-01 07:12:45                     10.0   \n",
       "3  000012768d     7e3e2e3984  2018-12-01 07:12:45                     10.0   \n",
       "4  000012768d     7e3e2e3984  2018-12-01 07:12:45                     10.0   \n",
       "\n",
       "   express_points_received  regular_points_spent  express_points_spent  \\\n",
       "0                      0.0                   0.0                   0.0   \n",
       "1                      0.0                   0.0                   0.0   \n",
       "2                      0.0                   0.0                   0.0   \n",
       "3                      0.0                   0.0                   0.0   \n",
       "4                      0.0                   0.0                   0.0   \n",
       "\n",
       "   purchase_sum    store_id  product_id  product_quantity  trn_sum_from_iss  \\\n",
       "0        1007.0  54a4a11a29  9a80204f78               2.0              80.0   \n",
       "1        1007.0  54a4a11a29  da89ebd374               1.0              65.0   \n",
       "2        1007.0  54a4a11a29  0a95e1151d               1.0              24.0   \n",
       "3        1007.0  54a4a11a29  4055b15e4a               2.0              50.0   \n",
       "4        1007.0  54a4a11a29  a685f1916b               1.0              22.0   \n",
       "\n",
       "   trn_sum_from_red            ts       last_ts  \n",
       "0               NaN  1.543648e+09  1.552576e+09  \n",
       "1               NaN  1.543648e+09  1.552576e+09  \n",
       "2               NaN  1.543648e+09  1.552576e+09  \n",
       "3               NaN  1.543648e+09  1.552576e+09  \n",
       "4               NaN  1.543648e+09  1.552576e+09  "
      ]
     },
     "metadata": {},
     "execution_count": 29
    }
   ],
   "metadata": {}
  },
  {
   "cell_type": "code",
   "execution_count": 30,
   "source": [
    "train_purch_without_last_purch = train_purch_df.loc[train_purch_df.ts < train_purch_df.last_ts]"
   ],
   "outputs": [],
   "metadata": {}
  },
  {
   "cell_type": "code",
   "execution_count": 31,
   "source": [
    "pred_last_purch_ts = train_purch_without_last_purch.groupby('client_id', as_index=False).ts.max()"
   ],
   "outputs": [],
   "metadata": {}
  },
  {
   "cell_type": "code",
   "execution_count": 32,
   "source": [
    "pred_last_purch_ts = pred_last_purch_ts.rename(columns={'ts': 'pred_last_ts'})"
   ],
   "outputs": [],
   "metadata": {}
  },
  {
   "cell_type": "code",
   "execution_count": 33,
   "source": [
    "last_purch_ts.client_id.count()"
   ],
   "outputs": [
    {
     "output_type": "execute_result",
     "data": {
      "text/plain": [
       "140027"
      ]
     },
     "metadata": {},
     "execution_count": 33
    }
   ],
   "metadata": {}
  },
  {
   "cell_type": "code",
   "execution_count": 34,
   "source": [
    "pred_last_purch_ts.client_id.count()"
   ],
   "outputs": [
    {
     "output_type": "execute_result",
     "data": {
      "text/plain": [
       "137324"
      ]
     },
     "metadata": {},
     "execution_count": 34
    }
   ],
   "metadata": {}
  },
  {
   "cell_type": "code",
   "execution_count": 35,
   "source": [
    "purch_ts = last_purch_ts.merge(pred_last_purch_ts, how='outer')"
   ],
   "outputs": [],
   "metadata": {}
  },
  {
   "cell_type": "code",
   "execution_count": 36,
   "source": [
    "purch_ts.pred_last_ts = purch_ts.pred_last_ts.fillna(purch_ts.last_ts)"
   ],
   "outputs": [],
   "metadata": {}
  },
  {
   "cell_type": "code",
   "execution_count": 37,
   "source": [
    "purch_ts.loc[purch_ts.last_ts < purch_ts.pred_last_ts]"
   ],
   "outputs": [
    {
     "output_type": "execute_result",
     "data": {
      "text/html": [
       "<div>\n",
       "<style scoped>\n",
       "    .dataframe tbody tr th:only-of-type {\n",
       "        vertical-align: middle;\n",
       "    }\n",
       "\n",
       "    .dataframe tbody tr th {\n",
       "        vertical-align: top;\n",
       "    }\n",
       "\n",
       "    .dataframe thead th {\n",
       "        text-align: right;\n",
       "    }\n",
       "</style>\n",
       "<table border=\"1\" class=\"dataframe\">\n",
       "  <thead>\n",
       "    <tr style=\"text-align: right;\">\n",
       "      <th></th>\n",
       "      <th>client_id</th>\n",
       "      <th>last_ts</th>\n",
       "      <th>pred_last_ts</th>\n",
       "    </tr>\n",
       "  </thead>\n",
       "  <tbody>\n",
       "  </tbody>\n",
       "</table>\n",
       "</div>"
      ],
      "text/plain": [
       "Empty DataFrame\n",
       "Columns: [client_id, last_ts, pred_last_ts]\n",
       "Index: []"
      ]
     },
     "metadata": {},
     "execution_count": 37
    }
   ],
   "metadata": {}
  },
  {
   "cell_type": "code",
   "execution_count": 147,
   "source": [
    "clients_df = clients_df.merge(purch_ts, how='inner')"
   ],
   "outputs": [],
   "metadata": {}
  },
  {
   "cell_type": "code",
   "execution_count": 148,
   "source": [
    "clients_df.head()"
   ],
   "outputs": [
    {
     "output_type": "execute_result",
     "data": {
      "text/html": [
       "<div>\n",
       "<style scoped>\n",
       "    .dataframe tbody tr th:only-of-type {\n",
       "        vertical-align: middle;\n",
       "    }\n",
       "\n",
       "    .dataframe tbody tr th {\n",
       "        vertical-align: top;\n",
       "    }\n",
       "\n",
       "    .dataframe thead th {\n",
       "        text-align: right;\n",
       "    }\n",
       "</style>\n",
       "<table border=\"1\" class=\"dataframe\">\n",
       "  <thead>\n",
       "    <tr style=\"text-align: right;\">\n",
       "      <th></th>\n",
       "      <th>client_id</th>\n",
       "      <th>client_id.1</th>\n",
       "      <th>first_issue_date</th>\n",
       "      <th>first_redeem_date</th>\n",
       "      <th>age</th>\n",
       "      <th>gender</th>\n",
       "      <th>first_reedem_ts</th>\n",
       "      <th>last_ts</th>\n",
       "      <th>pred_last_ts</th>\n",
       "    </tr>\n",
       "  </thead>\n",
       "  <tbody>\n",
       "    <tr>\n",
       "      <th>0</th>\n",
       "      <td>000012768d</td>\n",
       "      <td>NaN</td>\n",
       "      <td>2017-08-05 15:40:48</td>\n",
       "      <td>2018-01-04 19:30:07</td>\n",
       "      <td>45.0</td>\n",
       "      <td>0</td>\n",
       "      <td>1.515094e+09</td>\n",
       "      <td>1.552576e+09</td>\n",
       "      <td>1.552040e+09</td>\n",
       "    </tr>\n",
       "    <tr>\n",
       "      <th>1</th>\n",
       "      <td>000036f903</td>\n",
       "      <td>NaN</td>\n",
       "      <td>2017-04-10 13:54:23</td>\n",
       "      <td>2017-04-23 12:37:56</td>\n",
       "      <td>72.0</td>\n",
       "      <td>2</td>\n",
       "      <td>1.492951e+09</td>\n",
       "      <td>1.552819e+09</td>\n",
       "      <td>1.552127e+09</td>\n",
       "    </tr>\n",
       "    <tr>\n",
       "      <th>2</th>\n",
       "      <td>0001f552b0</td>\n",
       "      <td>NaN</td>\n",
       "      <td>2017-06-30 19:20:38</td>\n",
       "      <td>2018-08-28 12:59:45</td>\n",
       "      <td>33.0</td>\n",
       "      <td>2</td>\n",
       "      <td>1.535461e+09</td>\n",
       "      <td>1.552734e+09</td>\n",
       "      <td>1.552559e+09</td>\n",
       "    </tr>\n",
       "    <tr>\n",
       "      <th>3</th>\n",
       "      <td>00020e7b18</td>\n",
       "      <td>NaN</td>\n",
       "      <td>2017-11-27 11:41:45</td>\n",
       "      <td>2018-01-10 17:50:05</td>\n",
       "      <td>73.0</td>\n",
       "      <td>0</td>\n",
       "      <td>1.515607e+09</td>\n",
       "      <td>1.552651e+09</td>\n",
       "      <td>1.552550e+09</td>\n",
       "    </tr>\n",
       "    <tr>\n",
       "      <th>4</th>\n",
       "      <td>000220a0a7</td>\n",
       "      <td>NaN</td>\n",
       "      <td>2017-12-09 17:26:20</td>\n",
       "      <td>2018-10-04 14:59:29</td>\n",
       "      <td>45.0</td>\n",
       "      <td>1</td>\n",
       "      <td>1.538665e+09</td>\n",
       "      <td>1.552409e+09</td>\n",
       "      <td>1.552322e+09</td>\n",
       "    </tr>\n",
       "  </tbody>\n",
       "</table>\n",
       "</div>"
      ],
      "text/plain": [
       "    client_id  client_id.1     first_issue_date   first_redeem_date   age  \\\n",
       "0  000012768d          NaN  2017-08-05 15:40:48 2018-01-04 19:30:07  45.0   \n",
       "1  000036f903          NaN  2017-04-10 13:54:23 2017-04-23 12:37:56  72.0   \n",
       "2  0001f552b0          NaN  2017-06-30 19:20:38 2018-08-28 12:59:45  33.0   \n",
       "3  00020e7b18          NaN  2017-11-27 11:41:45 2018-01-10 17:50:05  73.0   \n",
       "4  000220a0a7          NaN  2017-12-09 17:26:20 2018-10-04 14:59:29  45.0   \n",
       "\n",
       "   gender  first_reedem_ts       last_ts  pred_last_ts  \n",
       "0       0     1.515094e+09  1.552576e+09  1.552040e+09  \n",
       "1       2     1.492951e+09  1.552819e+09  1.552127e+09  \n",
       "2       2     1.535461e+09  1.552734e+09  1.552559e+09  \n",
       "3       0     1.515607e+09  1.552651e+09  1.552550e+09  \n",
       "4       1     1.538665e+09  1.552409e+09  1.552322e+09  "
      ]
     },
     "metadata": {},
     "execution_count": 148
    }
   ],
   "metadata": {}
  },
  {
   "cell_type": "code",
   "execution_count": 149,
   "source": [
    "clients_df['first_issue_date'] = pd.to_datetime(clients_df['first_issue_date'], errors='coerce')\r\n",
    "clients_df['first_issue_ts'] = clients_df.first_issue_date.values.view('int64')/(1e9)"
   ],
   "outputs": [],
   "metadata": {}
  },
  {
   "cell_type": "code",
   "execution_count": 150,
   "source": [
    "clients_df['days_own_bc'] = (clients_df.pred_last_ts - clients_df.first_issue_ts) / (24*60*60)"
   ],
   "outputs": [],
   "metadata": {}
  },
  {
   "cell_type": "code",
   "execution_count": 151,
   "source": [
    "clients_df.head()"
   ],
   "outputs": [
    {
     "output_type": "execute_result",
     "data": {
      "text/html": [
       "<div>\n",
       "<style scoped>\n",
       "    .dataframe tbody tr th:only-of-type {\n",
       "        vertical-align: middle;\n",
       "    }\n",
       "\n",
       "    .dataframe tbody tr th {\n",
       "        vertical-align: top;\n",
       "    }\n",
       "\n",
       "    .dataframe thead th {\n",
       "        text-align: right;\n",
       "    }\n",
       "</style>\n",
       "<table border=\"1\" class=\"dataframe\">\n",
       "  <thead>\n",
       "    <tr style=\"text-align: right;\">\n",
       "      <th></th>\n",
       "      <th>client_id</th>\n",
       "      <th>client_id.1</th>\n",
       "      <th>first_issue_date</th>\n",
       "      <th>first_redeem_date</th>\n",
       "      <th>age</th>\n",
       "      <th>gender</th>\n",
       "      <th>first_reedem_ts</th>\n",
       "      <th>last_ts</th>\n",
       "      <th>pred_last_ts</th>\n",
       "      <th>first_issue_ts</th>\n",
       "      <th>days_own_bc</th>\n",
       "    </tr>\n",
       "  </thead>\n",
       "  <tbody>\n",
       "    <tr>\n",
       "      <th>0</th>\n",
       "      <td>000012768d</td>\n",
       "      <td>NaN</td>\n",
       "      <td>2017-08-05 15:40:48</td>\n",
       "      <td>2018-01-04 19:30:07</td>\n",
       "      <td>45.0</td>\n",
       "      <td>0</td>\n",
       "      <td>1.515094e+09</td>\n",
       "      <td>1.552576e+09</td>\n",
       "      <td>1.552040e+09</td>\n",
       "      <td>1.501948e+09</td>\n",
       "      <td>579.771701</td>\n",
       "    </tr>\n",
       "    <tr>\n",
       "      <th>1</th>\n",
       "      <td>000036f903</td>\n",
       "      <td>NaN</td>\n",
       "      <td>2017-04-10 13:54:23</td>\n",
       "      <td>2017-04-23 12:37:56</td>\n",
       "      <td>72.0</td>\n",
       "      <td>2</td>\n",
       "      <td>1.492951e+09</td>\n",
       "      <td>1.552819e+09</td>\n",
       "      <td>1.552127e+09</td>\n",
       "      <td>1.491832e+09</td>\n",
       "      <td>697.855417</td>\n",
       "    </tr>\n",
       "    <tr>\n",
       "      <th>2</th>\n",
       "      <td>0001f552b0</td>\n",
       "      <td>NaN</td>\n",
       "      <td>2017-06-30 19:20:38</td>\n",
       "      <td>2018-08-28 12:59:45</td>\n",
       "      <td>33.0</td>\n",
       "      <td>2</td>\n",
       "      <td>1.535461e+09</td>\n",
       "      <td>1.552734e+09</td>\n",
       "      <td>1.552559e+09</td>\n",
       "      <td>1.498850e+09</td>\n",
       "      <td>621.631053</td>\n",
       "    </tr>\n",
       "    <tr>\n",
       "      <th>3</th>\n",
       "      <td>00020e7b18</td>\n",
       "      <td>NaN</td>\n",
       "      <td>2017-11-27 11:41:45</td>\n",
       "      <td>2018-01-10 17:50:05</td>\n",
       "      <td>73.0</td>\n",
       "      <td>0</td>\n",
       "      <td>1.515607e+09</td>\n",
       "      <td>1.552651e+09</td>\n",
       "      <td>1.552550e+09</td>\n",
       "      <td>1.511783e+09</td>\n",
       "      <td>471.840891</td>\n",
       "    </tr>\n",
       "    <tr>\n",
       "      <th>4</th>\n",
       "      <td>000220a0a7</td>\n",
       "      <td>NaN</td>\n",
       "      <td>2017-12-09 17:26:20</td>\n",
       "      <td>2018-10-04 14:59:29</td>\n",
       "      <td>45.0</td>\n",
       "      <td>1</td>\n",
       "      <td>1.538665e+09</td>\n",
       "      <td>1.552409e+09</td>\n",
       "      <td>1.552322e+09</td>\n",
       "      <td>1.512840e+09</td>\n",
       "      <td>456.968113</td>\n",
       "    </tr>\n",
       "  </tbody>\n",
       "</table>\n",
       "</div>"
      ],
      "text/plain": [
       "    client_id  client_id.1    first_issue_date   first_redeem_date   age  \\\n",
       "0  000012768d          NaN 2017-08-05 15:40:48 2018-01-04 19:30:07  45.0   \n",
       "1  000036f903          NaN 2017-04-10 13:54:23 2017-04-23 12:37:56  72.0   \n",
       "2  0001f552b0          NaN 2017-06-30 19:20:38 2018-08-28 12:59:45  33.0   \n",
       "3  00020e7b18          NaN 2017-11-27 11:41:45 2018-01-10 17:50:05  73.0   \n",
       "4  000220a0a7          NaN 2017-12-09 17:26:20 2018-10-04 14:59:29  45.0   \n",
       "\n",
       "   gender  first_reedem_ts       last_ts  pred_last_ts  first_issue_ts  \\\n",
       "0       0     1.515094e+09  1.552576e+09  1.552040e+09    1.501948e+09   \n",
       "1       2     1.492951e+09  1.552819e+09  1.552127e+09    1.491832e+09   \n",
       "2       2     1.535461e+09  1.552734e+09  1.552559e+09    1.498850e+09   \n",
       "3       0     1.515607e+09  1.552651e+09  1.552550e+09    1.511783e+09   \n",
       "4       1     1.538665e+09  1.552409e+09  1.552322e+09    1.512840e+09   \n",
       "\n",
       "   days_own_bc  \n",
       "0   579.771701  \n",
       "1   697.855417  \n",
       "2   621.631053  \n",
       "3   471.840891  \n",
       "4   456.968113  "
      ]
     },
     "metadata": {},
     "execution_count": 151
    }
   ],
   "metadata": {}
  },
  {
   "cell_type": "code",
   "execution_count": 152,
   "source": [
    "clients_df['days_from_last_purch'] = (clients_df.last_ts - clients_df.pred_last_ts) / (24*60*60)"
   ],
   "outputs": [],
   "metadata": {}
  },
  {
   "cell_type": "code",
   "execution_count": 153,
   "source": [
    "clients_df.head()"
   ],
   "outputs": [
    {
     "output_type": "execute_result",
     "data": {
      "text/html": [
       "<div>\n",
       "<style scoped>\n",
       "    .dataframe tbody tr th:only-of-type {\n",
       "        vertical-align: middle;\n",
       "    }\n",
       "\n",
       "    .dataframe tbody tr th {\n",
       "        vertical-align: top;\n",
       "    }\n",
       "\n",
       "    .dataframe thead th {\n",
       "        text-align: right;\n",
       "    }\n",
       "</style>\n",
       "<table border=\"1\" class=\"dataframe\">\n",
       "  <thead>\n",
       "    <tr style=\"text-align: right;\">\n",
       "      <th></th>\n",
       "      <th>client_id</th>\n",
       "      <th>client_id.1</th>\n",
       "      <th>first_issue_date</th>\n",
       "      <th>first_redeem_date</th>\n",
       "      <th>age</th>\n",
       "      <th>gender</th>\n",
       "      <th>first_reedem_ts</th>\n",
       "      <th>last_ts</th>\n",
       "      <th>pred_last_ts</th>\n",
       "      <th>first_issue_ts</th>\n",
       "      <th>days_own_bc</th>\n",
       "      <th>days_from_last_purch</th>\n",
       "    </tr>\n",
       "  </thead>\n",
       "  <tbody>\n",
       "    <tr>\n",
       "      <th>0</th>\n",
       "      <td>000012768d</td>\n",
       "      <td>NaN</td>\n",
       "      <td>2017-08-05 15:40:48</td>\n",
       "      <td>2018-01-04 19:30:07</td>\n",
       "      <td>45.0</td>\n",
       "      <td>0</td>\n",
       "      <td>1.515094e+09</td>\n",
       "      <td>1.552576e+09</td>\n",
       "      <td>1.552040e+09</td>\n",
       "      <td>1.501948e+09</td>\n",
       "      <td>579.771701</td>\n",
       "      <td>6.201204</td>\n",
       "    </tr>\n",
       "    <tr>\n",
       "      <th>1</th>\n",
       "      <td>000036f903</td>\n",
       "      <td>NaN</td>\n",
       "      <td>2017-04-10 13:54:23</td>\n",
       "      <td>2017-04-23 12:37:56</td>\n",
       "      <td>72.0</td>\n",
       "      <td>2</td>\n",
       "      <td>1.492951e+09</td>\n",
       "      <td>1.552819e+09</td>\n",
       "      <td>1.552127e+09</td>\n",
       "      <td>1.491832e+09</td>\n",
       "      <td>697.855417</td>\n",
       "      <td>8.002384</td>\n",
       "    </tr>\n",
       "    <tr>\n",
       "      <th>2</th>\n",
       "      <td>0001f552b0</td>\n",
       "      <td>NaN</td>\n",
       "      <td>2017-06-30 19:20:38</td>\n",
       "      <td>2018-08-28 12:59:45</td>\n",
       "      <td>33.0</td>\n",
       "      <td>2</td>\n",
       "      <td>1.535461e+09</td>\n",
       "      <td>1.552734e+09</td>\n",
       "      <td>1.552559e+09</td>\n",
       "      <td>1.498850e+09</td>\n",
       "      <td>621.631053</td>\n",
       "      <td>2.017141</td>\n",
       "    </tr>\n",
       "    <tr>\n",
       "      <th>3</th>\n",
       "      <td>00020e7b18</td>\n",
       "      <td>NaN</td>\n",
       "      <td>2017-11-27 11:41:45</td>\n",
       "      <td>2018-01-10 17:50:05</td>\n",
       "      <td>73.0</td>\n",
       "      <td>0</td>\n",
       "      <td>1.515607e+09</td>\n",
       "      <td>1.552651e+09</td>\n",
       "      <td>1.552550e+09</td>\n",
       "      <td>1.511783e+09</td>\n",
       "      <td>471.840891</td>\n",
       "      <td>1.174826</td>\n",
       "    </tr>\n",
       "    <tr>\n",
       "      <th>4</th>\n",
       "      <td>000220a0a7</td>\n",
       "      <td>NaN</td>\n",
       "      <td>2017-12-09 17:26:20</td>\n",
       "      <td>2018-10-04 14:59:29</td>\n",
       "      <td>45.0</td>\n",
       "      <td>1</td>\n",
       "      <td>1.538665e+09</td>\n",
       "      <td>1.552409e+09</td>\n",
       "      <td>1.552322e+09</td>\n",
       "      <td>1.512840e+09</td>\n",
       "      <td>456.968113</td>\n",
       "      <td>1.002986</td>\n",
       "    </tr>\n",
       "  </tbody>\n",
       "</table>\n",
       "</div>"
      ],
      "text/plain": [
       "    client_id  client_id.1    first_issue_date   first_redeem_date   age  \\\n",
       "0  000012768d          NaN 2017-08-05 15:40:48 2018-01-04 19:30:07  45.0   \n",
       "1  000036f903          NaN 2017-04-10 13:54:23 2017-04-23 12:37:56  72.0   \n",
       "2  0001f552b0          NaN 2017-06-30 19:20:38 2018-08-28 12:59:45  33.0   \n",
       "3  00020e7b18          NaN 2017-11-27 11:41:45 2018-01-10 17:50:05  73.0   \n",
       "4  000220a0a7          NaN 2017-12-09 17:26:20 2018-10-04 14:59:29  45.0   \n",
       "\n",
       "   gender  first_reedem_ts       last_ts  pred_last_ts  first_issue_ts  \\\n",
       "0       0     1.515094e+09  1.552576e+09  1.552040e+09    1.501948e+09   \n",
       "1       2     1.492951e+09  1.552819e+09  1.552127e+09    1.491832e+09   \n",
       "2       2     1.535461e+09  1.552734e+09  1.552559e+09    1.498850e+09   \n",
       "3       0     1.515607e+09  1.552651e+09  1.552550e+09    1.511783e+09   \n",
       "4       1     1.538665e+09  1.552409e+09  1.552322e+09    1.512840e+09   \n",
       "\n",
       "   days_own_bc  days_from_last_purch  \n",
       "0   579.771701              6.201204  \n",
       "1   697.855417              8.002384  \n",
       "2   621.631053              2.017141  \n",
       "3   471.840891              1.174826  \n",
       "4   456.968113              1.002986  "
      ]
     },
     "metadata": {},
     "execution_count": 153
    }
   ],
   "metadata": {}
  },
  {
   "cell_type": "code",
   "execution_count": 116,
   "source": [
    "clients_df.loc[clients_df.days_from_last_purch < 0]"
   ],
   "outputs": [
    {
     "output_type": "execute_result",
     "data": {
      "text/html": [
       "<div>\n",
       "<style scoped>\n",
       "    .dataframe tbody tr th:only-of-type {\n",
       "        vertical-align: middle;\n",
       "    }\n",
       "\n",
       "    .dataframe tbody tr th {\n",
       "        vertical-align: top;\n",
       "    }\n",
       "\n",
       "    .dataframe thead th {\n",
       "        text-align: right;\n",
       "    }\n",
       "</style>\n",
       "<table border=\"1\" class=\"dataframe\">\n",
       "  <thead>\n",
       "    <tr style=\"text-align: right;\">\n",
       "      <th></th>\n",
       "      <th>client_id</th>\n",
       "      <th>client_id.1</th>\n",
       "      <th>first_issue_date</th>\n",
       "      <th>first_redeem_date</th>\n",
       "      <th>age</th>\n",
       "      <th>gender</th>\n",
       "      <th>first_reedem_ts</th>\n",
       "      <th>last_ts</th>\n",
       "      <th>pred_last_ts</th>\n",
       "      <th>first_issue_ts</th>\n",
       "      <th>days_own_bc</th>\n",
       "      <th>days_from_last_purch</th>\n",
       "    </tr>\n",
       "  </thead>\n",
       "  <tbody>\n",
       "  </tbody>\n",
       "</table>\n",
       "</div>"
      ],
      "text/plain": [
       "Empty DataFrame\n",
       "Columns: [client_id, client_id.1, first_issue_date, first_redeem_date, age, gender, first_reedem_ts, last_ts, pred_last_ts, first_issue_ts, days_own_bc, days_from_last_purch]\n",
       "Index: []"
      ]
     },
     "metadata": {},
     "execution_count": 116
    }
   ],
   "metadata": {}
  },
  {
   "cell_type": "code",
   "execution_count": 46,
   "source": [
    "prods_data = pd.read_csv('data/products.csv')"
   ],
   "outputs": [],
   "metadata": {}
  },
  {
   "cell_type": "code",
   "execution_count": 47,
   "source": [
    "prods_data.head()"
   ],
   "outputs": [
    {
     "output_type": "execute_result",
     "data": {
      "text/html": [
       "<div>\n",
       "<style scoped>\n",
       "    .dataframe tbody tr th:only-of-type {\n",
       "        vertical-align: middle;\n",
       "    }\n",
       "\n",
       "    .dataframe tbody tr th {\n",
       "        vertical-align: top;\n",
       "    }\n",
       "\n",
       "    .dataframe thead th {\n",
       "        text-align: right;\n",
       "    }\n",
       "</style>\n",
       "<table border=\"1\" class=\"dataframe\">\n",
       "  <thead>\n",
       "    <tr style=\"text-align: right;\">\n",
       "      <th></th>\n",
       "      <th>product_id</th>\n",
       "      <th>level_1</th>\n",
       "      <th>level_2</th>\n",
       "      <th>level_3</th>\n",
       "      <th>level_4</th>\n",
       "      <th>segment_id</th>\n",
       "      <th>brand_id</th>\n",
       "      <th>vendor_id</th>\n",
       "      <th>netto</th>\n",
       "      <th>is_own_trademark</th>\n",
       "      <th>is_alcohol</th>\n",
       "    </tr>\n",
       "  </thead>\n",
       "  <tbody>\n",
       "    <tr>\n",
       "      <th>0</th>\n",
       "      <td>0003020d3c</td>\n",
       "      <td>c3d3a8e8c6</td>\n",
       "      <td>c2a3ea8d5e</td>\n",
       "      <td>b7cda0ec0c</td>\n",
       "      <td>6376f2a852</td>\n",
       "      <td>123.0</td>\n",
       "      <td>394a54a7c1</td>\n",
       "      <td>9eaff48661</td>\n",
       "      <td>0.400</td>\n",
       "      <td>0</td>\n",
       "      <td>0</td>\n",
       "    </tr>\n",
       "    <tr>\n",
       "      <th>1</th>\n",
       "      <td>0003870676</td>\n",
       "      <td>e344ab2e71</td>\n",
       "      <td>52f13dac0c</td>\n",
       "      <td>d3cfe81323</td>\n",
       "      <td>6dc544533f</td>\n",
       "      <td>105.0</td>\n",
       "      <td>acd3dd483f</td>\n",
       "      <td>10486c3cf0</td>\n",
       "      <td>0.680</td>\n",
       "      <td>0</td>\n",
       "      <td>0</td>\n",
       "    </tr>\n",
       "    <tr>\n",
       "      <th>2</th>\n",
       "      <td>0003ceaf69</td>\n",
       "      <td>c3d3a8e8c6</td>\n",
       "      <td>f2333c90fb</td>\n",
       "      <td>419bc5b424</td>\n",
       "      <td>f6148afbc0</td>\n",
       "      <td>271.0</td>\n",
       "      <td>f597581079</td>\n",
       "      <td>764e660dda</td>\n",
       "      <td>0.500</td>\n",
       "      <td>0</td>\n",
       "      <td>0</td>\n",
       "    </tr>\n",
       "    <tr>\n",
       "      <th>3</th>\n",
       "      <td>000701e093</td>\n",
       "      <td>ec62ce61e3</td>\n",
       "      <td>4202626fcb</td>\n",
       "      <td>88a515c084</td>\n",
       "      <td>48cf3d488f</td>\n",
       "      <td>172.0</td>\n",
       "      <td>54a90fe769</td>\n",
       "      <td>03c2d70bad</td>\n",
       "      <td>0.112</td>\n",
       "      <td>0</td>\n",
       "      <td>0</td>\n",
       "    </tr>\n",
       "    <tr>\n",
       "      <th>4</th>\n",
       "      <td>0007149564</td>\n",
       "      <td>e344ab2e71</td>\n",
       "      <td>52f13dac0c</td>\n",
       "      <td>d3cfe81323</td>\n",
       "      <td>6dc544533f</td>\n",
       "      <td>105.0</td>\n",
       "      <td>63417fe1f3</td>\n",
       "      <td>f329130198</td>\n",
       "      <td>0.600</td>\n",
       "      <td>0</td>\n",
       "      <td>0</td>\n",
       "    </tr>\n",
       "  </tbody>\n",
       "</table>\n",
       "</div>"
      ],
      "text/plain": [
       "   product_id     level_1     level_2     level_3     level_4  segment_id  \\\n",
       "0  0003020d3c  c3d3a8e8c6  c2a3ea8d5e  b7cda0ec0c  6376f2a852       123.0   \n",
       "1  0003870676  e344ab2e71  52f13dac0c  d3cfe81323  6dc544533f       105.0   \n",
       "2  0003ceaf69  c3d3a8e8c6  f2333c90fb  419bc5b424  f6148afbc0       271.0   \n",
       "3  000701e093  ec62ce61e3  4202626fcb  88a515c084  48cf3d488f       172.0   \n",
       "4  0007149564  e344ab2e71  52f13dac0c  d3cfe81323  6dc544533f       105.0   \n",
       "\n",
       "     brand_id   vendor_id  netto  is_own_trademark  is_alcohol  \n",
       "0  394a54a7c1  9eaff48661  0.400                 0           0  \n",
       "1  acd3dd483f  10486c3cf0  0.680                 0           0  \n",
       "2  f597581079  764e660dda  0.500                 0           0  \n",
       "3  54a90fe769  03c2d70bad  0.112                 0           0  \n",
       "4  63417fe1f3  f329130198  0.600                 0           0  "
      ]
     },
     "metadata": {},
     "execution_count": 47
    }
   ],
   "metadata": {}
  },
  {
   "cell_type": "code",
   "execution_count": 48,
   "source": [
    "count_of_prds = train_purch_df.groupby('product_id', as_index=False).client_id.count()"
   ],
   "outputs": [],
   "metadata": {}
  },
  {
   "cell_type": "code",
   "execution_count": 49,
   "source": [
    "count_of_prds = count_of_prds.merge(prods_data.loc[:,['product_id', 'is_own_trademark', 'is_alcohol']], on='product_id', how='inner')"
   ],
   "outputs": [],
   "metadata": {}
  },
  {
   "cell_type": "code",
   "execution_count": 50,
   "source": [
    "count_of_prds = count_of_prds.rename(columns={'client_id':'purchases'})"
   ],
   "outputs": [],
   "metadata": {}
  },
  {
   "cell_type": "code",
   "execution_count": 51,
   "source": [
    "count_of_prds.head()"
   ],
   "outputs": [
    {
     "output_type": "execute_result",
     "data": {
      "text/html": [
       "<div>\n",
       "<style scoped>\n",
       "    .dataframe tbody tr th:only-of-type {\n",
       "        vertical-align: middle;\n",
       "    }\n",
       "\n",
       "    .dataframe tbody tr th {\n",
       "        vertical-align: top;\n",
       "    }\n",
       "\n",
       "    .dataframe thead th {\n",
       "        text-align: right;\n",
       "    }\n",
       "</style>\n",
       "<table border=\"1\" class=\"dataframe\">\n",
       "  <thead>\n",
       "    <tr style=\"text-align: right;\">\n",
       "      <th></th>\n",
       "      <th>product_id</th>\n",
       "      <th>purchases</th>\n",
       "      <th>is_own_trademark</th>\n",
       "      <th>is_alcohol</th>\n",
       "    </tr>\n",
       "  </thead>\n",
       "  <tbody>\n",
       "    <tr>\n",
       "      <th>0</th>\n",
       "      <td>0003870676</td>\n",
       "      <td>129</td>\n",
       "      <td>0</td>\n",
       "      <td>0</td>\n",
       "    </tr>\n",
       "    <tr>\n",
       "      <th>1</th>\n",
       "      <td>0003ceaf69</td>\n",
       "      <td>17</td>\n",
       "      <td>0</td>\n",
       "      <td>0</td>\n",
       "    </tr>\n",
       "    <tr>\n",
       "      <th>2</th>\n",
       "      <td>000701e093</td>\n",
       "      <td>52</td>\n",
       "      <td>0</td>\n",
       "      <td>0</td>\n",
       "    </tr>\n",
       "    <tr>\n",
       "      <th>3</th>\n",
       "      <td>0007149564</td>\n",
       "      <td>22</td>\n",
       "      <td>0</td>\n",
       "      <td>0</td>\n",
       "    </tr>\n",
       "    <tr>\n",
       "      <th>4</th>\n",
       "      <td>0008bf7786</td>\n",
       "      <td>1</td>\n",
       "      <td>0</td>\n",
       "      <td>1</td>\n",
       "    </tr>\n",
       "  </tbody>\n",
       "</table>\n",
       "</div>"
      ],
      "text/plain": [
       "   product_id  purchases  is_own_trademark  is_alcohol\n",
       "0  0003870676        129                 0           0\n",
       "1  0003ceaf69         17                 0           0\n",
       "2  000701e093         52                 0           0\n",
       "3  0007149564         22                 0           0\n",
       "4  0008bf7786          1                 0           1"
      ]
     },
     "metadata": {},
     "execution_count": 51
    }
   ],
   "metadata": {}
  },
  {
   "cell_type": "code",
   "execution_count": 52,
   "source": [
    "train_purch_df.client_id.count()"
   ],
   "outputs": [
    {
     "output_type": "execute_result",
     "data": {
      "text/plain": [
       "15998952"
      ]
     },
     "metadata": {},
     "execution_count": 52
    }
   ],
   "metadata": {}
  },
  {
   "cell_type": "code",
   "execution_count": 53,
   "source": [
    "train_purch_df = train_purch_df.merge(count_of_prds.loc[:, ['product_id', 'is_own_trademark', 'is_alcohol']], on='product_id', how='outer')"
   ],
   "outputs": [],
   "metadata": {}
  },
  {
   "cell_type": "code",
   "execution_count": 54,
   "source": [
    "train_purch_df.client_id.count()"
   ],
   "outputs": [
    {
     "output_type": "execute_result",
     "data": {
      "text/plain": [
       "15998952"
      ]
     },
     "metadata": {},
     "execution_count": 54
    }
   ],
   "metadata": {}
  },
  {
   "cell_type": "code",
   "execution_count": 55,
   "source": [
    "# is_purch_own_prds = train_purch_df.groupby('client_id', as_index=False).is_own_trademark.max()"
   ],
   "outputs": [],
   "metadata": {}
  },
  {
   "cell_type": "code",
   "execution_count": 56,
   "source": [
    "# is_purch_own_prds.head()"
   ],
   "outputs": [
    {
     "output_type": "execute_result",
     "data": {
      "text/html": [
       "<div>\n",
       "<style scoped>\n",
       "    .dataframe tbody tr th:only-of-type {\n",
       "        vertical-align: middle;\n",
       "    }\n",
       "\n",
       "    .dataframe tbody tr th {\n",
       "        vertical-align: top;\n",
       "    }\n",
       "\n",
       "    .dataframe thead th {\n",
       "        text-align: right;\n",
       "    }\n",
       "</style>\n",
       "<table border=\"1\" class=\"dataframe\">\n",
       "  <thead>\n",
       "    <tr style=\"text-align: right;\">\n",
       "      <th></th>\n",
       "      <th>client_id</th>\n",
       "      <th>is_own_trademark</th>\n",
       "    </tr>\n",
       "  </thead>\n",
       "  <tbody>\n",
       "    <tr>\n",
       "      <th>0</th>\n",
       "      <td>000012768d</td>\n",
       "      <td>1</td>\n",
       "    </tr>\n",
       "    <tr>\n",
       "      <th>1</th>\n",
       "      <td>000036f903</td>\n",
       "      <td>1</td>\n",
       "    </tr>\n",
       "    <tr>\n",
       "      <th>2</th>\n",
       "      <td>0001f552b0</td>\n",
       "      <td>1</td>\n",
       "    </tr>\n",
       "    <tr>\n",
       "      <th>3</th>\n",
       "      <td>00020e7b18</td>\n",
       "      <td>1</td>\n",
       "    </tr>\n",
       "    <tr>\n",
       "      <th>4</th>\n",
       "      <td>000220a0a7</td>\n",
       "      <td>1</td>\n",
       "    </tr>\n",
       "  </tbody>\n",
       "</table>\n",
       "</div>"
      ],
      "text/plain": [
       "    client_id  is_own_trademark\n",
       "0  000012768d                 1\n",
       "1  000036f903                 1\n",
       "2  0001f552b0                 1\n",
       "3  00020e7b18                 1\n",
       "4  000220a0a7                 1"
      ]
     },
     "metadata": {},
     "execution_count": 56
    }
   ],
   "metadata": {}
  },
  {
   "cell_type": "code",
   "execution_count": 154,
   "source": [
    "# clients_df = clients_df.merge(is_purch_own_prds, how='outer')"
   ],
   "outputs": [],
   "metadata": {}
  },
  {
   "cell_type": "code",
   "execution_count": 155,
   "source": [
    "# clients_df = clients_df.rename(columns={'is_own_trademark':'purched_own_tm'})"
   ],
   "outputs": [],
   "metadata": {}
  },
  {
   "cell_type": "code",
   "execution_count": 156,
   "source": [
    "# clients_df.head()c"
   ],
   "outputs": [
    {
     "output_type": "execute_result",
     "data": {
      "text/html": [
       "<div>\n",
       "<style scoped>\n",
       "    .dataframe tbody tr th:only-of-type {\n",
       "        vertical-align: middle;\n",
       "    }\n",
       "\n",
       "    .dataframe tbody tr th {\n",
       "        vertical-align: top;\n",
       "    }\n",
       "\n",
       "    .dataframe thead th {\n",
       "        text-align: right;\n",
       "    }\n",
       "</style>\n",
       "<table border=\"1\" class=\"dataframe\">\n",
       "  <thead>\n",
       "    <tr style=\"text-align: right;\">\n",
       "      <th></th>\n",
       "      <th>client_id</th>\n",
       "      <th>client_id.1</th>\n",
       "      <th>first_issue_date</th>\n",
       "      <th>first_redeem_date</th>\n",
       "      <th>age</th>\n",
       "      <th>gender</th>\n",
       "      <th>first_reedem_ts</th>\n",
       "      <th>last_ts</th>\n",
       "      <th>pred_last_ts</th>\n",
       "      <th>first_issue_ts</th>\n",
       "      <th>days_own_bc</th>\n",
       "      <th>days_from_last_purch</th>\n",
       "      <th>purched_own_tm</th>\n",
       "    </tr>\n",
       "  </thead>\n",
       "  <tbody>\n",
       "    <tr>\n",
       "      <th>0</th>\n",
       "      <td>000012768d</td>\n",
       "      <td>NaN</td>\n",
       "      <td>2017-08-05 15:40:48</td>\n",
       "      <td>2018-01-04 19:30:07</td>\n",
       "      <td>45.0</td>\n",
       "      <td>0</td>\n",
       "      <td>1.515094e+09</td>\n",
       "      <td>1.552576e+09</td>\n",
       "      <td>1.552040e+09</td>\n",
       "      <td>1.501948e+09</td>\n",
       "      <td>579.771701</td>\n",
       "      <td>6.201204</td>\n",
       "      <td>1</td>\n",
       "    </tr>\n",
       "    <tr>\n",
       "      <th>1</th>\n",
       "      <td>000036f903</td>\n",
       "      <td>NaN</td>\n",
       "      <td>2017-04-10 13:54:23</td>\n",
       "      <td>2017-04-23 12:37:56</td>\n",
       "      <td>72.0</td>\n",
       "      <td>2</td>\n",
       "      <td>1.492951e+09</td>\n",
       "      <td>1.552819e+09</td>\n",
       "      <td>1.552127e+09</td>\n",
       "      <td>1.491832e+09</td>\n",
       "      <td>697.855417</td>\n",
       "      <td>8.002384</td>\n",
       "      <td>1</td>\n",
       "    </tr>\n",
       "    <tr>\n",
       "      <th>2</th>\n",
       "      <td>0001f552b0</td>\n",
       "      <td>NaN</td>\n",
       "      <td>2017-06-30 19:20:38</td>\n",
       "      <td>2018-08-28 12:59:45</td>\n",
       "      <td>33.0</td>\n",
       "      <td>2</td>\n",
       "      <td>1.535461e+09</td>\n",
       "      <td>1.552734e+09</td>\n",
       "      <td>1.552559e+09</td>\n",
       "      <td>1.498850e+09</td>\n",
       "      <td>621.631053</td>\n",
       "      <td>2.017141</td>\n",
       "      <td>1</td>\n",
       "    </tr>\n",
       "    <tr>\n",
       "      <th>3</th>\n",
       "      <td>00020e7b18</td>\n",
       "      <td>NaN</td>\n",
       "      <td>2017-11-27 11:41:45</td>\n",
       "      <td>2018-01-10 17:50:05</td>\n",
       "      <td>73.0</td>\n",
       "      <td>0</td>\n",
       "      <td>1.515607e+09</td>\n",
       "      <td>1.552651e+09</td>\n",
       "      <td>1.552550e+09</td>\n",
       "      <td>1.511783e+09</td>\n",
       "      <td>471.840891</td>\n",
       "      <td>1.174826</td>\n",
       "      <td>1</td>\n",
       "    </tr>\n",
       "    <tr>\n",
       "      <th>4</th>\n",
       "      <td>000220a0a7</td>\n",
       "      <td>NaN</td>\n",
       "      <td>2017-12-09 17:26:20</td>\n",
       "      <td>2018-10-04 14:59:29</td>\n",
       "      <td>45.0</td>\n",
       "      <td>1</td>\n",
       "      <td>1.538665e+09</td>\n",
       "      <td>1.552409e+09</td>\n",
       "      <td>1.552322e+09</td>\n",
       "      <td>1.512840e+09</td>\n",
       "      <td>456.968113</td>\n",
       "      <td>1.002986</td>\n",
       "      <td>1</td>\n",
       "    </tr>\n",
       "  </tbody>\n",
       "</table>\n",
       "</div>"
      ],
      "text/plain": [
       "    client_id  client_id.1    first_issue_date   first_redeem_date   age  \\\n",
       "0  000012768d          NaN 2017-08-05 15:40:48 2018-01-04 19:30:07  45.0   \n",
       "1  000036f903          NaN 2017-04-10 13:54:23 2017-04-23 12:37:56  72.0   \n",
       "2  0001f552b0          NaN 2017-06-30 19:20:38 2018-08-28 12:59:45  33.0   \n",
       "3  00020e7b18          NaN 2017-11-27 11:41:45 2018-01-10 17:50:05  73.0   \n",
       "4  000220a0a7          NaN 2017-12-09 17:26:20 2018-10-04 14:59:29  45.0   \n",
       "\n",
       "   gender  first_reedem_ts       last_ts  pred_last_ts  first_issue_ts  \\\n",
       "0       0     1.515094e+09  1.552576e+09  1.552040e+09    1.501948e+09   \n",
       "1       2     1.492951e+09  1.552819e+09  1.552127e+09    1.491832e+09   \n",
       "2       2     1.535461e+09  1.552734e+09  1.552559e+09    1.498850e+09   \n",
       "3       0     1.515607e+09  1.552651e+09  1.552550e+09    1.511783e+09   \n",
       "4       1     1.538665e+09  1.552409e+09  1.552322e+09    1.512840e+09   \n",
       "\n",
       "   days_own_bc  days_from_last_purch  purched_own_tm  \n",
       "0   579.771701              6.201204               1  \n",
       "1   697.855417              8.002384               1  \n",
       "2   621.631053              2.017141               1  \n",
       "3   471.840891              1.174826               1  \n",
       "4   456.968113              1.002986               1  "
      ]
     },
     "metadata": {},
     "execution_count": 156
    }
   ],
   "metadata": {}
  },
  {
   "cell_type": "code",
   "execution_count": 60,
   "source": [
    "sum_of_purch = train_purch_df.loc[train_purch_df.ts == train_purch_df.last_ts].groupby('client_id', as_index=False).purchase_sum.mean()"
   ],
   "outputs": [],
   "metadata": {}
  },
  {
   "cell_type": "code",
   "execution_count": 61,
   "source": [
    "sum_of_purch.head()"
   ],
   "outputs": [
    {
     "output_type": "execute_result",
     "data": {
      "text/html": [
       "<div>\n",
       "<style scoped>\n",
       "    .dataframe tbody tr th:only-of-type {\n",
       "        vertical-align: middle;\n",
       "    }\n",
       "\n",
       "    .dataframe tbody tr th {\n",
       "        vertical-align: top;\n",
       "    }\n",
       "\n",
       "    .dataframe thead th {\n",
       "        text-align: right;\n",
       "    }\n",
       "</style>\n",
       "<table border=\"1\" class=\"dataframe\">\n",
       "  <thead>\n",
       "    <tr style=\"text-align: right;\">\n",
       "      <th></th>\n",
       "      <th>client_id</th>\n",
       "      <th>purchase_sum</th>\n",
       "    </tr>\n",
       "  </thead>\n",
       "  <tbody>\n",
       "    <tr>\n",
       "      <th>0</th>\n",
       "      <td>000012768d</td>\n",
       "      <td>419.00</td>\n",
       "    </tr>\n",
       "    <tr>\n",
       "      <th>1</th>\n",
       "      <td>000036f903</td>\n",
       "      <td>329.00</td>\n",
       "    </tr>\n",
       "    <tr>\n",
       "      <th>2</th>\n",
       "      <td>0001f552b0</td>\n",
       "      <td>511.84</td>\n",
       "    </tr>\n",
       "    <tr>\n",
       "      <th>3</th>\n",
       "      <td>00020e7b18</td>\n",
       "      <td>89.00</td>\n",
       "    </tr>\n",
       "    <tr>\n",
       "      <th>4</th>\n",
       "      <td>000220a0a7</td>\n",
       "      <td>731.98</td>\n",
       "    </tr>\n",
       "  </tbody>\n",
       "</table>\n",
       "</div>"
      ],
      "text/plain": [
       "    client_id  purchase_sum\n",
       "0  000012768d        419.00\n",
       "1  000036f903        329.00\n",
       "2  0001f552b0        511.84\n",
       "3  00020e7b18         89.00\n",
       "4  000220a0a7        731.98"
      ]
     },
     "metadata": {},
     "execution_count": 61
    }
   ],
   "metadata": {}
  },
  {
   "cell_type": "code",
   "execution_count": 157,
   "source": [
    "clients_df = clients_df.merge(sum_of_purch, how='outer')"
   ],
   "outputs": [],
   "metadata": {}
  },
  {
   "cell_type": "code",
   "execution_count": 158,
   "source": [
    "clients_df.isnull().sum()"
   ],
   "outputs": [
    {
     "output_type": "execute_result",
     "data": {
      "text/plain": [
       "client_id                    0\n",
       "client_id.1             140027\n",
       "first_issue_date             0\n",
       "first_redeem_date        12354\n",
       "age                          0\n",
       "gender                       0\n",
       "first_reedem_ts              0\n",
       "last_ts                      0\n",
       "pred_last_ts                 0\n",
       "first_issue_ts               0\n",
       "days_own_bc                  0\n",
       "days_from_last_purch         0\n",
       "purched_own_tm               0\n",
       "purchase_sum                 0\n",
       "dtype: int64"
      ]
     },
     "metadata": {},
     "execution_count": 158
    }
   ],
   "metadata": {}
  },
  {
   "cell_type": "code",
   "execution_count": 159,
   "source": [
    "clients_df.head()"
   ],
   "outputs": [
    {
     "output_type": "execute_result",
     "data": {
      "text/html": [
       "<div>\n",
       "<style scoped>\n",
       "    .dataframe tbody tr th:only-of-type {\n",
       "        vertical-align: middle;\n",
       "    }\n",
       "\n",
       "    .dataframe tbody tr th {\n",
       "        vertical-align: top;\n",
       "    }\n",
       "\n",
       "    .dataframe thead th {\n",
       "        text-align: right;\n",
       "    }\n",
       "</style>\n",
       "<table border=\"1\" class=\"dataframe\">\n",
       "  <thead>\n",
       "    <tr style=\"text-align: right;\">\n",
       "      <th></th>\n",
       "      <th>client_id</th>\n",
       "      <th>client_id.1</th>\n",
       "      <th>first_issue_date</th>\n",
       "      <th>first_redeem_date</th>\n",
       "      <th>age</th>\n",
       "      <th>gender</th>\n",
       "      <th>first_reedem_ts</th>\n",
       "      <th>last_ts</th>\n",
       "      <th>pred_last_ts</th>\n",
       "      <th>first_issue_ts</th>\n",
       "      <th>days_own_bc</th>\n",
       "      <th>days_from_last_purch</th>\n",
       "      <th>purched_own_tm</th>\n",
       "      <th>purchase_sum</th>\n",
       "    </tr>\n",
       "  </thead>\n",
       "  <tbody>\n",
       "    <tr>\n",
       "      <th>0</th>\n",
       "      <td>000012768d</td>\n",
       "      <td>NaN</td>\n",
       "      <td>2017-08-05 15:40:48</td>\n",
       "      <td>2018-01-04 19:30:07</td>\n",
       "      <td>45.0</td>\n",
       "      <td>0</td>\n",
       "      <td>1.515094e+09</td>\n",
       "      <td>1.552576e+09</td>\n",
       "      <td>1.552040e+09</td>\n",
       "      <td>1.501948e+09</td>\n",
       "      <td>579.771701</td>\n",
       "      <td>6.201204</td>\n",
       "      <td>1</td>\n",
       "      <td>419.00</td>\n",
       "    </tr>\n",
       "    <tr>\n",
       "      <th>1</th>\n",
       "      <td>000036f903</td>\n",
       "      <td>NaN</td>\n",
       "      <td>2017-04-10 13:54:23</td>\n",
       "      <td>2017-04-23 12:37:56</td>\n",
       "      <td>72.0</td>\n",
       "      <td>2</td>\n",
       "      <td>1.492951e+09</td>\n",
       "      <td>1.552819e+09</td>\n",
       "      <td>1.552127e+09</td>\n",
       "      <td>1.491832e+09</td>\n",
       "      <td>697.855417</td>\n",
       "      <td>8.002384</td>\n",
       "      <td>1</td>\n",
       "      <td>329.00</td>\n",
       "    </tr>\n",
       "    <tr>\n",
       "      <th>2</th>\n",
       "      <td>0001f552b0</td>\n",
       "      <td>NaN</td>\n",
       "      <td>2017-06-30 19:20:38</td>\n",
       "      <td>2018-08-28 12:59:45</td>\n",
       "      <td>33.0</td>\n",
       "      <td>2</td>\n",
       "      <td>1.535461e+09</td>\n",
       "      <td>1.552734e+09</td>\n",
       "      <td>1.552559e+09</td>\n",
       "      <td>1.498850e+09</td>\n",
       "      <td>621.631053</td>\n",
       "      <td>2.017141</td>\n",
       "      <td>1</td>\n",
       "      <td>511.84</td>\n",
       "    </tr>\n",
       "    <tr>\n",
       "      <th>3</th>\n",
       "      <td>00020e7b18</td>\n",
       "      <td>NaN</td>\n",
       "      <td>2017-11-27 11:41:45</td>\n",
       "      <td>2018-01-10 17:50:05</td>\n",
       "      <td>73.0</td>\n",
       "      <td>0</td>\n",
       "      <td>1.515607e+09</td>\n",
       "      <td>1.552651e+09</td>\n",
       "      <td>1.552550e+09</td>\n",
       "      <td>1.511783e+09</td>\n",
       "      <td>471.840891</td>\n",
       "      <td>1.174826</td>\n",
       "      <td>1</td>\n",
       "      <td>89.00</td>\n",
       "    </tr>\n",
       "    <tr>\n",
       "      <th>4</th>\n",
       "      <td>000220a0a7</td>\n",
       "      <td>NaN</td>\n",
       "      <td>2017-12-09 17:26:20</td>\n",
       "      <td>2018-10-04 14:59:29</td>\n",
       "      <td>45.0</td>\n",
       "      <td>1</td>\n",
       "      <td>1.538665e+09</td>\n",
       "      <td>1.552409e+09</td>\n",
       "      <td>1.552322e+09</td>\n",
       "      <td>1.512840e+09</td>\n",
       "      <td>456.968113</td>\n",
       "      <td>1.002986</td>\n",
       "      <td>1</td>\n",
       "      <td>731.98</td>\n",
       "    </tr>\n",
       "  </tbody>\n",
       "</table>\n",
       "</div>"
      ],
      "text/plain": [
       "    client_id  client_id.1    first_issue_date   first_redeem_date   age  \\\n",
       "0  000012768d          NaN 2017-08-05 15:40:48 2018-01-04 19:30:07  45.0   \n",
       "1  000036f903          NaN 2017-04-10 13:54:23 2017-04-23 12:37:56  72.0   \n",
       "2  0001f552b0          NaN 2017-06-30 19:20:38 2018-08-28 12:59:45  33.0   \n",
       "3  00020e7b18          NaN 2017-11-27 11:41:45 2018-01-10 17:50:05  73.0   \n",
       "4  000220a0a7          NaN 2017-12-09 17:26:20 2018-10-04 14:59:29  45.0   \n",
       "\n",
       "   gender  first_reedem_ts       last_ts  pred_last_ts  first_issue_ts  \\\n",
       "0       0     1.515094e+09  1.552576e+09  1.552040e+09    1.501948e+09   \n",
       "1       2     1.492951e+09  1.552819e+09  1.552127e+09    1.491832e+09   \n",
       "2       2     1.535461e+09  1.552734e+09  1.552559e+09    1.498850e+09   \n",
       "3       0     1.515607e+09  1.552651e+09  1.552550e+09    1.511783e+09   \n",
       "4       1     1.538665e+09  1.552409e+09  1.552322e+09    1.512840e+09   \n",
       "\n",
       "   days_own_bc  days_from_last_purch  purched_own_tm  purchase_sum  \n",
       "0   579.771701              6.201204               1        419.00  \n",
       "1   697.855417              8.002384               1        329.00  \n",
       "2   621.631053              2.017141               1        511.84  \n",
       "3   471.840891              1.174826               1         89.00  \n",
       "4   456.968113              1.002986               1        731.98  "
      ]
     },
     "metadata": {},
     "execution_count": 159
    }
   ],
   "metadata": {}
  },
  {
   "cell_type": "code",
   "execution_count": 65,
   "source": [
    "train_purch_df.head()"
   ],
   "outputs": [
    {
     "output_type": "execute_result",
     "data": {
      "text/html": [
       "<div>\n",
       "<style scoped>\n",
       "    .dataframe tbody tr th:only-of-type {\n",
       "        vertical-align: middle;\n",
       "    }\n",
       "\n",
       "    .dataframe tbody tr th {\n",
       "        vertical-align: top;\n",
       "    }\n",
       "\n",
       "    .dataframe thead th {\n",
       "        text-align: right;\n",
       "    }\n",
       "</style>\n",
       "<table border=\"1\" class=\"dataframe\">\n",
       "  <thead>\n",
       "    <tr style=\"text-align: right;\">\n",
       "      <th></th>\n",
       "      <th>client_id</th>\n",
       "      <th>transaction_id</th>\n",
       "      <th>transaction_datetime</th>\n",
       "      <th>regular_points_received</th>\n",
       "      <th>express_points_received</th>\n",
       "      <th>regular_points_spent</th>\n",
       "      <th>express_points_spent</th>\n",
       "      <th>purchase_sum</th>\n",
       "      <th>store_id</th>\n",
       "      <th>product_id</th>\n",
       "      <th>product_quantity</th>\n",
       "      <th>trn_sum_from_iss</th>\n",
       "      <th>trn_sum_from_red</th>\n",
       "      <th>ts</th>\n",
       "      <th>last_ts</th>\n",
       "      <th>is_own_trademark</th>\n",
       "      <th>is_alcohol</th>\n",
       "    </tr>\n",
       "  </thead>\n",
       "  <tbody>\n",
       "    <tr>\n",
       "      <th>0</th>\n",
       "      <td>000012768d</td>\n",
       "      <td>7e3e2e3984</td>\n",
       "      <td>2018-12-01 07:12:45</td>\n",
       "      <td>10.0</td>\n",
       "      <td>0.0</td>\n",
       "      <td>0.0</td>\n",
       "      <td>0.0</td>\n",
       "      <td>1007.00</td>\n",
       "      <td>54a4a11a29</td>\n",
       "      <td>9a80204f78</td>\n",
       "      <td>2.0</td>\n",
       "      <td>80.0</td>\n",
       "      <td>NaN</td>\n",
       "      <td>1.543648e+09</td>\n",
       "      <td>1.552576e+09</td>\n",
       "      <td>0</td>\n",
       "      <td>0</td>\n",
       "    </tr>\n",
       "    <tr>\n",
       "      <th>1</th>\n",
       "      <td>0027aac018</td>\n",
       "      <td>7be996a830</td>\n",
       "      <td>2018-12-08 14:46:14</td>\n",
       "      <td>1.0</td>\n",
       "      <td>0.0</td>\n",
       "      <td>-21.0</td>\n",
       "      <td>0.0</td>\n",
       "      <td>229.00</td>\n",
       "      <td>c72f410eb2</td>\n",
       "      <td>9a80204f78</td>\n",
       "      <td>1.0</td>\n",
       "      <td>36.0</td>\n",
       "      <td>40.0</td>\n",
       "      <td>1.544280e+09</td>\n",
       "      <td>1.552896e+09</td>\n",
       "      <td>0</td>\n",
       "      <td>0</td>\n",
       "    </tr>\n",
       "    <tr>\n",
       "      <th>2</th>\n",
       "      <td>00b19bc224</td>\n",
       "      <td>1001a6e6cb</td>\n",
       "      <td>2019-01-02 14:12:39</td>\n",
       "      <td>4.0</td>\n",
       "      <td>0.0</td>\n",
       "      <td>0.0</td>\n",
       "      <td>0.0</td>\n",
       "      <td>403.49</td>\n",
       "      <td>915aa2a84b</td>\n",
       "      <td>9a80204f78</td>\n",
       "      <td>1.0</td>\n",
       "      <td>40.0</td>\n",
       "      <td>NaN</td>\n",
       "      <td>1.546438e+09</td>\n",
       "      <td>1.552497e+09</td>\n",
       "      <td>0</td>\n",
       "      <td>0</td>\n",
       "    </tr>\n",
       "    <tr>\n",
       "      <th>3</th>\n",
       "      <td>00bb1bb4e8</td>\n",
       "      <td>c79c6f1815</td>\n",
       "      <td>2019-01-03 17:15:43</td>\n",
       "      <td>62.9</td>\n",
       "      <td>0.0</td>\n",
       "      <td>0.0</td>\n",
       "      <td>0.0</td>\n",
       "      <td>6893.00</td>\n",
       "      <td>5ac78637d2</td>\n",
       "      <td>9a80204f78</td>\n",
       "      <td>1.0</td>\n",
       "      <td>51.0</td>\n",
       "      <td>NaN</td>\n",
       "      <td>1.546536e+09</td>\n",
       "      <td>1.552801e+09</td>\n",
       "      <td>0</td>\n",
       "      <td>0</td>\n",
       "    </tr>\n",
       "    <tr>\n",
       "      <th>4</th>\n",
       "      <td>00e38f656d</td>\n",
       "      <td>c85b58be92</td>\n",
       "      <td>2019-03-15 14:37:08</td>\n",
       "      <td>32.5</td>\n",
       "      <td>0.0</td>\n",
       "      <td>-496.0</td>\n",
       "      <td>0.0</td>\n",
       "      <td>4480.00</td>\n",
       "      <td>2151d7db8f</td>\n",
       "      <td>9a80204f78</td>\n",
       "      <td>1.0</td>\n",
       "      <td>48.0</td>\n",
       "      <td>55.0</td>\n",
       "      <td>1.552661e+09</td>\n",
       "      <td>1.552661e+09</td>\n",
       "      <td>0</td>\n",
       "      <td>0</td>\n",
       "    </tr>\n",
       "  </tbody>\n",
       "</table>\n",
       "</div>"
      ],
      "text/plain": [
       "    client_id transaction_id transaction_datetime  regular_points_received  \\\n",
       "0  000012768d     7e3e2e3984  2018-12-01 07:12:45                     10.0   \n",
       "1  0027aac018     7be996a830  2018-12-08 14:46:14                      1.0   \n",
       "2  00b19bc224     1001a6e6cb  2019-01-02 14:12:39                      4.0   \n",
       "3  00bb1bb4e8     c79c6f1815  2019-01-03 17:15:43                     62.9   \n",
       "4  00e38f656d     c85b58be92  2019-03-15 14:37:08                     32.5   \n",
       "\n",
       "   express_points_received  regular_points_spent  express_points_spent  \\\n",
       "0                      0.0                   0.0                   0.0   \n",
       "1                      0.0                 -21.0                   0.0   \n",
       "2                      0.0                   0.0                   0.0   \n",
       "3                      0.0                   0.0                   0.0   \n",
       "4                      0.0                -496.0                   0.0   \n",
       "\n",
       "   purchase_sum    store_id  product_id  product_quantity  trn_sum_from_iss  \\\n",
       "0       1007.00  54a4a11a29  9a80204f78               2.0              80.0   \n",
       "1        229.00  c72f410eb2  9a80204f78               1.0              36.0   \n",
       "2        403.49  915aa2a84b  9a80204f78               1.0              40.0   \n",
       "3       6893.00  5ac78637d2  9a80204f78               1.0              51.0   \n",
       "4       4480.00  2151d7db8f  9a80204f78               1.0              48.0   \n",
       "\n",
       "   trn_sum_from_red            ts       last_ts  is_own_trademark  is_alcohol  \n",
       "0               NaN  1.543648e+09  1.552576e+09                 0           0  \n",
       "1              40.0  1.544280e+09  1.552896e+09                 0           0  \n",
       "2               NaN  1.546438e+09  1.552497e+09                 0           0  \n",
       "3               NaN  1.546536e+09  1.552801e+09                 0           0  \n",
       "4              55.0  1.552661e+09  1.552661e+09                 0           0  "
      ]
     },
     "metadata": {},
     "execution_count": 65
    }
   ],
   "metadata": {}
  },
  {
   "cell_type": "code",
   "execution_count": 66,
   "source": [
    "train_purch_df = train_purch_df.merge(clients_df.loc[:, ['client_id', 'first_reedem_ts']])"
   ],
   "outputs": [],
   "metadata": {}
  },
  {
   "cell_type": "code",
   "execution_count": 67,
   "source": [
    "count_purch_before_fr = train_purch_df.loc[train_purch_df.ts < train_purch_df.first_reedem_ts].groupby('client_id', as_index=False).product_id.count()"
   ],
   "outputs": [],
   "metadata": {}
  },
  {
   "cell_type": "code",
   "execution_count": 68,
   "source": [
    "count_purch_before_fr = count_purch_before_fr.rename(columns={'product_id': 'count_purch_before_fr'})"
   ],
   "outputs": [],
   "metadata": {}
  },
  {
   "cell_type": "code",
   "execution_count": 69,
   "source": [
    "count_purch_after_fr = train_purch_df.loc[train_purch_df.ts >= train_purch_df.first_reedem_ts].groupby('client_id', as_index=False).product_id.count()"
   ],
   "outputs": [],
   "metadata": {}
  },
  {
   "cell_type": "code",
   "execution_count": 70,
   "source": [
    "count_purch_after_fr = count_purch_after_fr.rename(columns={'product_id': 'count_purch_after_fr'})"
   ],
   "outputs": [],
   "metadata": {}
  },
  {
   "cell_type": "code",
   "execution_count": 160,
   "source": [
    "clients_df = clients_df.merge(count_purch_before_fr, how='outer')\r\n",
    "clients_df = clients_df.merge(count_purch_after_fr, how='outer')"
   ],
   "outputs": [],
   "metadata": {}
  },
  {
   "cell_type": "code",
   "execution_count": 122,
   "source": [
    "clients_df.head()"
   ],
   "outputs": [
    {
     "output_type": "execute_result",
     "data": {
      "text/html": [
       "<div>\n",
       "<style scoped>\n",
       "    .dataframe tbody tr th:only-of-type {\n",
       "        vertical-align: middle;\n",
       "    }\n",
       "\n",
       "    .dataframe tbody tr th {\n",
       "        vertical-align: top;\n",
       "    }\n",
       "\n",
       "    .dataframe thead th {\n",
       "        text-align: right;\n",
       "    }\n",
       "</style>\n",
       "<table border=\"1\" class=\"dataframe\">\n",
       "  <thead>\n",
       "    <tr style=\"text-align: right;\">\n",
       "      <th></th>\n",
       "      <th>client_id</th>\n",
       "      <th>client_id.1</th>\n",
       "      <th>first_issue_date</th>\n",
       "      <th>first_redeem_date</th>\n",
       "      <th>age</th>\n",
       "      <th>gender</th>\n",
       "      <th>first_reedem_ts</th>\n",
       "      <th>last_ts</th>\n",
       "      <th>pred_last_ts</th>\n",
       "      <th>first_issue_ts</th>\n",
       "      <th>days_own_bc</th>\n",
       "      <th>days_from_last_purch</th>\n",
       "      <th>purched_own_tm</th>\n",
       "      <th>purchase_sum</th>\n",
       "      <th>count_purch_before_fr</th>\n",
       "      <th>count_purch_after_fr</th>\n",
       "    </tr>\n",
       "  </thead>\n",
       "  <tbody>\n",
       "    <tr>\n",
       "      <th>0</th>\n",
       "      <td>000012768d</td>\n",
       "      <td>NaN</td>\n",
       "      <td>2017-08-05 15:40:48</td>\n",
       "      <td>2018-01-04 19:30:07</td>\n",
       "      <td>45.0</td>\n",
       "      <td>0</td>\n",
       "      <td>1.515094e+09</td>\n",
       "      <td>1.552576e+09</td>\n",
       "      <td>1.552040e+09</td>\n",
       "      <td>1.501948e+09</td>\n",
       "      <td>579.771701</td>\n",
       "      <td>6.201204</td>\n",
       "      <td>1</td>\n",
       "      <td>419.00</td>\n",
       "      <td>NaN</td>\n",
       "      <td>52.0</td>\n",
       "    </tr>\n",
       "    <tr>\n",
       "      <th>1</th>\n",
       "      <td>000036f903</td>\n",
       "      <td>NaN</td>\n",
       "      <td>2017-04-10 13:54:23</td>\n",
       "      <td>2017-04-23 12:37:56</td>\n",
       "      <td>72.0</td>\n",
       "      <td>2</td>\n",
       "      <td>1.492951e+09</td>\n",
       "      <td>1.552819e+09</td>\n",
       "      <td>1.552127e+09</td>\n",
       "      <td>1.491832e+09</td>\n",
       "      <td>697.855417</td>\n",
       "      <td>8.002384</td>\n",
       "      <td>1</td>\n",
       "      <td>329.00</td>\n",
       "      <td>NaN</td>\n",
       "      <td>162.0</td>\n",
       "    </tr>\n",
       "    <tr>\n",
       "      <th>2</th>\n",
       "      <td>0001f552b0</td>\n",
       "      <td>NaN</td>\n",
       "      <td>2017-06-30 19:20:38</td>\n",
       "      <td>2018-08-28 12:59:45</td>\n",
       "      <td>33.0</td>\n",
       "      <td>2</td>\n",
       "      <td>1.535461e+09</td>\n",
       "      <td>1.552734e+09</td>\n",
       "      <td>1.552559e+09</td>\n",
       "      <td>1.498850e+09</td>\n",
       "      <td>621.631053</td>\n",
       "      <td>2.017141</td>\n",
       "      <td>1</td>\n",
       "      <td>511.84</td>\n",
       "      <td>NaN</td>\n",
       "      <td>86.0</td>\n",
       "    </tr>\n",
       "    <tr>\n",
       "      <th>3</th>\n",
       "      <td>00020e7b18</td>\n",
       "      <td>NaN</td>\n",
       "      <td>2017-11-27 11:41:45</td>\n",
       "      <td>2018-01-10 17:50:05</td>\n",
       "      <td>73.0</td>\n",
       "      <td>0</td>\n",
       "      <td>1.515607e+09</td>\n",
       "      <td>1.552651e+09</td>\n",
       "      <td>1.552550e+09</td>\n",
       "      <td>1.511783e+09</td>\n",
       "      <td>471.840891</td>\n",
       "      <td>1.174826</td>\n",
       "      <td>1</td>\n",
       "      <td>89.00</td>\n",
       "      <td>NaN</td>\n",
       "      <td>272.0</td>\n",
       "    </tr>\n",
       "    <tr>\n",
       "      <th>4</th>\n",
       "      <td>000220a0a7</td>\n",
       "      <td>NaN</td>\n",
       "      <td>2017-12-09 17:26:20</td>\n",
       "      <td>2018-10-04 14:59:29</td>\n",
       "      <td>45.0</td>\n",
       "      <td>1</td>\n",
       "      <td>1.538665e+09</td>\n",
       "      <td>1.552409e+09</td>\n",
       "      <td>1.552322e+09</td>\n",
       "      <td>1.512840e+09</td>\n",
       "      <td>456.968113</td>\n",
       "      <td>1.002986</td>\n",
       "      <td>1</td>\n",
       "      <td>731.98</td>\n",
       "      <td>NaN</td>\n",
       "      <td>85.0</td>\n",
       "    </tr>\n",
       "  </tbody>\n",
       "</table>\n",
       "</div>"
      ],
      "text/plain": [
       "    client_id  client_id.1    first_issue_date   first_redeem_date   age  \\\n",
       "0  000012768d          NaN 2017-08-05 15:40:48 2018-01-04 19:30:07  45.0   \n",
       "1  000036f903          NaN 2017-04-10 13:54:23 2017-04-23 12:37:56  72.0   \n",
       "2  0001f552b0          NaN 2017-06-30 19:20:38 2018-08-28 12:59:45  33.0   \n",
       "3  00020e7b18          NaN 2017-11-27 11:41:45 2018-01-10 17:50:05  73.0   \n",
       "4  000220a0a7          NaN 2017-12-09 17:26:20 2018-10-04 14:59:29  45.0   \n",
       "\n",
       "   gender  first_reedem_ts       last_ts  pred_last_ts  first_issue_ts  \\\n",
       "0       0     1.515094e+09  1.552576e+09  1.552040e+09    1.501948e+09   \n",
       "1       2     1.492951e+09  1.552819e+09  1.552127e+09    1.491832e+09   \n",
       "2       2     1.535461e+09  1.552734e+09  1.552559e+09    1.498850e+09   \n",
       "3       0     1.515607e+09  1.552651e+09  1.552550e+09    1.511783e+09   \n",
       "4       1     1.538665e+09  1.552409e+09  1.552322e+09    1.512840e+09   \n",
       "\n",
       "   days_own_bc  days_from_last_purch  purched_own_tm  purchase_sum  \\\n",
       "0   579.771701              6.201204               1        419.00   \n",
       "1   697.855417              8.002384               1        329.00   \n",
       "2   621.631053              2.017141               1        511.84   \n",
       "3   471.840891              1.174826               1         89.00   \n",
       "4   456.968113              1.002986               1        731.98   \n",
       "\n",
       "   count_purch_before_fr  count_purch_after_fr  \n",
       "0                    NaN                  52.0  \n",
       "1                    NaN                 162.0  \n",
       "2                    NaN                  86.0  \n",
       "3                    NaN                 272.0  \n",
       "4                    NaN                  85.0  "
      ]
     },
     "metadata": {},
     "execution_count": 122
    }
   ],
   "metadata": {}
  },
  {
   "cell_type": "code",
   "execution_count": 123,
   "source": [
    "clients_df.isnull().sum()"
   ],
   "outputs": [
    {
     "output_type": "execute_result",
     "data": {
      "text/plain": [
       "client_id                     0\n",
       "client_id.1              140027\n",
       "first_issue_date              0\n",
       "first_redeem_date         12354\n",
       "age                           0\n",
       "gender                        0\n",
       "first_reedem_ts               0\n",
       "last_ts                       0\n",
       "pred_last_ts                  0\n",
       "first_issue_ts                0\n",
       "days_own_bc                   0\n",
       "days_from_last_purch          0\n",
       "purched_own_tm                0\n",
       "purchase_sum                  0\n",
       "count_purch_before_fr     98935\n",
       "count_purch_after_fr      17600\n",
       "dtype: int64"
      ]
     },
     "metadata": {},
     "execution_count": 123
    }
   ],
   "metadata": {}
  },
  {
   "cell_type": "code",
   "execution_count": 161,
   "source": [
    "clients_df = clients_df.fillna(0)"
   ],
   "outputs": [],
   "metadata": {}
  },
  {
   "cell_type": "code",
   "execution_count": 76,
   "source": [
    "# count_of_purchs = train_purch_df.groupby('client_id', as_index=False).ts.nunique()\r\n",
    "# count_of_purchs = count_of_purchs.rename(columns={'ts': 'count_of_purchs'})"
   ],
   "outputs": [],
   "metadata": {}
  },
  {
   "cell_type": "code",
   "execution_count": 162,
   "source": [
    "# clients_df = clients_df.merge(count_of_purchs, how='outer')"
   ],
   "outputs": [],
   "metadata": {}
  },
  {
   "cell_type": "code",
   "execution_count": 126,
   "source": [
    "clients_df.head()"
   ],
   "outputs": [
    {
     "output_type": "execute_result",
     "data": {
      "text/html": [
       "<div>\n",
       "<style scoped>\n",
       "    .dataframe tbody tr th:only-of-type {\n",
       "        vertical-align: middle;\n",
       "    }\n",
       "\n",
       "    .dataframe tbody tr th {\n",
       "        vertical-align: top;\n",
       "    }\n",
       "\n",
       "    .dataframe thead th {\n",
       "        text-align: right;\n",
       "    }\n",
       "</style>\n",
       "<table border=\"1\" class=\"dataframe\">\n",
       "  <thead>\n",
       "    <tr style=\"text-align: right;\">\n",
       "      <th></th>\n",
       "      <th>client_id</th>\n",
       "      <th>client_id.1</th>\n",
       "      <th>first_issue_date</th>\n",
       "      <th>first_redeem_date</th>\n",
       "      <th>age</th>\n",
       "      <th>gender</th>\n",
       "      <th>first_reedem_ts</th>\n",
       "      <th>last_ts</th>\n",
       "      <th>pred_last_ts</th>\n",
       "      <th>first_issue_ts</th>\n",
       "      <th>days_own_bc</th>\n",
       "      <th>days_from_last_purch</th>\n",
       "      <th>purched_own_tm</th>\n",
       "      <th>purchase_sum</th>\n",
       "      <th>count_purch_before_fr</th>\n",
       "      <th>count_purch_after_fr</th>\n",
       "      <th>count_of_purchs</th>\n",
       "    </tr>\n",
       "  </thead>\n",
       "  <tbody>\n",
       "    <tr>\n",
       "      <th>0</th>\n",
       "      <td>000012768d</td>\n",
       "      <td>0.0</td>\n",
       "      <td>2017-08-05 15:40:48</td>\n",
       "      <td>2018-01-04 19:30:07</td>\n",
       "      <td>45.0</td>\n",
       "      <td>0</td>\n",
       "      <td>1.515094e+09</td>\n",
       "      <td>1.552576e+09</td>\n",
       "      <td>1.552040e+09</td>\n",
       "      <td>1.501948e+09</td>\n",
       "      <td>579.771701</td>\n",
       "      <td>6.201204</td>\n",
       "      <td>1</td>\n",
       "      <td>419.00</td>\n",
       "      <td>0.0</td>\n",
       "      <td>52.0</td>\n",
       "      <td>4</td>\n",
       "    </tr>\n",
       "    <tr>\n",
       "      <th>1</th>\n",
       "      <td>000036f903</td>\n",
       "      <td>0.0</td>\n",
       "      <td>2017-04-10 13:54:23</td>\n",
       "      <td>2017-04-23 12:37:56</td>\n",
       "      <td>72.0</td>\n",
       "      <td>2</td>\n",
       "      <td>1.492951e+09</td>\n",
       "      <td>1.552819e+09</td>\n",
       "      <td>1.552127e+09</td>\n",
       "      <td>1.491832e+09</td>\n",
       "      <td>697.855417</td>\n",
       "      <td>8.002384</td>\n",
       "      <td>1</td>\n",
       "      <td>329.00</td>\n",
       "      <td>0.0</td>\n",
       "      <td>162.0</td>\n",
       "      <td>32</td>\n",
       "    </tr>\n",
       "    <tr>\n",
       "      <th>2</th>\n",
       "      <td>0001f552b0</td>\n",
       "      <td>0.0</td>\n",
       "      <td>2017-06-30 19:20:38</td>\n",
       "      <td>2018-08-28 12:59:45</td>\n",
       "      <td>33.0</td>\n",
       "      <td>2</td>\n",
       "      <td>1.535461e+09</td>\n",
       "      <td>1.552734e+09</td>\n",
       "      <td>1.552559e+09</td>\n",
       "      <td>1.498850e+09</td>\n",
       "      <td>621.631053</td>\n",
       "      <td>2.017141</td>\n",
       "      <td>1</td>\n",
       "      <td>511.84</td>\n",
       "      <td>0.0</td>\n",
       "      <td>86.0</td>\n",
       "      <td>15</td>\n",
       "    </tr>\n",
       "    <tr>\n",
       "      <th>3</th>\n",
       "      <td>00020e7b18</td>\n",
       "      <td>0.0</td>\n",
       "      <td>2017-11-27 11:41:45</td>\n",
       "      <td>2018-01-10 17:50:05</td>\n",
       "      <td>73.0</td>\n",
       "      <td>0</td>\n",
       "      <td>1.515607e+09</td>\n",
       "      <td>1.552651e+09</td>\n",
       "      <td>1.552550e+09</td>\n",
       "      <td>1.511783e+09</td>\n",
       "      <td>471.840891</td>\n",
       "      <td>1.174826</td>\n",
       "      <td>1</td>\n",
       "      <td>89.00</td>\n",
       "      <td>0.0</td>\n",
       "      <td>272.0</td>\n",
       "      <td>18</td>\n",
       "    </tr>\n",
       "    <tr>\n",
       "      <th>4</th>\n",
       "      <td>000220a0a7</td>\n",
       "      <td>0.0</td>\n",
       "      <td>2017-12-09 17:26:20</td>\n",
       "      <td>2018-10-04 14:59:29</td>\n",
       "      <td>45.0</td>\n",
       "      <td>1</td>\n",
       "      <td>1.538665e+09</td>\n",
       "      <td>1.552409e+09</td>\n",
       "      <td>1.552322e+09</td>\n",
       "      <td>1.512840e+09</td>\n",
       "      <td>456.968113</td>\n",
       "      <td>1.002986</td>\n",
       "      <td>1</td>\n",
       "      <td>731.98</td>\n",
       "      <td>0.0</td>\n",
       "      <td>85.0</td>\n",
       "      <td>15</td>\n",
       "    </tr>\n",
       "  </tbody>\n",
       "</table>\n",
       "</div>"
      ],
      "text/plain": [
       "    client_id  client_id.1    first_issue_date    first_redeem_date   age  \\\n",
       "0  000012768d          0.0 2017-08-05 15:40:48  2018-01-04 19:30:07  45.0   \n",
       "1  000036f903          0.0 2017-04-10 13:54:23  2017-04-23 12:37:56  72.0   \n",
       "2  0001f552b0          0.0 2017-06-30 19:20:38  2018-08-28 12:59:45  33.0   \n",
       "3  00020e7b18          0.0 2017-11-27 11:41:45  2018-01-10 17:50:05  73.0   \n",
       "4  000220a0a7          0.0 2017-12-09 17:26:20  2018-10-04 14:59:29  45.0   \n",
       "\n",
       "   gender  first_reedem_ts       last_ts  pred_last_ts  first_issue_ts  \\\n",
       "0       0     1.515094e+09  1.552576e+09  1.552040e+09    1.501948e+09   \n",
       "1       2     1.492951e+09  1.552819e+09  1.552127e+09    1.491832e+09   \n",
       "2       2     1.535461e+09  1.552734e+09  1.552559e+09    1.498850e+09   \n",
       "3       0     1.515607e+09  1.552651e+09  1.552550e+09    1.511783e+09   \n",
       "4       1     1.538665e+09  1.552409e+09  1.552322e+09    1.512840e+09   \n",
       "\n",
       "   days_own_bc  days_from_last_purch  purched_own_tm  purchase_sum  \\\n",
       "0   579.771701              6.201204               1        419.00   \n",
       "1   697.855417              8.002384               1        329.00   \n",
       "2   621.631053              2.017141               1        511.84   \n",
       "3   471.840891              1.174826               1         89.00   \n",
       "4   456.968113              1.002986               1        731.98   \n",
       "\n",
       "   count_purch_before_fr  count_purch_after_fr  count_of_purchs  \n",
       "0                    0.0                  52.0                4  \n",
       "1                    0.0                 162.0               32  \n",
       "2                    0.0                  86.0               15  \n",
       "3                    0.0                 272.0               18  \n",
       "4                    0.0                  85.0               15  "
      ]
     },
     "metadata": {},
     "execution_count": 126
    }
   ],
   "metadata": {}
  },
  {
   "cell_type": "code",
   "execution_count": 79,
   "source": [
    "transactions_data = train_purch_df.groupby('transaction_id', as_index=False).agg({'client_id':'max', 'purchase_sum':'mean', 'is_own_trademark':'max', 'is_alcohol':'max', 'express_points_spent':'mean'})"
   ],
   "outputs": [],
   "metadata": {}
  },
  {
   "cell_type": "code",
   "execution_count": 80,
   "source": [
    "transactions_data.head()"
   ],
   "outputs": [
    {
     "output_type": "execute_result",
     "data": {
      "text/html": [
       "<div>\n",
       "<style scoped>\n",
       "    .dataframe tbody tr th:only-of-type {\n",
       "        vertical-align: middle;\n",
       "    }\n",
       "\n",
       "    .dataframe tbody tr th {\n",
       "        vertical-align: top;\n",
       "    }\n",
       "\n",
       "    .dataframe thead th {\n",
       "        text-align: right;\n",
       "    }\n",
       "</style>\n",
       "<table border=\"1\" class=\"dataframe\">\n",
       "  <thead>\n",
       "    <tr style=\"text-align: right;\">\n",
       "      <th></th>\n",
       "      <th>transaction_id</th>\n",
       "      <th>client_id</th>\n",
       "      <th>purchase_sum</th>\n",
       "      <th>is_own_trademark</th>\n",
       "      <th>is_alcohol</th>\n",
       "      <th>express_points_spent</th>\n",
       "    </tr>\n",
       "  </thead>\n",
       "  <tbody>\n",
       "    <tr>\n",
       "      <th>0</th>\n",
       "      <td>0000033e06</td>\n",
       "      <td>42ea7275e0</td>\n",
       "      <td>247.00</td>\n",
       "      <td>1</td>\n",
       "      <td>0</td>\n",
       "      <td>0.0</td>\n",
       "    </tr>\n",
       "    <tr>\n",
       "      <th>1</th>\n",
       "      <td>00001bd343</td>\n",
       "      <td>44903524e0</td>\n",
       "      <td>285.94</td>\n",
       "      <td>1</td>\n",
       "      <td>0</td>\n",
       "      <td>0.0</td>\n",
       "    </tr>\n",
       "    <tr>\n",
       "      <th>2</th>\n",
       "      <td>0000349b45</td>\n",
       "      <td>1ad9152a20</td>\n",
       "      <td>441.00</td>\n",
       "      <td>1</td>\n",
       "      <td>0</td>\n",
       "      <td>0.0</td>\n",
       "    </tr>\n",
       "    <tr>\n",
       "      <th>3</th>\n",
       "      <td>0000360c79</td>\n",
       "      <td>89a3ee6090</td>\n",
       "      <td>320.00</td>\n",
       "      <td>1</td>\n",
       "      <td>0</td>\n",
       "      <td>0.0</td>\n",
       "    </tr>\n",
       "    <tr>\n",
       "      <th>4</th>\n",
       "      <td>000037ab38</td>\n",
       "      <td>823c39c6f5</td>\n",
       "      <td>149.00</td>\n",
       "      <td>0</td>\n",
       "      <td>0</td>\n",
       "      <td>0.0</td>\n",
       "    </tr>\n",
       "  </tbody>\n",
       "</table>\n",
       "</div>"
      ],
      "text/plain": [
       "  transaction_id   client_id  purchase_sum  is_own_trademark  is_alcohol  \\\n",
       "0     0000033e06  42ea7275e0        247.00                 1           0   \n",
       "1     00001bd343  44903524e0        285.94                 1           0   \n",
       "2     0000349b45  1ad9152a20        441.00                 1           0   \n",
       "3     0000360c79  89a3ee6090        320.00                 1           0   \n",
       "4     000037ab38  823c39c6f5        149.00                 0           0   \n",
       "\n",
       "   express_points_spent  \n",
       "0                   0.0  \n",
       "1                   0.0  \n",
       "2                   0.0  \n",
       "3                   0.0  \n",
       "4                   0.0  "
      ]
     },
     "metadata": {},
     "execution_count": 80
    }
   ],
   "metadata": {}
  },
  {
   "cell_type": "code",
   "execution_count": 81,
   "source": [
    "client_info = transactions_data.groupby('client_id', as_index=False).agg({'is_own_trademark':'sum', 'is_alcohol':'sum', 'transaction_id':'count', 'purchase_sum':'sum', 'express_points_spent':'sum'})"
   ],
   "outputs": [],
   "metadata": {}
  },
  {
   "cell_type": "code",
   "execution_count": 82,
   "source": [
    "client_info.head()"
   ],
   "outputs": [
    {
     "output_type": "execute_result",
     "data": {
      "text/html": [
       "<div>\n",
       "<style scoped>\n",
       "    .dataframe tbody tr th:only-of-type {\n",
       "        vertical-align: middle;\n",
       "    }\n",
       "\n",
       "    .dataframe tbody tr th {\n",
       "        vertical-align: top;\n",
       "    }\n",
       "\n",
       "    .dataframe thead th {\n",
       "        text-align: right;\n",
       "    }\n",
       "</style>\n",
       "<table border=\"1\" class=\"dataframe\">\n",
       "  <thead>\n",
       "    <tr style=\"text-align: right;\">\n",
       "      <th></th>\n",
       "      <th>client_id</th>\n",
       "      <th>is_own_trademark</th>\n",
       "      <th>is_alcohol</th>\n",
       "      <th>transaction_id</th>\n",
       "      <th>purchase_sum</th>\n",
       "      <th>express_points_spent</th>\n",
       "    </tr>\n",
       "  </thead>\n",
       "  <tbody>\n",
       "    <tr>\n",
       "      <th>0</th>\n",
       "      <td>000012768d</td>\n",
       "      <td>3</td>\n",
       "      <td>0</td>\n",
       "      <td>4</td>\n",
       "      <td>2803.00</td>\n",
       "      <td>0.0</td>\n",
       "    </tr>\n",
       "    <tr>\n",
       "      <th>1</th>\n",
       "      <td>000036f903</td>\n",
       "      <td>12</td>\n",
       "      <td>1</td>\n",
       "      <td>32</td>\n",
       "      <td>9805.00</td>\n",
       "      <td>0.0</td>\n",
       "    </tr>\n",
       "    <tr>\n",
       "      <th>2</th>\n",
       "      <td>0001f552b0</td>\n",
       "      <td>7</td>\n",
       "      <td>0</td>\n",
       "      <td>15</td>\n",
       "      <td>6155.18</td>\n",
       "      <td>0.0</td>\n",
       "    </tr>\n",
       "    <tr>\n",
       "      <th>3</th>\n",
       "      <td>00020e7b18</td>\n",
       "      <td>15</td>\n",
       "      <td>0</td>\n",
       "      <td>18</td>\n",
       "      <td>25819.61</td>\n",
       "      <td>-30.0</td>\n",
       "    </tr>\n",
       "    <tr>\n",
       "      <th>4</th>\n",
       "      <td>000220a0a7</td>\n",
       "      <td>8</td>\n",
       "      <td>1</td>\n",
       "      <td>15</td>\n",
       "      <td>8606.57</td>\n",
       "      <td>0.0</td>\n",
       "    </tr>\n",
       "  </tbody>\n",
       "</table>\n",
       "</div>"
      ],
      "text/plain": [
       "    client_id  is_own_trademark  is_alcohol  transaction_id  purchase_sum  \\\n",
       "0  000012768d                 3           0               4       2803.00   \n",
       "1  000036f903                12           1              32       9805.00   \n",
       "2  0001f552b0                 7           0              15       6155.18   \n",
       "3  00020e7b18                15           0              18      25819.61   \n",
       "4  000220a0a7                 8           1              15       8606.57   \n",
       "\n",
       "   express_points_spent  \n",
       "0                   0.0  \n",
       "1                   0.0  \n",
       "2                   0.0  \n",
       "3                 -30.0  \n",
       "4                   0.0  "
      ]
     },
     "metadata": {},
     "execution_count": 82
    }
   ],
   "metadata": {}
  },
  {
   "cell_type": "code",
   "execution_count": 83,
   "source": [
    "client_info = client_info.rename(columns={'is_own_trademark':'count_own_trm', 'is_alcohol':'count_alc', 'transaction_id':'purchs_count', 'express_points_spent':'express_points_spent_sum'})"
   ],
   "outputs": [],
   "metadata": {}
  },
  {
   "cell_type": "code",
   "execution_count": 84,
   "source": [
    "client_info['express_points_spent_mean'] = client_info.express_points_spent_sum / client_info.purchs_count"
   ],
   "outputs": [],
   "metadata": {}
  },
  {
   "cell_type": "code",
   "execution_count": 86,
   "source": [
    "client_info['purchase_sum_mean'] = client_info.purchase_sum / client_info.purchs_count"
   ],
   "outputs": [],
   "metadata": {}
  },
  {
   "cell_type": "code",
   "execution_count": 87,
   "source": [
    "client_info.head()"
   ],
   "outputs": [
    {
     "output_type": "execute_result",
     "data": {
      "text/html": [
       "<div>\n",
       "<style scoped>\n",
       "    .dataframe tbody tr th:only-of-type {\n",
       "        vertical-align: middle;\n",
       "    }\n",
       "\n",
       "    .dataframe tbody tr th {\n",
       "        vertical-align: top;\n",
       "    }\n",
       "\n",
       "    .dataframe thead th {\n",
       "        text-align: right;\n",
       "    }\n",
       "</style>\n",
       "<table border=\"1\" class=\"dataframe\">\n",
       "  <thead>\n",
       "    <tr style=\"text-align: right;\">\n",
       "      <th></th>\n",
       "      <th>client_id</th>\n",
       "      <th>count_own_trm</th>\n",
       "      <th>count_alc</th>\n",
       "      <th>purchs_count</th>\n",
       "      <th>purchase_sum</th>\n",
       "      <th>express_points_spent_sum</th>\n",
       "      <th>express_points_spent_mean</th>\n",
       "      <th>purchase_sum_mean</th>\n",
       "    </tr>\n",
       "  </thead>\n",
       "  <tbody>\n",
       "    <tr>\n",
       "      <th>0</th>\n",
       "      <td>000012768d</td>\n",
       "      <td>3</td>\n",
       "      <td>0</td>\n",
       "      <td>4</td>\n",
       "      <td>2803.00</td>\n",
       "      <td>0.0</td>\n",
       "      <td>0.000000</td>\n",
       "      <td>700.750000</td>\n",
       "    </tr>\n",
       "    <tr>\n",
       "      <th>1</th>\n",
       "      <td>000036f903</td>\n",
       "      <td>12</td>\n",
       "      <td>1</td>\n",
       "      <td>32</td>\n",
       "      <td>9805.00</td>\n",
       "      <td>0.0</td>\n",
       "      <td>0.000000</td>\n",
       "      <td>306.406250</td>\n",
       "    </tr>\n",
       "    <tr>\n",
       "      <th>2</th>\n",
       "      <td>0001f552b0</td>\n",
       "      <td>7</td>\n",
       "      <td>0</td>\n",
       "      <td>15</td>\n",
       "      <td>6155.18</td>\n",
       "      <td>0.0</td>\n",
       "      <td>0.000000</td>\n",
       "      <td>410.345333</td>\n",
       "    </tr>\n",
       "    <tr>\n",
       "      <th>3</th>\n",
       "      <td>00020e7b18</td>\n",
       "      <td>15</td>\n",
       "      <td>0</td>\n",
       "      <td>18</td>\n",
       "      <td>25819.61</td>\n",
       "      <td>-30.0</td>\n",
       "      <td>-1.666667</td>\n",
       "      <td>1434.422778</td>\n",
       "    </tr>\n",
       "    <tr>\n",
       "      <th>4</th>\n",
       "      <td>000220a0a7</td>\n",
       "      <td>8</td>\n",
       "      <td>1</td>\n",
       "      <td>15</td>\n",
       "      <td>8606.57</td>\n",
       "      <td>0.0</td>\n",
       "      <td>0.000000</td>\n",
       "      <td>573.771333</td>\n",
       "    </tr>\n",
       "  </tbody>\n",
       "</table>\n",
       "</div>"
      ],
      "text/plain": [
       "    client_id  count_own_trm  count_alc  purchs_count  purchase_sum  \\\n",
       "0  000012768d              3          0             4       2803.00   \n",
       "1  000036f903             12          1            32       9805.00   \n",
       "2  0001f552b0              7          0            15       6155.18   \n",
       "3  00020e7b18             15          0            18      25819.61   \n",
       "4  000220a0a7              8          1            15       8606.57   \n",
       "\n",
       "   express_points_spent_sum  express_points_spent_mean  purchase_sum_mean  \n",
       "0                       0.0                   0.000000         700.750000  \n",
       "1                       0.0                   0.000000         306.406250  \n",
       "2                       0.0                   0.000000         410.345333  \n",
       "3                     -30.0                  -1.666667        1434.422778  \n",
       "4                       0.0                   0.000000         573.771333  "
      ]
     },
     "metadata": {},
     "execution_count": 87
    }
   ],
   "metadata": {}
  },
  {
   "cell_type": "code",
   "execution_count": 165,
   "source": [
    "clients_df = clients_df.merge(client_info, on='client_id', how='inner')"
   ],
   "outputs": [],
   "metadata": {}
  },
  {
   "cell_type": "code",
   "execution_count": 166,
   "source": [
    "clients_df.client_id.count()"
   ],
   "outputs": [
    {
     "output_type": "execute_result",
     "data": {
      "text/plain": [
       "140027"
      ]
     },
     "metadata": {},
     "execution_count": 166
    }
   ],
   "metadata": {}
  },
  {
   "cell_type": "code",
   "execution_count": 170,
   "source": [
    "# clients_df = clients_df.drop(columns=['client_id.1', 'purchase_sum_x']).rename(columns={'purchase_sum_y':'purchase_sum'})"
   ],
   "outputs": [],
   "metadata": {}
  },
  {
   "cell_type": "code",
   "execution_count": 171,
   "source": [
    "clients_df.head()"
   ],
   "outputs": [
    {
     "output_type": "execute_result",
     "data": {
      "text/html": [
       "<div>\n",
       "<style scoped>\n",
       "    .dataframe tbody tr th:only-of-type {\n",
       "        vertical-align: middle;\n",
       "    }\n",
       "\n",
       "    .dataframe tbody tr th {\n",
       "        vertical-align: top;\n",
       "    }\n",
       "\n",
       "    .dataframe thead th {\n",
       "        text-align: right;\n",
       "    }\n",
       "</style>\n",
       "<table border=\"1\" class=\"dataframe\">\n",
       "  <thead>\n",
       "    <tr style=\"text-align: right;\">\n",
       "      <th></th>\n",
       "      <th>client_id</th>\n",
       "      <th>first_issue_date</th>\n",
       "      <th>first_redeem_date</th>\n",
       "      <th>age</th>\n",
       "      <th>gender</th>\n",
       "      <th>first_reedem_ts</th>\n",
       "      <th>last_ts</th>\n",
       "      <th>pred_last_ts</th>\n",
       "      <th>first_issue_ts</th>\n",
       "      <th>days_own_bc</th>\n",
       "      <th>...</th>\n",
       "      <th>count_purch_before_fr</th>\n",
       "      <th>count_purch_after_fr</th>\n",
       "      <th>count_of_purchs</th>\n",
       "      <th>count_own_trm</th>\n",
       "      <th>count_alc</th>\n",
       "      <th>purchs_count</th>\n",
       "      <th>purchase_sum</th>\n",
       "      <th>express_points_spent_sum</th>\n",
       "      <th>express_points_spent_mean</th>\n",
       "      <th>purchase_sum_mean</th>\n",
       "    </tr>\n",
       "  </thead>\n",
       "  <tbody>\n",
       "    <tr>\n",
       "      <th>0</th>\n",
       "      <td>000012768d</td>\n",
       "      <td>2017-08-05 15:40:48</td>\n",
       "      <td>2018-01-04 19:30:07</td>\n",
       "      <td>45.0</td>\n",
       "      <td>0</td>\n",
       "      <td>1.515094e+09</td>\n",
       "      <td>1.552576e+09</td>\n",
       "      <td>1.552040e+09</td>\n",
       "      <td>1.501948e+09</td>\n",
       "      <td>579.771701</td>\n",
       "      <td>...</td>\n",
       "      <td>0.0</td>\n",
       "      <td>52.0</td>\n",
       "      <td>4</td>\n",
       "      <td>3</td>\n",
       "      <td>0</td>\n",
       "      <td>4</td>\n",
       "      <td>2803.00</td>\n",
       "      <td>0.0</td>\n",
       "      <td>0.000000</td>\n",
       "      <td>700.750000</td>\n",
       "    </tr>\n",
       "    <tr>\n",
       "      <th>1</th>\n",
       "      <td>000036f903</td>\n",
       "      <td>2017-04-10 13:54:23</td>\n",
       "      <td>2017-04-23 12:37:56</td>\n",
       "      <td>72.0</td>\n",
       "      <td>2</td>\n",
       "      <td>1.492951e+09</td>\n",
       "      <td>1.552819e+09</td>\n",
       "      <td>1.552127e+09</td>\n",
       "      <td>1.491832e+09</td>\n",
       "      <td>697.855417</td>\n",
       "      <td>...</td>\n",
       "      <td>0.0</td>\n",
       "      <td>162.0</td>\n",
       "      <td>32</td>\n",
       "      <td>12</td>\n",
       "      <td>1</td>\n",
       "      <td>32</td>\n",
       "      <td>9805.00</td>\n",
       "      <td>0.0</td>\n",
       "      <td>0.000000</td>\n",
       "      <td>306.406250</td>\n",
       "    </tr>\n",
       "    <tr>\n",
       "      <th>2</th>\n",
       "      <td>0001f552b0</td>\n",
       "      <td>2017-06-30 19:20:38</td>\n",
       "      <td>2018-08-28 12:59:45</td>\n",
       "      <td>33.0</td>\n",
       "      <td>2</td>\n",
       "      <td>1.535461e+09</td>\n",
       "      <td>1.552734e+09</td>\n",
       "      <td>1.552559e+09</td>\n",
       "      <td>1.498850e+09</td>\n",
       "      <td>621.631053</td>\n",
       "      <td>...</td>\n",
       "      <td>0.0</td>\n",
       "      <td>86.0</td>\n",
       "      <td>15</td>\n",
       "      <td>7</td>\n",
       "      <td>0</td>\n",
       "      <td>15</td>\n",
       "      <td>6155.18</td>\n",
       "      <td>0.0</td>\n",
       "      <td>0.000000</td>\n",
       "      <td>410.345333</td>\n",
       "    </tr>\n",
       "    <tr>\n",
       "      <th>3</th>\n",
       "      <td>00020e7b18</td>\n",
       "      <td>2017-11-27 11:41:45</td>\n",
       "      <td>2018-01-10 17:50:05</td>\n",
       "      <td>73.0</td>\n",
       "      <td>0</td>\n",
       "      <td>1.515607e+09</td>\n",
       "      <td>1.552651e+09</td>\n",
       "      <td>1.552550e+09</td>\n",
       "      <td>1.511783e+09</td>\n",
       "      <td>471.840891</td>\n",
       "      <td>...</td>\n",
       "      <td>0.0</td>\n",
       "      <td>272.0</td>\n",
       "      <td>18</td>\n",
       "      <td>15</td>\n",
       "      <td>0</td>\n",
       "      <td>18</td>\n",
       "      <td>25819.61</td>\n",
       "      <td>-30.0</td>\n",
       "      <td>-1.666667</td>\n",
       "      <td>1434.422778</td>\n",
       "    </tr>\n",
       "    <tr>\n",
       "      <th>4</th>\n",
       "      <td>000220a0a7</td>\n",
       "      <td>2017-12-09 17:26:20</td>\n",
       "      <td>2018-10-04 14:59:29</td>\n",
       "      <td>45.0</td>\n",
       "      <td>1</td>\n",
       "      <td>1.538665e+09</td>\n",
       "      <td>1.552409e+09</td>\n",
       "      <td>1.552322e+09</td>\n",
       "      <td>1.512840e+09</td>\n",
       "      <td>456.968113</td>\n",
       "      <td>...</td>\n",
       "      <td>0.0</td>\n",
       "      <td>85.0</td>\n",
       "      <td>15</td>\n",
       "      <td>8</td>\n",
       "      <td>1</td>\n",
       "      <td>15</td>\n",
       "      <td>8606.57</td>\n",
       "      <td>0.0</td>\n",
       "      <td>0.000000</td>\n",
       "      <td>573.771333</td>\n",
       "    </tr>\n",
       "  </tbody>\n",
       "</table>\n",
       "<p>5 rows × 22 columns</p>\n",
       "</div>"
      ],
      "text/plain": [
       "    client_id    first_issue_date    first_redeem_date   age  gender  \\\n",
       "0  000012768d 2017-08-05 15:40:48  2018-01-04 19:30:07  45.0       0   \n",
       "1  000036f903 2017-04-10 13:54:23  2017-04-23 12:37:56  72.0       2   \n",
       "2  0001f552b0 2017-06-30 19:20:38  2018-08-28 12:59:45  33.0       2   \n",
       "3  00020e7b18 2017-11-27 11:41:45  2018-01-10 17:50:05  73.0       0   \n",
       "4  000220a0a7 2017-12-09 17:26:20  2018-10-04 14:59:29  45.0       1   \n",
       "\n",
       "   first_reedem_ts       last_ts  pred_last_ts  first_issue_ts  days_own_bc  \\\n",
       "0     1.515094e+09  1.552576e+09  1.552040e+09    1.501948e+09   579.771701   \n",
       "1     1.492951e+09  1.552819e+09  1.552127e+09    1.491832e+09   697.855417   \n",
       "2     1.535461e+09  1.552734e+09  1.552559e+09    1.498850e+09   621.631053   \n",
       "3     1.515607e+09  1.552651e+09  1.552550e+09    1.511783e+09   471.840891   \n",
       "4     1.538665e+09  1.552409e+09  1.552322e+09    1.512840e+09   456.968113   \n",
       "\n",
       "   ...  count_purch_before_fr  count_purch_after_fr  count_of_purchs  \\\n",
       "0  ...                    0.0                  52.0                4   \n",
       "1  ...                    0.0                 162.0               32   \n",
       "2  ...                    0.0                  86.0               15   \n",
       "3  ...                    0.0                 272.0               18   \n",
       "4  ...                    0.0                  85.0               15   \n",
       "\n",
       "   count_own_trm  count_alc  purchs_count  purchase_sum  \\\n",
       "0              3          0             4       2803.00   \n",
       "1             12          1            32       9805.00   \n",
       "2              7          0            15       6155.18   \n",
       "3             15          0            18      25819.61   \n",
       "4              8          1            15       8606.57   \n",
       "\n",
       "   express_points_spent_sum  express_points_spent_mean  purchase_sum_mean  \n",
       "0                       0.0                   0.000000         700.750000  \n",
       "1                       0.0                   0.000000         306.406250  \n",
       "2                       0.0                   0.000000         410.345333  \n",
       "3                     -30.0                  -1.666667        1434.422778  \n",
       "4                       0.0                   0.000000         573.771333  \n",
       "\n",
       "[5 rows x 22 columns]"
      ]
     },
     "metadata": {},
     "execution_count": 171
    }
   ],
   "metadata": {}
  },
  {
   "cell_type": "code",
   "execution_count": 174,
   "source": [
    "train_df = train_df.merge(clients_df.drop(columns=['first_issue_date', 'first_redeem_date']), on='client_id', how='inner')"
   ],
   "outputs": [],
   "metadata": {}
  },
  {
   "cell_type": "code",
   "execution_count": 176,
   "source": [
    "list(train_df)"
   ],
   "outputs": [
    {
     "output_type": "execute_result",
     "data": {
      "text/plain": [
       "['client_id',\n",
       " 'treatment_flg',\n",
       " 'purchased',\n",
       " 'age',\n",
       " 'gender',\n",
       " 'first_reedem_ts',\n",
       " 'last_ts',\n",
       " 'pred_last_ts',\n",
       " 'first_issue_ts',\n",
       " 'days_own_bc',\n",
       " 'days_from_last_purch',\n",
       " 'purched_own_tm',\n",
       " 'count_purch_before_fr',\n",
       " 'count_purch_after_fr',\n",
       " 'count_of_purchs',\n",
       " 'count_own_trm',\n",
       " 'count_alc',\n",
       " 'purchs_count',\n",
       " 'purchase_sum',\n",
       " 'express_points_spent_sum',\n",
       " 'express_points_spent_mean',\n",
       " 'purchase_sum_mean']"
      ]
     },
     "metadata": {},
     "execution_count": 176
    }
   ],
   "metadata": {}
  },
  {
   "cell_type": "markdown",
   "source": [
    "Создаем и обучаем модель"
   ],
   "metadata": {}
  },
  {
   "cell_type": "code",
   "execution_count": 78,
   "source": [
    "import torch\r\n",
    "import numpy as np\r\n",
    "from torch import nn "
   ],
   "outputs": [],
   "metadata": {}
  },
  {
   "cell_type": "code",
   "execution_count": 79,
   "source": [
    "train_prop = 0.75\r\n",
    "size = train_df.client_id.count()\r\n",
    "train_data = train_df.loc[int(size*train_prop):]\r\n",
    "val_data = train_df.loc[:int(size*train_prop)]"
   ],
   "outputs": [],
   "metadata": {}
  },
  {
   "cell_type": "code",
   "execution_count": 80,
   "source": [
    "train_X = train_data.drop(columns=['client_id', 'purchased', 'treatment_flg'])\r\n",
    "train_y = train_data.purchased"
   ],
   "outputs": [],
   "metadata": {}
  },
  {
   "cell_type": "code",
   "execution_count": 81,
   "source": [
    "train_X = torch.FloatTensor(train_X.values)\r\n",
    "train_y = torch.FloatTensor(train_y.values).reshape(-1, 1)"
   ],
   "outputs": [],
   "metadata": {}
  },
  {
   "cell_type": "code",
   "execution_count": 82,
   "source": [
    "train_X"
   ],
   "outputs": [
    {
     "output_type": "execute_result",
     "data": {
      "text/plain": [
       "tensor([[131.8745,   1.7619, 119.9800],\n",
       "        [509.2083,   2.5361, 938.0000],\n",
       "        [428.1188,   5.9147, 139.9700],\n",
       "        ...,\n",
       "        [378.9128,   6.0179, 496.0000],\n",
       "        [615.5471,   2.9421,  32.0000],\n",
       "        [659.9639,   1.9716, 526.3900]])"
      ]
     },
     "metadata": {},
     "execution_count": 82
    }
   ],
   "metadata": {}
  },
  {
   "cell_type": "markdown",
   "source": [
    "Первый столбец будет отвечать за наличие связи с клиентов"
   ],
   "metadata": {}
  },
  {
   "cell_type": "code",
   "execution_count": 83,
   "source": [
    "in_features = train_X.shape[1]\r\n",
    "out_features = 1\r\n",
    "train_size = train_X.shape[0]"
   ],
   "outputs": [],
   "metadata": {}
  },
  {
   "cell_type": "code",
   "execution_count": 84,
   "source": [
    "device = torch.device('cuda') if torch.cuda.is_available() else torch.device('cpu')"
   ],
   "outputs": [],
   "metadata": {}
  },
  {
   "cell_type": "code",
   "execution_count": 85,
   "source": [
    "import matplotlib.pyplot as plt"
   ],
   "outputs": [],
   "metadata": {}
  },
  {
   "cell_type": "code",
   "execution_count": 86,
   "source": [
    "batch_size = 512\r\n",
    "epochs = 5\r\n",
    "learning_rate = 1e-3"
   ],
   "outputs": [],
   "metadata": {}
  },
  {
   "cell_type": "code",
   "execution_count": 87,
   "source": [
    "model = nn.Sequential(\r\n",
    "    nn.Linear(in_features, 16),\r\n",
    "    nn.ReLU(),\r\n",
    "    nn.Linear(16,8),\r\n",
    "    nn.ReLU(),\r\n",
    "    nn.Linear(8,1)\r\n",
    ")\r\n",
    "model.to(device)"
   ],
   "outputs": [
    {
     "output_type": "execute_result",
     "data": {
      "text/plain": [
       "Sequential(\n",
       "  (0): Linear(in_features=3, out_features=16, bias=True)\n",
       "  (1): ReLU()\n",
       "  (2): Linear(in_features=16, out_features=8, bias=True)\n",
       "  (3): ReLU()\n",
       "  (4): Linear(in_features=8, out_features=1, bias=True)\n",
       ")"
      ]
     },
     "metadata": {},
     "execution_count": 87
    }
   ],
   "metadata": {}
  },
  {
   "cell_type": "code",
   "execution_count": 88,
   "source": [
    "criterion = nn.MSELoss()\r\n",
    "optimizer = torch.optim.Adam(model.parameters(), lr=learning_rate)"
   ],
   "outputs": [],
   "metadata": {}
  },
  {
   "cell_type": "code",
   "execution_count": 89,
   "source": [
    "history = []\r\n",
    "for it in range(epochs):\r\n",
    "    for batch_ind in range(0,train_size//batch_size):\r\n",
    "        \r\n",
    "        X_batch = train_X[batch_ind*batch_size:(batch_ind+1)*batch_size].to(device)\r\n",
    "        y_batch = train_y[batch_ind*batch_size:(batch_ind+1)*batch_size].to(device)\r\n",
    "        \r\n",
    "        logits = model(train_X.to(device))\r\n",
    "        loss = criterion(logits, train_y.to(device))\r\n",
    "        history.append(loss.item())\r\n",
    "        \r\n",
    "        optimizer.zero_grad()\r\n",
    "        loss.backward()\r\n",
    "        optimizer.step()\r\n",
    "    \r\n",
    "    print(loss.item())"
   ],
   "outputs": [
    {
     "output_type": "stream",
     "name": "stdout",
     "text": [
      "12.931936264038086\n",
      "5.7041168212890625\n",
      "3.8066368103027344\n",
      "2.8534774780273438\n",
      "2.1996335983276367\n"
     ]
    }
   ],
   "metadata": {}
  },
  {
   "cell_type": "code",
   "execution_count": 90,
   "source": [
    "plt.plot(history)"
   ],
   "outputs": [
    {
     "output_type": "execute_result",
     "data": {
      "text/plain": [
       "[<matplotlib.lines.Line2D at 0x16d39abed60>]"
      ]
     },
     "metadata": {},
     "execution_count": 90
    },
    {
     "output_type": "display_data",
     "data": {
      "image/png": "[encoded data removed]",
      "text/plain": [
       "<Figure size 432x288 with 1 Axes>"
      ]
     },
     "metadata": {
      "needs_background": "light"
     }
    }
   ],
   "metadata": {}
  },
  {
   "cell_type": "code",
   "execution_count": 91,
   "source": [
    "model.to('cpu')"
   ],
   "outputs": [
    {
     "output_type": "execute_result",
     "data": {
      "text/plain": [
       "Sequential(\n",
       "  (0): Linear(in_features=3, out_features=16, bias=True)\n",
       "  (1): ReLU()\n",
       "  (2): Linear(in_features=16, out_features=8, bias=True)\n",
       "  (3): ReLU()\n",
       "  (4): Linear(in_features=8, out_features=1, bias=True)\n",
       ")"
      ]
     },
     "metadata": {},
     "execution_count": 91
    }
   ],
   "metadata": {}
  },
  {
   "cell_type": "code",
   "execution_count": 92,
   "source": [
    "val_X = val_data.drop(columns=['client_id', 'purchased', 'treatment_flg'])\r\n",
    "val_y = val_data.purchased\r\n",
    "val_X = torch.FloatTensor(val_X.values)\r\n",
    "val_y = torch.FloatTensor(val_y.values).reshape(-1, 1)"
   ],
   "outputs": [],
   "metadata": {}
  },
  {
   "cell_type": "code",
   "execution_count": 93,
   "source": [
    "with torch.no_grad():\r\n",
    "    probs = model(val_X)\r\n"
   ],
   "outputs": [],
   "metadata": {}
  },
  {
   "cell_type": "code",
   "execution_count": 94,
   "source": [
    "probs"
   ],
   "outputs": [
    {
     "output_type": "execute_result",
     "data": {
      "text/plain": [
       "tensor([[ 2.6059],\n",
       "        [ 2.3060],\n",
       "        [ 1.4663],\n",
       "        ...,\n",
       "        [-0.0454],\n",
       "        [-0.1482],\n",
       "        [ 0.3084]])"
      ]
     },
     "metadata": {},
     "execution_count": 94
    }
   ],
   "metadata": {}
  },
  {
   "cell_type": "code",
   "execution_count": 95,
   "source": [
    "from sklearn.metrics import roc_auc_score"
   ],
   "outputs": [],
   "metadata": {}
  },
  {
   "cell_type": "code",
   "execution_count": 96,
   "source": [
    "2*roc_auc_score(val_y, probs) - 1"
   ],
   "outputs": [
    {
     "output_type": "execute_result",
     "data": {
      "text/plain": [
       "-0.01843426965357331"
      ]
     },
     "metadata": {},
     "execution_count": 96
    }
   ],
   "metadata": {}
  },
  {
   "cell_type": "markdown",
   "source": [
    "Подготовка тренировочных данных "
   ],
   "metadata": {}
  },
  {
   "cell_type": "code",
   "execution_count": 97,
   "source": [
    "test_df = pd.read_csv(\"data/test.csv\")"
   ],
   "outputs": [],
   "metadata": {}
  },
  {
   "cell_type": "code",
   "execution_count": 98,
   "source": [
    "clients_df = pd.read_csv('data/clients2.csv')\r\n",
    "clients_df = clients_df.merge(test_df.loc[:,['client_id']], how='inner')"
   ],
   "outputs": [],
   "metadata": {}
  },
  {
   "cell_type": "code",
   "execution_count": 99,
   "source": [
    "test_df = test_df.merge(clients_df.loc[:,['client_id', 'age', 'gender']])"
   ],
   "outputs": [],
   "metadata": {}
  },
  {
   "cell_type": "code",
   "execution_count": 100,
   "source": [
    "test_df.gender = test_df.gender.apply(lambda x: (x=='M') + 2*(x=='F'))"
   ],
   "outputs": [],
   "metadata": {}
  },
  {
   "cell_type": "code",
   "execution_count": 101,
   "source": [
    "test_purch_df = pd.read_csv('data/test_purch.csv')"
   ],
   "outputs": [],
   "metadata": {}
  },
  {
   "cell_type": "code",
   "execution_count": 102,
   "source": [
    "test_purch_df['transaction_datetime'] = pd.to_datetime(test_purch_df['transaction_datetime'], errors='coerce')"
   ],
   "outputs": [],
   "metadata": {}
  },
  {
   "cell_type": "code",
   "execution_count": 103,
   "source": [
    "last_purch_ts = test_purch_df.groupby('client_id', as_index=False).transaction_datetime.max().rename(columns={'transaction_datetime': 'last_ts'})\r\n",
    "last_purch_ts['last_ts'] = last_purch_ts.last_ts.values.view('int64')/(1e9)"
   ],
   "outputs": [],
   "metadata": {}
  },
  {
   "cell_type": "code",
   "execution_count": 104,
   "source": [
    "test_purch_df['ts'] = test_purch_df.transaction_datetime.values.view('int64')/(1e9)"
   ],
   "outputs": [],
   "metadata": {}
  },
  {
   "cell_type": "code",
   "execution_count": 105,
   "source": [
    "test_purch_df = test_purch_df.merge(last_purch_ts, on='client_id', how='outer')"
   ],
   "outputs": [],
   "metadata": {}
  },
  {
   "cell_type": "code",
   "execution_count": 106,
   "source": [
    "test_purch_without_last_purch = test_purch_df.loc[test_purch_df.ts < test_purch_df.last_ts]"
   ],
   "outputs": [],
   "metadata": {}
  },
  {
   "cell_type": "code",
   "execution_count": 107,
   "source": [
    "pred_last_purch_ts = test_purch_without_last_purch.groupby('client_id', as_index=False).ts.max()"
   ],
   "outputs": [],
   "metadata": {}
  },
  {
   "cell_type": "code",
   "execution_count": 108,
   "source": [
    "pred_last_purch_ts = pred_last_purch_ts.rename(columns={'ts': 'pred_last_ts'})"
   ],
   "outputs": [],
   "metadata": {}
  },
  {
   "cell_type": "code",
   "execution_count": 109,
   "source": [
    "purch_ts = last_purch_ts.merge(pred_last_purch_ts, how='outer')"
   ],
   "outputs": [],
   "metadata": {}
  },
  {
   "cell_type": "code",
   "execution_count": 110,
   "source": [
    "purch_ts.pred_last_ts = purch_ts.pred_last_ts.fillna(purch_ts.last_ts)"
   ],
   "outputs": [],
   "metadata": {}
  },
  {
   "cell_type": "code",
   "execution_count": 111,
   "source": [
    "purch_ts.loc[purch_ts.last_ts < purch_ts.pred_last_ts]"
   ],
   "outputs": [
    {
     "output_type": "execute_result",
     "data": {
      "text/html": [
       "<div>\n",
       "<style scoped>\n",
       "    .dataframe tbody tr th:only-of-type {\n",
       "        vertical-align: middle;\n",
       "    }\n",
       "\n",
       "    .dataframe tbody tr th {\n",
       "        vertical-align: top;\n",
       "    }\n",
       "\n",
       "    .dataframe thead th {\n",
       "        text-align: right;\n",
       "    }\n",
       "</style>\n",
       "<table border=\"1\" class=\"dataframe\">\n",
       "  <thead>\n",
       "    <tr style=\"text-align: right;\">\n",
       "      <th></th>\n",
       "      <th>client_id</th>\n",
       "      <th>last_ts</th>\n",
       "      <th>pred_last_ts</th>\n",
       "    </tr>\n",
       "  </thead>\n",
       "  <tbody>\n",
       "  </tbody>\n",
       "</table>\n",
       "</div>"
      ],
      "text/plain": [
       "Empty DataFrame\n",
       "Columns: [client_id, last_ts, pred_last_ts]\n",
       "Index: []"
      ]
     },
     "metadata": {},
     "execution_count": 111
    }
   ],
   "metadata": {}
  },
  {
   "cell_type": "code",
   "execution_count": 112,
   "source": [
    "clients_df = clients_df.merge(purch_ts, how='outer')"
   ],
   "outputs": [],
   "metadata": {}
  },
  {
   "cell_type": "code",
   "execution_count": 113,
   "source": [
    "clients_df['first_issue_date'] = pd.to_datetime(clients_df['first_issue_date'], errors='coerce')\r\n",
    "clients_df['first_issue_ts'] = clients_df.first_issue_date.values.view('int64')/(1e9)"
   ],
   "outputs": [],
   "metadata": {}
  },
  {
   "cell_type": "code",
   "execution_count": 114,
   "source": [
    "clients_df['days_own_bc'] = (clients_df.pred_last_ts - clients_df.first_issue_ts) / (24*60*60)"
   ],
   "outputs": [],
   "metadata": {}
  },
  {
   "cell_type": "code",
   "execution_count": 115,
   "source": [
    "clients_df['days_from_last_purch'] = (clients_df.last_ts - clients_df.pred_last_ts) / (24*60*60)"
   ],
   "outputs": [],
   "metadata": {}
  },
  {
   "cell_type": "code",
   "execution_count": 116,
   "source": [
    "clients_df.loc[clients_df.days_from_last_purch < 0]"
   ],
   "outputs": [
    {
     "output_type": "execute_result",
     "data": {
      "text/html": [
       "<div>\n",
       "<style scoped>\n",
       "    .dataframe tbody tr th:only-of-type {\n",
       "        vertical-align: middle;\n",
       "    }\n",
       "\n",
       "    .dataframe tbody tr th {\n",
       "        vertical-align: top;\n",
       "    }\n",
       "\n",
       "    .dataframe thead th {\n",
       "        text-align: right;\n",
       "    }\n",
       "</style>\n",
       "<table border=\"1\" class=\"dataframe\">\n",
       "  <thead>\n",
       "    <tr style=\"text-align: right;\">\n",
       "      <th></th>\n",
       "      <th>client_id</th>\n",
       "      <th>client_id.1</th>\n",
       "      <th>first_issue_date</th>\n",
       "      <th>first_redeem_date</th>\n",
       "      <th>age</th>\n",
       "      <th>gender</th>\n",
       "      <th>last_ts</th>\n",
       "      <th>pred_last_ts</th>\n",
       "      <th>first_issue_ts</th>\n",
       "      <th>days_own_bc</th>\n",
       "      <th>days_from_last_purch</th>\n",
       "    </tr>\n",
       "  </thead>\n",
       "  <tbody>\n",
       "  </tbody>\n",
       "</table>\n",
       "</div>"
      ],
      "text/plain": [
       "Empty DataFrame\n",
       "Columns: [client_id, client_id.1, first_issue_date, first_redeem_date, age, gender, last_ts, pred_last_ts, first_issue_ts, days_own_bc, days_from_last_purch]\n",
       "Index: []"
      ]
     },
     "metadata": {},
     "execution_count": 116
    }
   ],
   "metadata": {}
  },
  {
   "cell_type": "code",
   "execution_count": 117,
   "source": [
    "prods_data = pd.read_csv('data/products.csv')"
   ],
   "outputs": [],
   "metadata": {}
  },
  {
   "cell_type": "code",
   "execution_count": 118,
   "source": [
    "count_of_prds = test_purch_df.groupby('product_id', as_index=False).client_id.count()"
   ],
   "outputs": [],
   "metadata": {}
  },
  {
   "cell_type": "code",
   "execution_count": 119,
   "source": [
    "count_of_prds = count_of_prds.merge(prods_data.loc[:,['product_id', 'is_own_trademark']], on='product_id', how='inner')"
   ],
   "outputs": [],
   "metadata": {}
  },
  {
   "cell_type": "code",
   "execution_count": 120,
   "source": [
    "count_of_prds = count_of_prds.rename(columns={'client_id':'purchases'})"
   ],
   "outputs": [],
   "metadata": {}
  },
  {
   "cell_type": "code",
   "execution_count": 121,
   "source": [
    "test_purch_df = test_purch_df.merge(count_of_prds.loc[:, ['product_id', 'is_own_trademark']], on='product_id', how='outer')"
   ],
   "outputs": [],
   "metadata": {}
  },
  {
   "cell_type": "code",
   "execution_count": 122,
   "source": [
    "is_purch_own_prds = test_purch_df.groupby('client_id', as_index=False).is_own_trademark.max()"
   ],
   "outputs": [],
   "metadata": {}
  },
  {
   "cell_type": "code",
   "execution_count": 123,
   "source": [
    "clients_df = clients_df.merge(is_purch_own_prds, how='outer')"
   ],
   "outputs": [],
   "metadata": {}
  },
  {
   "cell_type": "code",
   "execution_count": 124,
   "source": [
    "clients_df = clients_df.rename(columns={'is_own_trademark':'purched_own_tm'})"
   ],
   "outputs": [],
   "metadata": {}
  },
  {
   "cell_type": "code",
   "execution_count": 125,
   "source": [
    "sum_of_purch = test_purch_df.loc[test_purch_df.ts == test_purch_df.last_ts].groupby('client_id', as_index=False).purchase_sum.mean()"
   ],
   "outputs": [],
   "metadata": {}
  },
  {
   "cell_type": "code",
   "execution_count": 126,
   "source": [
    "clients_df = clients_df.merge(sum_of_purch, how='outer')"
   ],
   "outputs": [],
   "metadata": {}
  },
  {
   "cell_type": "code",
   "execution_count": 127,
   "source": [
    "clients_df.isnull().sum()"
   ],
   "outputs": [
    {
     "output_type": "execute_result",
     "data": {
      "text/plain": [
       "client_id                   0\n",
       "client_id.1             60012\n",
       "first_issue_date            0\n",
       "first_redeem_date        5192\n",
       "age                         0\n",
       "gender                      0\n",
       "last_ts                     0\n",
       "pred_last_ts                0\n",
       "first_issue_ts              0\n",
       "days_own_bc                 0\n",
       "days_from_last_purch        0\n",
       "purched_own_tm              0\n",
       "purchase_sum                0\n",
       "dtype: int64"
      ]
     },
     "metadata": {},
     "execution_count": 127
    }
   ],
   "metadata": {}
  },
  {
   "cell_type": "code",
   "execution_count": 128,
   "source": [
    "test_df = test_df.merge(clients_df.loc[:,['client_id', 'days_own_bc', 'days_from_last_purch', 'purchase_sum']])"
   ],
   "outputs": [],
   "metadata": {}
  },
  {
   "cell_type": "code",
   "execution_count": 129,
   "source": [
    "test_df.head()"
   ],
   "outputs": [
    {
     "output_type": "execute_result",
     "data": {
      "text/html": [
       "<div>\n",
       "<style scoped>\n",
       "    .dataframe tbody tr th:only-of-type {\n",
       "        vertical-align: middle;\n",
       "    }\n",
       "\n",
       "    .dataframe tbody tr th {\n",
       "        vertical-align: top;\n",
       "    }\n",
       "\n",
       "    .dataframe thead th {\n",
       "        text-align: right;\n",
       "    }\n",
       "</style>\n",
       "<table border=\"1\" class=\"dataframe\">\n",
       "  <thead>\n",
       "    <tr style=\"text-align: right;\">\n",
       "      <th></th>\n",
       "      <th>client_id</th>\n",
       "      <th>age</th>\n",
       "      <th>gender</th>\n",
       "      <th>days_own_bc</th>\n",
       "      <th>days_from_last_purch</th>\n",
       "      <th>purchase_sum</th>\n",
       "    </tr>\n",
       "  </thead>\n",
       "  <tbody>\n",
       "    <tr>\n",
       "      <th>0</th>\n",
       "      <td>a9a604ed6e</td>\n",
       "      <td>36</td>\n",
       "      <td>2</td>\n",
       "      <td>151.622685</td>\n",
       "      <td>23.917280</td>\n",
       "      <td>663.86</td>\n",
       "    </tr>\n",
       "    <tr>\n",
       "      <th>1</th>\n",
       "      <td>ebd7360016</td>\n",
       "      <td>63</td>\n",
       "      <td>2</td>\n",
       "      <td>619.862153</td>\n",
       "      <td>1.907558</td>\n",
       "      <td>47.00</td>\n",
       "    </tr>\n",
       "    <tr>\n",
       "      <th>2</th>\n",
       "      <td>908cd9b8e8</td>\n",
       "      <td>49</td>\n",
       "      <td>2</td>\n",
       "      <td>334.920949</td>\n",
       "      <td>6.038391</td>\n",
       "      <td>249.99</td>\n",
       "    </tr>\n",
       "    <tr>\n",
       "      <th>3</th>\n",
       "      <td>dceb8ce861</td>\n",
       "      <td>46</td>\n",
       "      <td>0</td>\n",
       "      <td>509.927801</td>\n",
       "      <td>5.040521</td>\n",
       "      <td>1585.73</td>\n",
       "    </tr>\n",
       "    <tr>\n",
       "      <th>4</th>\n",
       "      <td>f4f0ac6b06</td>\n",
       "      <td>119</td>\n",
       "      <td>0</td>\n",
       "      <td>247.880023</td>\n",
       "      <td>2.996065</td>\n",
       "      <td>828.00</td>\n",
       "    </tr>\n",
       "  </tbody>\n",
       "</table>\n",
       "</div>"
      ],
      "text/plain": [
       "    client_id  age  gender  days_own_bc  days_from_last_purch  purchase_sum\n",
       "0  a9a604ed6e   36       2   151.622685             23.917280        663.86\n",
       "1  ebd7360016   63       2   619.862153              1.907558         47.00\n",
       "2  908cd9b8e8   49       2   334.920949              6.038391        249.99\n",
       "3  dceb8ce861   46       0   509.927801              5.040521       1585.73\n",
       "4  f4f0ac6b06  119       0   247.880023              2.996065        828.00"
      ]
     },
     "metadata": {},
     "execution_count": 129
    }
   ],
   "metadata": {}
  },
  {
   "cell_type": "code",
   "execution_count": 130,
   "source": [
    "test_X = test_df.drop(columns=['client_id'])\r\n",
    "test_X = torch.FloatTensor(test_X.values)"
   ],
   "outputs": [],
   "metadata": {}
  },
  {
   "cell_type": "code",
   "execution_count": 131,
   "source": [
    "test_X.shape"
   ],
   "outputs": [
    {
     "output_type": "execute_result",
     "data": {
      "text/plain": [
       "torch.Size([60012, 5])"
      ]
     },
     "metadata": {},
     "execution_count": 131
    }
   ],
   "metadata": {}
  },
  {
   "cell_type": "code",
   "execution_count": 132,
   "source": [
    "with torch.no_grad():\r\n",
    "    probs_test = model(test_X)"
   ],
   "outputs": [
    {
     "output_type": "error",
     "ename": "RuntimeError",
     "evalue": "mat1 and mat2 shapes cannot be multiplied (60012x5 and 3x16)",
     "traceback": [
      "\u001b[1;31m---------------------------------------------------------------------------\u001b[0m",
      "\u001b[1;31mRuntimeError\u001b[0m                              Traceback (most recent call last)",
      "\u001b[1;32m~\\AppData\\Local\\Temp/ipykernel_10724/3394858408.py\u001b[0m in \u001b[0;36m<module>\u001b[1;34m\u001b[0m\n\u001b[0;32m      1\u001b[0m \u001b[1;32mwith\u001b[0m \u001b[0mtorch\u001b[0m\u001b[1;33m.\u001b[0m\u001b[0mno_grad\u001b[0m\u001b[1;33m(\u001b[0m\u001b[1;33m)\u001b[0m\u001b[1;33m:\u001b[0m\u001b[1;33m\u001b[0m\u001b[1;33m\u001b[0m\u001b[0m\n\u001b[1;32m----> 2\u001b[1;33m     \u001b[0mprobs_test\u001b[0m \u001b[1;33m=\u001b[0m \u001b[0mmodel\u001b[0m\u001b[1;33m(\u001b[0m\u001b[0mtest_X\u001b[0m\u001b[1;33m)\u001b[0m\u001b[1;33m\u001b[0m\u001b[1;33m\u001b[0m\u001b[0m\n\u001b[0m",
      "\u001b[1;32m~\\AppData\\Local\\Programs\\Python\\Python39\\lib\\site-packages\\torch\\nn\\modules\\module.py\u001b[0m in \u001b[0;36m_call_impl\u001b[1;34m(self, *input, **kwargs)\u001b[0m\n\u001b[0;32m    887\u001b[0m             \u001b[0mresult\u001b[0m \u001b[1;33m=\u001b[0m \u001b[0mself\u001b[0m\u001b[1;33m.\u001b[0m\u001b[0m_slow_forward\u001b[0m\u001b[1;33m(\u001b[0m\u001b[1;33m*\u001b[0m\u001b[0minput\u001b[0m\u001b[1;33m,\u001b[0m \u001b[1;33m**\u001b[0m\u001b[0mkwargs\u001b[0m\u001b[1;33m)\u001b[0m\u001b[1;33m\u001b[0m\u001b[1;33m\u001b[0m\u001b[0m\n\u001b[0;32m    888\u001b[0m         \u001b[1;32melse\u001b[0m\u001b[1;33m:\u001b[0m\u001b[1;33m\u001b[0m\u001b[1;33m\u001b[0m\u001b[0m\n\u001b[1;32m--> 889\u001b[1;33m             \u001b[0mresult\u001b[0m \u001b[1;33m=\u001b[0m \u001b[0mself\u001b[0m\u001b[1;33m.\u001b[0m\u001b[0mforward\u001b[0m\u001b[1;33m(\u001b[0m\u001b[1;33m*\u001b[0m\u001b[0minput\u001b[0m\u001b[1;33m,\u001b[0m \u001b[1;33m**\u001b[0m\u001b[0mkwargs\u001b[0m\u001b[1;33m)\u001b[0m\u001b[1;33m\u001b[0m\u001b[1;33m\u001b[0m\u001b[0m\n\u001b[0m\u001b[0;32m    890\u001b[0m         for hook in itertools.chain(\n\u001b[0;32m    891\u001b[0m                 \u001b[0m_global_forward_hooks\u001b[0m\u001b[1;33m.\u001b[0m\u001b[0mvalues\u001b[0m\u001b[1;33m(\u001b[0m\u001b[1;33m)\u001b[0m\u001b[1;33m,\u001b[0m\u001b[1;33m\u001b[0m\u001b[1;33m\u001b[0m\u001b[0m\n",
      "\u001b[1;32m~\\AppData\\Local\\Programs\\Python\\Python39\\lib\\site-packages\\torch\\nn\\modules\\container.py\u001b[0m in \u001b[0;36mforward\u001b[1;34m(self, input)\u001b[0m\n\u001b[0;32m    117\u001b[0m     \u001b[1;32mdef\u001b[0m \u001b[0mforward\u001b[0m\u001b[1;33m(\u001b[0m\u001b[0mself\u001b[0m\u001b[1;33m,\u001b[0m \u001b[0minput\u001b[0m\u001b[1;33m)\u001b[0m\u001b[1;33m:\u001b[0m\u001b[1;33m\u001b[0m\u001b[1;33m\u001b[0m\u001b[0m\n\u001b[0;32m    118\u001b[0m         \u001b[1;32mfor\u001b[0m \u001b[0mmodule\u001b[0m \u001b[1;32min\u001b[0m \u001b[0mself\u001b[0m\u001b[1;33m:\u001b[0m\u001b[1;33m\u001b[0m\u001b[1;33m\u001b[0m\u001b[0m\n\u001b[1;32m--> 119\u001b[1;33m             \u001b[0minput\u001b[0m \u001b[1;33m=\u001b[0m \u001b[0mmodule\u001b[0m\u001b[1;33m(\u001b[0m\u001b[0minput\u001b[0m\u001b[1;33m)\u001b[0m\u001b[1;33m\u001b[0m\u001b[1;33m\u001b[0m\u001b[0m\n\u001b[0m\u001b[0;32m    120\u001b[0m         \u001b[1;32mreturn\u001b[0m \u001b[0minput\u001b[0m\u001b[1;33m\u001b[0m\u001b[1;33m\u001b[0m\u001b[0m\n\u001b[0;32m    121\u001b[0m \u001b[1;33m\u001b[0m\u001b[0m\n",
      "\u001b[1;32m~\\AppData\\Local\\Programs\\Python\\Python39\\lib\\site-packages\\torch\\nn\\modules\\module.py\u001b[0m in \u001b[0;36m_call_impl\u001b[1;34m(self, *input, **kwargs)\u001b[0m\n\u001b[0;32m    887\u001b[0m             \u001b[0mresult\u001b[0m \u001b[1;33m=\u001b[0m \u001b[0mself\u001b[0m\u001b[1;33m.\u001b[0m\u001b[0m_slow_forward\u001b[0m\u001b[1;33m(\u001b[0m\u001b[1;33m*\u001b[0m\u001b[0minput\u001b[0m\u001b[1;33m,\u001b[0m \u001b[1;33m**\u001b[0m\u001b[0mkwargs\u001b[0m\u001b[1;33m)\u001b[0m\u001b[1;33m\u001b[0m\u001b[1;33m\u001b[0m\u001b[0m\n\u001b[0;32m    888\u001b[0m         \u001b[1;32melse\u001b[0m\u001b[1;33m:\u001b[0m\u001b[1;33m\u001b[0m\u001b[1;33m\u001b[0m\u001b[0m\n\u001b[1;32m--> 889\u001b[1;33m             \u001b[0mresult\u001b[0m \u001b[1;33m=\u001b[0m \u001b[0mself\u001b[0m\u001b[1;33m.\u001b[0m\u001b[0mforward\u001b[0m\u001b[1;33m(\u001b[0m\u001b[1;33m*\u001b[0m\u001b[0minput\u001b[0m\u001b[1;33m,\u001b[0m \u001b[1;33m**\u001b[0m\u001b[0mkwargs\u001b[0m\u001b[1;33m)\u001b[0m\u001b[1;33m\u001b[0m\u001b[1;33m\u001b[0m\u001b[0m\n\u001b[0m\u001b[0;32m    890\u001b[0m         for hook in itertools.chain(\n\u001b[0;32m    891\u001b[0m                 \u001b[0m_global_forward_hooks\u001b[0m\u001b[1;33m.\u001b[0m\u001b[0mvalues\u001b[0m\u001b[1;33m(\u001b[0m\u001b[1;33m)\u001b[0m\u001b[1;33m,\u001b[0m\u001b[1;33m\u001b[0m\u001b[1;33m\u001b[0m\u001b[0m\n",
      "\u001b[1;32m~\\AppData\\Local\\Programs\\Python\\Python39\\lib\\site-packages\\torch\\nn\\modules\\linear.py\u001b[0m in \u001b[0;36mforward\u001b[1;34m(self, input)\u001b[0m\n\u001b[0;32m     92\u001b[0m \u001b[1;33m\u001b[0m\u001b[0m\n\u001b[0;32m     93\u001b[0m     \u001b[1;32mdef\u001b[0m \u001b[0mforward\u001b[0m\u001b[1;33m(\u001b[0m\u001b[0mself\u001b[0m\u001b[1;33m,\u001b[0m \u001b[0minput\u001b[0m\u001b[1;33m:\u001b[0m \u001b[0mTensor\u001b[0m\u001b[1;33m)\u001b[0m \u001b[1;33m->\u001b[0m \u001b[0mTensor\u001b[0m\u001b[1;33m:\u001b[0m\u001b[1;33m\u001b[0m\u001b[1;33m\u001b[0m\u001b[0m\n\u001b[1;32m---> 94\u001b[1;33m         \u001b[1;32mreturn\u001b[0m \u001b[0mF\u001b[0m\u001b[1;33m.\u001b[0m\u001b[0mlinear\u001b[0m\u001b[1;33m(\u001b[0m\u001b[0minput\u001b[0m\u001b[1;33m,\u001b[0m \u001b[0mself\u001b[0m\u001b[1;33m.\u001b[0m\u001b[0mweight\u001b[0m\u001b[1;33m,\u001b[0m \u001b[0mself\u001b[0m\u001b[1;33m.\u001b[0m\u001b[0mbias\u001b[0m\u001b[1;33m)\u001b[0m\u001b[1;33m\u001b[0m\u001b[1;33m\u001b[0m\u001b[0m\n\u001b[0m\u001b[0;32m     95\u001b[0m \u001b[1;33m\u001b[0m\u001b[0m\n\u001b[0;32m     96\u001b[0m     \u001b[1;32mdef\u001b[0m \u001b[0mextra_repr\u001b[0m\u001b[1;33m(\u001b[0m\u001b[0mself\u001b[0m\u001b[1;33m)\u001b[0m \u001b[1;33m->\u001b[0m \u001b[0mstr\u001b[0m\u001b[1;33m:\u001b[0m\u001b[1;33m\u001b[0m\u001b[1;33m\u001b[0m\u001b[0m\n",
      "\u001b[1;32m~\\AppData\\Local\\Programs\\Python\\Python39\\lib\\site-packages\\torch\\nn\\functional.py\u001b[0m in \u001b[0;36mlinear\u001b[1;34m(input, weight, bias)\u001b[0m\n\u001b[0;32m   1751\u001b[0m     \u001b[1;32mif\u001b[0m \u001b[0mhas_torch_function_variadic\u001b[0m\u001b[1;33m(\u001b[0m\u001b[0minput\u001b[0m\u001b[1;33m,\u001b[0m \u001b[0mweight\u001b[0m\u001b[1;33m)\u001b[0m\u001b[1;33m:\u001b[0m\u001b[1;33m\u001b[0m\u001b[1;33m\u001b[0m\u001b[0m\n\u001b[0;32m   1752\u001b[0m         \u001b[1;32mreturn\u001b[0m \u001b[0mhandle_torch_function\u001b[0m\u001b[1;33m(\u001b[0m\u001b[0mlinear\u001b[0m\u001b[1;33m,\u001b[0m \u001b[1;33m(\u001b[0m\u001b[0minput\u001b[0m\u001b[1;33m,\u001b[0m \u001b[0mweight\u001b[0m\u001b[1;33m)\u001b[0m\u001b[1;33m,\u001b[0m \u001b[0minput\u001b[0m\u001b[1;33m,\u001b[0m \u001b[0mweight\u001b[0m\u001b[1;33m,\u001b[0m \u001b[0mbias\u001b[0m\u001b[1;33m=\u001b[0m\u001b[0mbias\u001b[0m\u001b[1;33m)\u001b[0m\u001b[1;33m\u001b[0m\u001b[1;33m\u001b[0m\u001b[0m\n\u001b[1;32m-> 1753\u001b[1;33m     \u001b[1;32mreturn\u001b[0m \u001b[0mtorch\u001b[0m\u001b[1;33m.\u001b[0m\u001b[0m_C\u001b[0m\u001b[1;33m.\u001b[0m\u001b[0m_nn\u001b[0m\u001b[1;33m.\u001b[0m\u001b[0mlinear\u001b[0m\u001b[1;33m(\u001b[0m\u001b[0minput\u001b[0m\u001b[1;33m,\u001b[0m \u001b[0mweight\u001b[0m\u001b[1;33m,\u001b[0m \u001b[0mbias\u001b[0m\u001b[1;33m)\u001b[0m\u001b[1;33m\u001b[0m\u001b[1;33m\u001b[0m\u001b[0m\n\u001b[0m\u001b[0;32m   1754\u001b[0m \u001b[1;33m\u001b[0m\u001b[0m\n\u001b[0;32m   1755\u001b[0m \u001b[1;33m\u001b[0m\u001b[0m\n",
      "\u001b[1;31mRuntimeError\u001b[0m: mat1 and mat2 shapes cannot be multiplied (60012x5 and 3x16)"
     ]
    }
   ],
   "metadata": {}
  },
  {
   "cell_type": "code",
   "execution_count": null,
   "source": [
    "probs_test"
   ],
   "outputs": [
    {
     "output_type": "execute_result",
     "data": {
      "text/plain": [
       "tensor([[ 0.3843],\n",
       "        [ 0.6567],\n",
       "        [ 0.2814],\n",
       "        ...,\n",
       "        [ 0.2890],\n",
       "        [-0.0119],\n",
       "        [ 0.8951]])"
      ]
     },
     "metadata": {},
     "execution_count": 131
    }
   ],
   "metadata": {}
  },
  {
   "cell_type": "code",
   "execution_count": null,
   "source": [
    "probs_test = np.asarray(probs_test).reshape(-1)"
   ],
   "outputs": [],
   "metadata": {}
  },
  {
   "cell_type": "code",
   "execution_count": null,
   "source": [
    "probs_test"
   ],
   "outputs": [
    {
     "output_type": "execute_result",
     "data": {
      "text/plain": [
       "array([ 0.38432157,  0.65669525,  0.2814082 , ...,  0.2890309 ,\n",
       "       -0.0119319 ,  0.89513624], dtype=float32)"
      ]
     },
     "metadata": {},
     "execution_count": 133
    }
   ],
   "metadata": {}
  },
  {
   "cell_type": "code",
   "execution_count": null,
   "source": [
    "out_data = pd.DataFrame(test_df.client_id)"
   ],
   "outputs": [],
   "metadata": {}
  },
  {
   "cell_type": "code",
   "execution_count": null,
   "source": [
    "out_data['pred'] = probs_test"
   ],
   "outputs": [],
   "metadata": {}
  },
  {
   "cell_type": "code",
   "execution_count": null,
   "source": [
    "out_data"
   ],
   "outputs": [
    {
     "output_type": "execute_result",
     "data": {
      "text/html": [
       "<div>\n",
       "<style scoped>\n",
       "    .dataframe tbody tr th:only-of-type {\n",
       "        vertical-align: middle;\n",
       "    }\n",
       "\n",
       "    .dataframe tbody tr th {\n",
       "        vertical-align: top;\n",
       "    }\n",
       "\n",
       "    .dataframe thead th {\n",
       "        text-align: right;\n",
       "    }\n",
       "</style>\n",
       "<table border=\"1\" class=\"dataframe\">\n",
       "  <thead>\n",
       "    <tr style=\"text-align: right;\">\n",
       "      <th></th>\n",
       "      <th>client_id</th>\n",
       "      <th>pred</th>\n",
       "    </tr>\n",
       "  </thead>\n",
       "  <tbody>\n",
       "    <tr>\n",
       "      <th>0</th>\n",
       "      <td>a9a604ed6e</td>\n",
       "      <td>0.384322</td>\n",
       "    </tr>\n",
       "    <tr>\n",
       "      <th>1</th>\n",
       "      <td>ebd7360016</td>\n",
       "      <td>0.656695</td>\n",
       "    </tr>\n",
       "    <tr>\n",
       "      <th>2</th>\n",
       "      <td>908cd9b8e8</td>\n",
       "      <td>0.281408</td>\n",
       "    </tr>\n",
       "    <tr>\n",
       "      <th>3</th>\n",
       "      <td>dceb8ce861</td>\n",
       "      <td>0.675891</td>\n",
       "    </tr>\n",
       "    <tr>\n",
       "      <th>4</th>\n",
       "      <td>f4f0ac6b06</td>\n",
       "      <td>1.495487</td>\n",
       "    </tr>\n",
       "    <tr>\n",
       "      <th>...</th>\n",
       "      <td>...</td>\n",
       "      <td>...</td>\n",
       "    </tr>\n",
       "    <tr>\n",
       "      <th>60007</th>\n",
       "      <td>4762fb04c5</td>\n",
       "      <td>0.288775</td>\n",
       "    </tr>\n",
       "    <tr>\n",
       "      <th>60008</th>\n",
       "      <td>533d1516e7</td>\n",
       "      <td>0.326652</td>\n",
       "    </tr>\n",
       "    <tr>\n",
       "      <th>60009</th>\n",
       "      <td>c93b21a707</td>\n",
       "      <td>0.289031</td>\n",
       "    </tr>\n",
       "    <tr>\n",
       "      <th>60010</th>\n",
       "      <td>3fe0668de5</td>\n",
       "      <td>-0.011932</td>\n",
       "    </tr>\n",
       "    <tr>\n",
       "      <th>60011</th>\n",
       "      <td>8d1ea24f5e</td>\n",
       "      <td>0.895136</td>\n",
       "    </tr>\n",
       "  </tbody>\n",
       "</table>\n",
       "<p>60012 rows × 2 columns</p>\n",
       "</div>"
      ],
      "text/plain": [
       "        client_id      pred\n",
       "0      a9a604ed6e  0.384322\n",
       "1      ebd7360016  0.656695\n",
       "2      908cd9b8e8  0.281408\n",
       "3      dceb8ce861  0.675891\n",
       "4      f4f0ac6b06  1.495487\n",
       "...           ...       ...\n",
       "60007  4762fb04c5  0.288775\n",
       "60008  533d1516e7  0.326652\n",
       "60009  c93b21a707  0.289031\n",
       "60010  3fe0668de5 -0.011932\n",
       "60011  8d1ea24f5e  0.895136\n",
       "\n",
       "[60012 rows x 2 columns]"
      ]
     },
     "metadata": {},
     "execution_count": 136
    }
   ],
   "metadata": {}
  },
  {
   "cell_type": "code",
   "execution_count": null,
   "source": [
    "out_data.to_csv('results.csv', index=False)"
   ],
   "outputs": [],
   "metadata": {}
  },
  {
   "cell_type": "code",
   "execution_count": null,
   "source": [],
   "outputs": [],
   "metadata": {}
  },
  {
   "cell_type": "code",
   "execution_count": null,
   "source": [],
   "outputs": [],
   "metadata": {}
  }
 ],
 "metadata": {
  "orig_nbformat": 4,
  "language_info": {
   "name": "python",
   "version": "3.9.1",
   "mimetype": "text/x-python",
   "codemirror_mode": {
    "name": "ipython",
    "version": 3
   },
   "pygments_lexer": "ipython3",
   "nbconvert_exporter": "python",
   "file_extension": ".py"
  },
  "kernelspec": {
   "name": "python3",
   "display_name": "Python 3.9.1 64-bit"
  },
  "interpreter": {
   "hash": "d87320467d95eebbbff257235e25593b7a85f99340967afb18d54479c0228d87"
  }
 },
 "nbformat": 4,
 "nbformat_minor": 2
}