{
 "cells": [
  {
   "cell_type": "code",
   "execution_count": 100,
   "source": [
    "import pandas as pd\r\n",
    "import numpy as np\r\n",
    "from preparing_data import prepare_data"
   ],
   "outputs": [],
   "metadata": {}
  },
  {
   "cell_type": "code",
   "execution_count": 101,
   "source": [
    "prepare_data('train')"
   ],
   "outputs": [],
   "metadata": {}
  },
  {
   "cell_type": "code",
   "execution_count": null,
   "source": [
    "train_data = pd.read_csv('Prepared_data_train.csv')"
   ],
   "outputs": [
    {
     "output_type": "error",
     "ename": "Error",
     "evalue": "Session cannot generate requests",
     "traceback": [
      "Error: Session cannot generate requests",
      "at w.executeCodeCell (c:\\Users\\zanzi\\.vscode\\extensions\\ms-toolsai.jupyter-2021.8.2041215044\\out\\client\\extension.js:52:301310)",
      "at w.execute (c:\\Users\\zanzi\\.vscode\\extensions\\ms-toolsai.jupyter-2021.8.2041215044\\out\\client\\extension.js:52:300703)",
      "at w.start (c:\\Users\\zanzi\\.vscode\\extensions\\ms-toolsai.jupyter-2021.8.2041215044\\out\\client\\extension.js:52:296367)",
      "at processTicksAndRejections (internal/process/task_queues.js:93:5)",
      "at async t.CellExecutionQueue.executeQueuedCells (c:\\Users\\zanzi\\.vscode\\extensions\\ms-toolsai.jupyter-2021.8.2041215044\\out\\client\\extension.js:52:311160)",
      "at async t.CellExecutionQueue.start (c:\\Users\\zanzi\\.vscode\\extensions\\ms-toolsai.jupyter-2021.8.2041215044\\out\\client\\extension.js:52:310700)"
     ]
    }
   ],
   "metadata": {}
  },
  {
   "cell_type": "code",
   "execution_count": null,
   "source": [
    "train_data.head()"
   ],
   "outputs": [
    {
     "output_type": "execute_result",
     "data": {
      "text/html": [
       "<div>\n",
       "<style scoped>\n",
       "    .dataframe tbody tr th:only-of-type {\n",
       "        vertical-align: middle;\n",
       "    }\n",
       "\n",
       "    .dataframe tbody tr th {\n",
       "        vertical-align: top;\n",
       "    }\n",
       "\n",
       "    .dataframe thead th {\n",
       "        text-align: right;\n",
       "    }\n",
       "</style>\n",
       "<table border=\"1\" class=\"dataframe\">\n",
       "  <thead>\n",
       "    <tr style=\"text-align: right;\">\n",
       "      <th></th>\n",
       "      <th>client_id</th>\n",
       "      <th>treatment_flg</th>\n",
       "      <th>purchased</th>\n",
       "      <th>age</th>\n",
       "      <th>gender</th>\n",
       "      <th>first_reedem_ts</th>\n",
       "      <th>first_issue_ts</th>\n",
       "      <th>last_ts</th>\n",
       "      <th>pred_last_ts</th>\n",
       "      <th>days_own_bc</th>\n",
       "      <th>days_from_last_purch</th>\n",
       "      <th>count_purch_before_fr</th>\n",
       "      <th>count_purch_after_fr</th>\n",
       "      <th>count_own_trm</th>\n",
       "      <th>count_alc</th>\n",
       "      <th>purchs_count</th>\n",
       "      <th>purchase_sum</th>\n",
       "      <th>express_points_spent_sum</th>\n",
       "      <th>express_points_spent_mean</th>\n",
       "      <th>purchase_sum_mean</th>\n",
       "    </tr>\n",
       "  </thead>\n",
       "  <tbody>\n",
       "    <tr>\n",
       "      <th>0</th>\n",
       "      <td>ad6561e2d8</td>\n",
       "      <td>1</td>\n",
       "      <td>1</td>\n",
       "      <td>50.0</td>\n",
       "      <td>2.0</td>\n",
       "      <td>1.527102</td>\n",
       "      <td>1.512322</td>\n",
       "      <td>1.552759e+09</td>\n",
       "      <td>1.551885e+09</td>\n",
       "      <td>17961.632112</td>\n",
       "      <td>10.118160</td>\n",
       "      <td>0.0</td>\n",
       "      <td>206</td>\n",
       "      <td>12</td>\n",
       "      <td>1</td>\n",
       "      <td>40</td>\n",
       "      <td>10801.41</td>\n",
       "      <td>0.0</td>\n",
       "      <td>0.000000</td>\n",
       "      <td>270.035250</td>\n",
       "    </tr>\n",
       "    <tr>\n",
       "      <th>1</th>\n",
       "      <td>7c1ccbf93f</td>\n",
       "      <td>1</td>\n",
       "      <td>1</td>\n",
       "      <td>24.0</td>\n",
       "      <td>2.0</td>\n",
       "      <td>1.519326</td>\n",
       "      <td>1.510332</td>\n",
       "      <td>1.551793e+09</td>\n",
       "      <td>1.550561e+09</td>\n",
       "      <td>17946.310249</td>\n",
       "      <td>14.255637</td>\n",
       "      <td>0.0</td>\n",
       "      <td>14</td>\n",
       "      <td>1</td>\n",
       "      <td>0</td>\n",
       "      <td>2</td>\n",
       "      <td>851.00</td>\n",
       "      <td>0.0</td>\n",
       "      <td>0.000000</td>\n",
       "      <td>425.500000</td>\n",
       "    </tr>\n",
       "    <tr>\n",
       "      <th>2</th>\n",
       "      <td>b58fadcab6</td>\n",
       "      <td>1</td>\n",
       "      <td>1</td>\n",
       "      <td>36.0</td>\n",
       "      <td>0.0</td>\n",
       "      <td>1.537045</td>\n",
       "      <td>1.509657</td>\n",
       "      <td>1.552730e+09</td>\n",
       "      <td>1.552308e+09</td>\n",
       "      <td>17966.524600</td>\n",
       "      <td>4.889722</td>\n",
       "      <td>0.0</td>\n",
       "      <td>248</td>\n",
       "      <td>31</td>\n",
       "      <td>0</td>\n",
       "      <td>33</td>\n",
       "      <td>14171.77</td>\n",
       "      <td>0.0</td>\n",
       "      <td>0.000000</td>\n",
       "      <td>429.447576</td>\n",
       "    </tr>\n",
       "    <tr>\n",
       "      <th>3</th>\n",
       "      <td>e99e6fabb9</td>\n",
       "      <td>0</td>\n",
       "      <td>0</td>\n",
       "      <td>79.0</td>\n",
       "      <td>2.0</td>\n",
       "      <td>1.527713</td>\n",
       "      <td>1.526466</td>\n",
       "      <td>1.552635e+09</td>\n",
       "      <td>1.552378e+09</td>\n",
       "      <td>17967.339612</td>\n",
       "      <td>2.972963</td>\n",
       "      <td>0.0</td>\n",
       "      <td>47</td>\n",
       "      <td>1</td>\n",
       "      <td>0</td>\n",
       "      <td>13</td>\n",
       "      <td>2872.00</td>\n",
       "      <td>0.0</td>\n",
       "      <td>0.000000</td>\n",
       "      <td>220.923077</td>\n",
       "    </tr>\n",
       "    <tr>\n",
       "      <th>4</th>\n",
       "      <td>27fb6f8520</td>\n",
       "      <td>1</td>\n",
       "      <td>1</td>\n",
       "      <td>34.0</td>\n",
       "      <td>2.0</td>\n",
       "      <td>1.513332</td>\n",
       "      <td>1.500320</td>\n",
       "      <td>1.552920e+09</td>\n",
       "      <td>1.552547e+09</td>\n",
       "      <td>17969.295480</td>\n",
       "      <td>4.318727</td>\n",
       "      <td>0.0</td>\n",
       "      <td>100</td>\n",
       "      <td>13</td>\n",
       "      <td>0</td>\n",
       "      <td>30</td>\n",
       "      <td>9886.21</td>\n",
       "      <td>-50.0</td>\n",
       "      <td>-1.666667</td>\n",
       "      <td>329.540333</td>\n",
       "    </tr>\n",
       "  </tbody>\n",
       "</table>\n",
       "</div>"
      ],
      "text/plain": [
       "    client_id  treatment_flg  purchased   age  gender  first_reedem_ts  \\\n",
       "0  ad6561e2d8              1          1  50.0     2.0         1.527102   \n",
       "1  7c1ccbf93f              1          1  24.0     2.0         1.519326   \n",
       "2  b58fadcab6              1          1  36.0     0.0         1.537045   \n",
       "3  e99e6fabb9              0          0  79.0     2.0         1.527713   \n",
       "4  27fb6f8520              1          1  34.0     2.0         1.513332   \n",
       "\n",
       "   first_issue_ts       last_ts  pred_last_ts   days_own_bc  \\\n",
       "0        1.512322  1.552759e+09  1.551885e+09  17961.632112   \n",
       "1        1.510332  1.551793e+09  1.550561e+09  17946.310249   \n",
       "2        1.509657  1.552730e+09  1.552308e+09  17966.524600   \n",
       "3        1.526466  1.552635e+09  1.552378e+09  17967.339612   \n",
       "4        1.500320  1.552920e+09  1.552547e+09  17969.295480   \n",
       "\n",
       "   days_from_last_purch  count_purch_before_fr  count_purch_after_fr  \\\n",
       "0             10.118160                    0.0                   206   \n",
       "1             14.255637                    0.0                    14   \n",
       "2              4.889722                    0.0                   248   \n",
       "3              2.972963                    0.0                    47   \n",
       "4              4.318727                    0.0                   100   \n",
       "\n",
       "   count_own_trm  count_alc  purchs_count  purchase_sum  \\\n",
       "0             12          1            40      10801.41   \n",
       "1              1          0             2        851.00   \n",
       "2             31          0            33      14171.77   \n",
       "3              1          0            13       2872.00   \n",
       "4             13          0            30       9886.21   \n",
       "\n",
       "   express_points_spent_sum  express_points_spent_mean  purchase_sum_mean  \n",
       "0                       0.0                   0.000000         270.035250  \n",
       "1                       0.0                   0.000000         425.500000  \n",
       "2                       0.0                   0.000000         429.447576  \n",
       "3                       0.0                   0.000000         220.923077  \n",
       "4                     -50.0                  -1.666667         329.540333  "
      ]
     },
     "metadata": {},
     "execution_count": 52
    }
   ],
   "metadata": {}
  },
  {
   "cell_type": "code",
   "execution_count": null,
   "source": [
    "train_X = train_data.drop(columns=['client_id', 'treatment_flg', 'purchased', 'last_ts', 'pred_last_ts'])"
   ],
   "outputs": [],
   "metadata": {}
  },
  {
   "cell_type": "code",
   "execution_count": null,
   "source": [
    "train_y = train_data.treatment_flg * train_data.purchased + (1-train_data.treatment_flg) * (1-train_data.purchased)"
   ],
   "outputs": [],
   "metadata": {}
  },
  {
   "cell_type": "markdown",
   "source": [
    "Трансформируем целевую переменную"
   ],
   "metadata": {}
  },
  {
   "cell_type": "code",
   "execution_count": null,
   "source": [
    "train_X = np.asarray(train_X.values)\r\n",
    "train_y = np.asarray(train_y.values)"
   ],
   "outputs": [],
   "metadata": {}
  },
  {
   "cell_type": "code",
   "execution_count": null,
   "source": [
    "from sklearn.model_selection import train_test_split\r\n",
    "from sklearn.ensemble import RandomForestClassifier\r\n",
    "from sklearn.model_selection import RandomizedSearchCV"
   ],
   "outputs": [],
   "metadata": {}
  },
  {
   "cell_type": "code",
   "execution_count": null,
   "source": [
    "train_X, val_X, train_y, val_y = train_test_split(train_X, train_y, test_size = 0.33, random_state = 50)"
   ],
   "outputs": [],
   "metadata": {}
  },
  {
   "cell_type": "code",
   "execution_count": null,
   "source": [
    "clf_rf = RandomForestClassifier()"
   ],
   "outputs": [],
   "metadata": {}
  },
  {
   "cell_type": "code",
   "execution_count": null,
   "source": [
    "PARAMS = {'n_estimators':[100],\r\n",
    "          'max_depth':range(4,15,2),\r\n",
    "          'min_samples_leaf':range(2,12,3),\r\n",
    "          'min_samples_split':range(2,12,3),\r\n",
    "          \"criterion\":['gini']}"
   ],
   "outputs": [],
   "metadata": {}
  },
  {
   "cell_type": "code",
   "execution_count": null,
   "source": [
    "def training_model(train_X, train_y):\r\n",
    "    rf_clf = RandomForestClassifier()\r\n",
    "    grid_search_cv = RandomizedSearchCV(rf_clf, PARAMS, cv=3)\r\n",
    "    grid_search_cv.fit(train_X, train_y)\r\n",
    "    best_clf = grid_search_cv.best_estimator_\r\n",
    "    return best_clf "
   ],
   "outputs": [],
   "metadata": {}
  },
  {
   "cell_type": "code",
   "execution_count": null,
   "source": [
    "best_clf_wrc = training_model(train_X, train_y)"
   ],
   "outputs": [],
   "metadata": {}
  },
  {
   "cell_type": "code",
   "execution_count": null,
   "source": [
    "prediction_proba = best_clf_wrc.predict_proba(val_X)[:, 1]"
   ],
   "outputs": [],
   "metadata": {}
  },
  {
   "cell_type": "code",
   "execution_count": null,
   "source": [
    "from sklearn.metrics import roc_auc_score"
   ],
   "outputs": [],
   "metadata": {}
  },
  {
   "cell_type": "code",
   "execution_count": null,
   "source": [
    "prediction_proba\r\n"
   ],
   "outputs": [
    {
     "output_type": "execute_result",
     "data": {
      "text/plain": [
       "array([0.51508947, 0.51180127, 0.51239094, ..., 0.48249576, 0.50961732,\n",
       "       0.51403506])"
      ]
     },
     "metadata": {},
     "execution_count": 64
    }
   ],
   "metadata": {}
  },
  {
   "cell_type": "code",
   "execution_count": null,
   "source": [
    "rac = roc_auc_score(val_y, prediction_proba.reshape(-1,1))"
   ],
   "outputs": [],
   "metadata": {}
  },
  {
   "cell_type": "code",
   "execution_count": null,
   "source": [
    "2*rac - 1"
   ],
   "outputs": [
    {
     "output_type": "execute_result",
     "data": {
      "text/plain": [
       "0.05196680476508919"
      ]
     },
     "metadata": {},
     "execution_count": 66
    }
   ],
   "metadata": {}
  },
  {
   "cell_type": "code",
   "execution_count": null,
   "source": [
    "prepare_data('test')"
   ],
   "outputs": [],
   "metadata": {}
  },
  {
   "cell_type": "code",
   "execution_count": null,
   "source": [
    "test_data = pd.read_csv('Prepared_data_test.csv')\r\n",
    "test_data.shape"
   ],
   "outputs": [
    {
     "output_type": "execute_result",
     "data": {
      "text/plain": [
       "(54820, 18)"
      ]
     },
     "metadata": {},
     "execution_count": 88
    }
   ],
   "metadata": {}
  },
  {
   "cell_type": "code",
   "execution_count": null,
   "source": [
    "test_data.head()"
   ],
   "outputs": [
    {
     "output_type": "execute_result",
     "data": {
      "text/html": [
       "<div>\n",
       "<style scoped>\n",
       "    .dataframe tbody tr th:only-of-type {\n",
       "        vertical-align: middle;\n",
       "    }\n",
       "\n",
       "    .dataframe tbody tr th {\n",
       "        vertical-align: top;\n",
       "    }\n",
       "\n",
       "    .dataframe thead th {\n",
       "        text-align: right;\n",
       "    }\n",
       "</style>\n",
       "<table border=\"1\" class=\"dataframe\">\n",
       "  <thead>\n",
       "    <tr style=\"text-align: right;\">\n",
       "      <th></th>\n",
       "      <th>client_id</th>\n",
       "      <th>age</th>\n",
       "      <th>gender</th>\n",
       "      <th>first_reedem_ts</th>\n",
       "      <th>first_issue_ts</th>\n",
       "      <th>last_ts</th>\n",
       "      <th>pred_last_ts</th>\n",
       "      <th>days_own_bc</th>\n",
       "      <th>days_from_last_purch</th>\n",
       "      <th>count_purch_before_fr</th>\n",
       "      <th>count_purch_after_fr</th>\n",
       "      <th>count_own_trm</th>\n",
       "      <th>count_alc</th>\n",
       "      <th>purchs_count</th>\n",
       "      <th>purchase_sum</th>\n",
       "      <th>express_points_spent_sum</th>\n",
       "      <th>express_points_spent_mean</th>\n",
       "      <th>purchase_sum_mean</th>\n",
       "    </tr>\n",
       "  </thead>\n",
       "  <tbody>\n",
       "    <tr>\n",
       "      <th>0</th>\n",
       "      <td>ebd7360016</td>\n",
       "      <td>63.0</td>\n",
       "      <td>2.0</td>\n",
       "      <td>1.504283</td>\n",
       "      <td>1.499102</td>\n",
       "      <td>1.552823e+09</td>\n",
       "      <td>1.552658e+09</td>\n",
       "      <td>17970.578941</td>\n",
       "      <td>1.907558</td>\n",
       "      <td>0.0</td>\n",
       "      <td>115</td>\n",
       "      <td>18</td>\n",
       "      <td>0</td>\n",
       "      <td>31</td>\n",
       "      <td>5680.57</td>\n",
       "      <td>0.0</td>\n",
       "      <td>0.0</td>\n",
       "      <td>183.244194</td>\n",
       "    </tr>\n",
       "    <tr>\n",
       "      <th>1</th>\n",
       "      <td>908cd9b8e8</td>\n",
       "      <td>49.0</td>\n",
       "      <td>2.0</td>\n",
       "      <td>1.531502</td>\n",
       "      <td>1.522429</td>\n",
       "      <td>1.551888e+09</td>\n",
       "      <td>1.551366e+09</td>\n",
       "      <td>17955.630191</td>\n",
       "      <td>6.038391</td>\n",
       "      <td>0.0</td>\n",
       "      <td>88</td>\n",
       "      <td>8</td>\n",
       "      <td>0</td>\n",
       "      <td>17</td>\n",
       "      <td>6193.04</td>\n",
       "      <td>0.0</td>\n",
       "      <td>0.0</td>\n",
       "      <td>364.296471</td>\n",
       "    </tr>\n",
       "    <tr>\n",
       "      <th>2</th>\n",
       "      <td>dceb8ce861</td>\n",
       "      <td>46.0</td>\n",
       "      <td>0.0</td>\n",
       "      <td>1.534013</td>\n",
       "      <td>1.507310</td>\n",
       "      <td>1.551803e+09</td>\n",
       "      <td>1.551367e+09</td>\n",
       "      <td>17955.640769</td>\n",
       "      <td>5.040521</td>\n",
       "      <td>0.0</td>\n",
       "      <td>117</td>\n",
       "      <td>6</td>\n",
       "      <td>0</td>\n",
       "      <td>6</td>\n",
       "      <td>8265.26</td>\n",
       "      <td>0.0</td>\n",
       "      <td>0.0</td>\n",
       "      <td>1377.543333</td>\n",
       "    </tr>\n",
       "    <tr>\n",
       "      <th>3</th>\n",
       "      <td>f4f0ac6b06</td>\n",
       "      <td>45.0</td>\n",
       "      <td>0.0</td>\n",
       "      <td>1.550262</td>\n",
       "      <td>1.530136</td>\n",
       "      <td>1.551811e+09</td>\n",
       "      <td>1.551552e+09</td>\n",
       "      <td>17957.782563</td>\n",
       "      <td>2.996065</td>\n",
       "      <td>0.0</td>\n",
       "      <td>169</td>\n",
       "      <td>11</td>\n",
       "      <td>5</td>\n",
       "      <td>12</td>\n",
       "      <td>8960.00</td>\n",
       "      <td>0.0</td>\n",
       "      <td>0.0</td>\n",
       "      <td>746.666667</td>\n",
       "    </tr>\n",
       "    <tr>\n",
       "      <th>4</th>\n",
       "      <td>5047ab8574</td>\n",
       "      <td>57.0</td>\n",
       "      <td>0.0</td>\n",
       "      <td>1.509973</td>\n",
       "      <td>1.501430</td>\n",
       "      <td>1.551183e+09</td>\n",
       "      <td>1.549283e+09</td>\n",
       "      <td>17931.513513</td>\n",
       "      <td>21.989444</td>\n",
       "      <td>0.0</td>\n",
       "      <td>10</td>\n",
       "      <td>3</td>\n",
       "      <td>1</td>\n",
       "      <td>4</td>\n",
       "      <td>826.00</td>\n",
       "      <td>-100.0</td>\n",
       "      <td>-25.0</td>\n",
       "      <td>206.500000</td>\n",
       "    </tr>\n",
       "  </tbody>\n",
       "</table>\n",
       "</div>"
      ],
      "text/plain": [
       "    client_id   age  gender  first_reedem_ts  first_issue_ts       last_ts  \\\n",
       "0  ebd7360016  63.0     2.0         1.504283        1.499102  1.552823e+09   \n",
       "1  908cd9b8e8  49.0     2.0         1.531502        1.522429  1.551888e+09   \n",
       "2  dceb8ce861  46.0     0.0         1.534013        1.507310  1.551803e+09   \n",
       "3  f4f0ac6b06  45.0     0.0         1.550262        1.530136  1.551811e+09   \n",
       "4  5047ab8574  57.0     0.0         1.509973        1.501430  1.551183e+09   \n",
       "\n",
       "   pred_last_ts   days_own_bc  days_from_last_purch  count_purch_before_fr  \\\n",
       "0  1.552658e+09  17970.578941              1.907558                    0.0   \n",
       "1  1.551366e+09  17955.630191              6.038391                    0.0   \n",
       "2  1.551367e+09  17955.640769              5.040521                    0.0   \n",
       "3  1.551552e+09  17957.782563              2.996065                    0.0   \n",
       "4  1.549283e+09  17931.513513             21.989444                    0.0   \n",
       "\n",
       "   count_purch_after_fr  count_own_trm  count_alc  purchs_count  purchase_sum  \\\n",
       "0                   115             18          0            31       5680.57   \n",
       "1                    88              8          0            17       6193.04   \n",
       "2                   117              6          0             6       8265.26   \n",
       "3                   169             11          5            12       8960.00   \n",
       "4                    10              3          1             4        826.00   \n",
       "\n",
       "   express_points_spent_sum  express_points_spent_mean  purchase_sum_mean  \n",
       "0                       0.0                        0.0         183.244194  \n",
       "1                       0.0                        0.0         364.296471  \n",
       "2                       0.0                        0.0        1377.543333  \n",
       "3                       0.0                        0.0         746.666667  \n",
       "4                    -100.0                      -25.0         206.500000  "
      ]
     },
     "metadata": {},
     "execution_count": 89
    }
   ],
   "metadata": {}
  },
  {
   "cell_type": "code",
   "execution_count": null,
   "source": [
    "test_X = test_data.drop(columns=['client_id', 'last_ts', 'pred_last_ts'])"
   ],
   "outputs": [],
   "metadata": {}
  },
  {
   "cell_type": "code",
   "execution_count": null,
   "source": [
    "test_data.shape "
   ],
   "outputs": [
    {
     "output_type": "execute_result",
     "data": {
      "text/plain": [
       "(54820, 18)"
      ]
     },
     "metadata": {},
     "execution_count": 91
    }
   ],
   "metadata": {}
  },
  {
   "cell_type": "code",
   "execution_count": null,
   "source": [
    "test_X"
   ],
   "outputs": [
    {
     "output_type": "execute_result",
     "data": {
      "text/html": [
       "<div>\n",
       "<style scoped>\n",
       "    .dataframe tbody tr th:only-of-type {\n",
       "        vertical-align: middle;\n",
       "    }\n",
       "\n",
       "    .dataframe tbody tr th {\n",
       "        vertical-align: top;\n",
       "    }\n",
       "\n",
       "    .dataframe thead th {\n",
       "        text-align: right;\n",
       "    }\n",
       "</style>\n",
       "<table border=\"1\" class=\"dataframe\">\n",
       "  <thead>\n",
       "    <tr style=\"text-align: right;\">\n",
       "      <th></th>\n",
       "      <th>age</th>\n",
       "      <th>gender</th>\n",
       "      <th>first_reedem_ts</th>\n",
       "      <th>first_issue_ts</th>\n",
       "      <th>days_own_bc</th>\n",
       "      <th>days_from_last_purch</th>\n",
       "      <th>count_purch_before_fr</th>\n",
       "      <th>count_purch_after_fr</th>\n",
       "      <th>count_own_trm</th>\n",
       "      <th>count_alc</th>\n",
       "      <th>purchs_count</th>\n",
       "      <th>purchase_sum</th>\n",
       "      <th>express_points_spent_sum</th>\n",
       "      <th>express_points_spent_mean</th>\n",
       "      <th>purchase_sum_mean</th>\n",
       "    </tr>\n",
       "  </thead>\n",
       "  <tbody>\n",
       "    <tr>\n",
       "      <th>0</th>\n",
       "      <td>63.0</td>\n",
       "      <td>2.0</td>\n",
       "      <td>1.504283</td>\n",
       "      <td>1.499102</td>\n",
       "      <td>17970.578941</td>\n",
       "      <td>1.907558</td>\n",
       "      <td>0.0</td>\n",
       "      <td>115</td>\n",
       "      <td>18</td>\n",
       "      <td>0</td>\n",
       "      <td>31</td>\n",
       "      <td>5680.57</td>\n",
       "      <td>0.0</td>\n",
       "      <td>0.000000</td>\n",
       "      <td>183.244194</td>\n",
       "    </tr>\n",
       "    <tr>\n",
       "      <th>1</th>\n",
       "      <td>49.0</td>\n",
       "      <td>2.0</td>\n",
       "      <td>1.531502</td>\n",
       "      <td>1.522429</td>\n",
       "      <td>17955.630191</td>\n",
       "      <td>6.038391</td>\n",
       "      <td>0.0</td>\n",
       "      <td>88</td>\n",
       "      <td>8</td>\n",
       "      <td>0</td>\n",
       "      <td>17</td>\n",
       "      <td>6193.04</td>\n",
       "      <td>0.0</td>\n",
       "      <td>0.000000</td>\n",
       "      <td>364.296471</td>\n",
       "    </tr>\n",
       "    <tr>\n",
       "      <th>2</th>\n",
       "      <td>46.0</td>\n",
       "      <td>0.0</td>\n",
       "      <td>1.534013</td>\n",
       "      <td>1.507310</td>\n",
       "      <td>17955.640769</td>\n",
       "      <td>5.040521</td>\n",
       "      <td>0.0</td>\n",
       "      <td>117</td>\n",
       "      <td>6</td>\n",
       "      <td>0</td>\n",
       "      <td>6</td>\n",
       "      <td>8265.26</td>\n",
       "      <td>0.0</td>\n",
       "      <td>0.000000</td>\n",
       "      <td>1377.543333</td>\n",
       "    </tr>\n",
       "    <tr>\n",
       "      <th>3</th>\n",
       "      <td>45.0</td>\n",
       "      <td>0.0</td>\n",
       "      <td>1.550262</td>\n",
       "      <td>1.530136</td>\n",
       "      <td>17957.782563</td>\n",
       "      <td>2.996065</td>\n",
       "      <td>0.0</td>\n",
       "      <td>169</td>\n",
       "      <td>11</td>\n",
       "      <td>5</td>\n",
       "      <td>12</td>\n",
       "      <td>8960.00</td>\n",
       "      <td>0.0</td>\n",
       "      <td>0.000000</td>\n",
       "      <td>746.666667</td>\n",
       "    </tr>\n",
       "    <tr>\n",
       "      <th>4</th>\n",
       "      <td>57.0</td>\n",
       "      <td>0.0</td>\n",
       "      <td>1.509973</td>\n",
       "      <td>1.501430</td>\n",
       "      <td>17931.513513</td>\n",
       "      <td>21.989444</td>\n",
       "      <td>0.0</td>\n",
       "      <td>10</td>\n",
       "      <td>3</td>\n",
       "      <td>1</td>\n",
       "      <td>4</td>\n",
       "      <td>826.00</td>\n",
       "      <td>-100.0</td>\n",
       "      <td>-25.000000</td>\n",
       "      <td>206.500000</td>\n",
       "    </tr>\n",
       "    <tr>\n",
       "      <th>...</th>\n",
       "      <td>...</td>\n",
       "      <td>...</td>\n",
       "      <td>...</td>\n",
       "      <td>...</td>\n",
       "      <td>...</td>\n",
       "      <td>...</td>\n",
       "      <td>...</td>\n",
       "      <td>...</td>\n",
       "      <td>...</td>\n",
       "      <td>...</td>\n",
       "      <td>...</td>\n",
       "      <td>...</td>\n",
       "      <td>...</td>\n",
       "      <td>...</td>\n",
       "      <td>...</td>\n",
       "    </tr>\n",
       "    <tr>\n",
       "      <th>54815</th>\n",
       "      <td>26.0</td>\n",
       "      <td>1.0</td>\n",
       "      <td>1.545833</td>\n",
       "      <td>1.527783</td>\n",
       "      <td>17972.457100</td>\n",
       "      <td>0.326169</td>\n",
       "      <td>0.0</td>\n",
       "      <td>153</td>\n",
       "      <td>17</td>\n",
       "      <td>5</td>\n",
       "      <td>30</td>\n",
       "      <td>11462.29</td>\n",
       "      <td>0.0</td>\n",
       "      <td>0.000000</td>\n",
       "      <td>382.076333</td>\n",
       "    </tr>\n",
       "    <tr>\n",
       "      <th>54816</th>\n",
       "      <td>37.0</td>\n",
       "      <td>1.0</td>\n",
       "      <td>1.515347</td>\n",
       "      <td>1.506674</td>\n",
       "      <td>17931.490804</td>\n",
       "      <td>35.821065</td>\n",
       "      <td>0.0</td>\n",
       "      <td>16</td>\n",
       "      <td>2</td>\n",
       "      <td>2</td>\n",
       "      <td>10</td>\n",
       "      <td>994.47</td>\n",
       "      <td>0.0</td>\n",
       "      <td>0.000000</td>\n",
       "      <td>99.447000</td>\n",
       "    </tr>\n",
       "    <tr>\n",
       "      <th>54817</th>\n",
       "      <td>42.0</td>\n",
       "      <td>0.0</td>\n",
       "      <td>1.553968</td>\n",
       "      <td>1.538601</td>\n",
       "      <td>17969.640815</td>\n",
       "      <td>2.974514</td>\n",
       "      <td>0.0</td>\n",
       "      <td>241</td>\n",
       "      <td>17</td>\n",
       "      <td>3</td>\n",
       "      <td>34</td>\n",
       "      <td>9591.75</td>\n",
       "      <td>0.0</td>\n",
       "      <td>0.000000</td>\n",
       "      <td>282.110294</td>\n",
       "    </tr>\n",
       "    <tr>\n",
       "      <th>54818</th>\n",
       "      <td>33.0</td>\n",
       "      <td>0.0</td>\n",
       "      <td>1.549103</td>\n",
       "      <td>1.545762</td>\n",
       "      <td>17966.557100</td>\n",
       "      <td>2.078704</td>\n",
       "      <td>0.0</td>\n",
       "      <td>53</td>\n",
       "      <td>7</td>\n",
       "      <td>0</td>\n",
       "      <td>14</td>\n",
       "      <td>2817.00</td>\n",
       "      <td>-60.0</td>\n",
       "      <td>-4.285714</td>\n",
       "      <td>201.214286</td>\n",
       "    </tr>\n",
       "    <tr>\n",
       "      <th>54819</th>\n",
       "      <td>32.0</td>\n",
       "      <td>2.0</td>\n",
       "      <td>1.552482</td>\n",
       "      <td>1.496330</td>\n",
       "      <td>17968.411637</td>\n",
       "      <td>5.161667</td>\n",
       "      <td>0.0</td>\n",
       "      <td>70</td>\n",
       "      <td>5</td>\n",
       "      <td>1</td>\n",
       "      <td>7</td>\n",
       "      <td>9437.52</td>\n",
       "      <td>0.0</td>\n",
       "      <td>0.000000</td>\n",
       "      <td>1348.217143</td>\n",
       "    </tr>\n",
       "  </tbody>\n",
       "</table>\n",
       "<p>54820 rows × 15 columns</p>\n",
       "</div>"
      ],
      "text/plain": [
       "        age  gender  first_reedem_ts  first_issue_ts   days_own_bc  \\\n",
       "0      63.0     2.0         1.504283        1.499102  17970.578941   \n",
       "1      49.0     2.0         1.531502        1.522429  17955.630191   \n",
       "2      46.0     0.0         1.534013        1.507310  17955.640769   \n",
       "3      45.0     0.0         1.550262        1.530136  17957.782563   \n",
       "4      57.0     0.0         1.509973        1.501430  17931.513513   \n",
       "...     ...     ...              ...             ...           ...   \n",
       "54815  26.0     1.0         1.545833        1.527783  17972.457100   \n",
       "54816  37.0     1.0         1.515347        1.506674  17931.490804   \n",
       "54817  42.0     0.0         1.553968        1.538601  17969.640815   \n",
       "54818  33.0     0.0         1.549103        1.545762  17966.557100   \n",
       "54819  32.0     2.0         1.552482        1.496330  17968.411637   \n",
       "\n",
       "       days_from_last_purch  count_purch_before_fr  count_purch_after_fr  \\\n",
       "0                  1.907558                    0.0                   115   \n",
       "1                  6.038391                    0.0                    88   \n",
       "2                  5.040521                    0.0                   117   \n",
       "3                  2.996065                    0.0                   169   \n",
       "4                 21.989444                    0.0                    10   \n",
       "...                     ...                    ...                   ...   \n",
       "54815              0.326169                    0.0                   153   \n",
       "54816             35.821065                    0.0                    16   \n",
       "54817              2.974514                    0.0                   241   \n",
       "54818              2.078704                    0.0                    53   \n",
       "54819              5.161667                    0.0                    70   \n",
       "\n",
       "       count_own_trm  count_alc  purchs_count  purchase_sum  \\\n",
       "0                 18          0            31       5680.57   \n",
       "1                  8          0            17       6193.04   \n",
       "2                  6          0             6       8265.26   \n",
       "3                 11          5            12       8960.00   \n",
       "4                  3          1             4        826.00   \n",
       "...              ...        ...           ...           ...   \n",
       "54815             17          5            30      11462.29   \n",
       "54816              2          2            10        994.47   \n",
       "54817             17          3            34       9591.75   \n",
       "54818              7          0            14       2817.00   \n",
       "54819              5          1             7       9437.52   \n",
       "\n",
       "       express_points_spent_sum  express_points_spent_mean  purchase_sum_mean  \n",
       "0                           0.0                   0.000000         183.244194  \n",
       "1                           0.0                   0.000000         364.296471  \n",
       "2                           0.0                   0.000000        1377.543333  \n",
       "3                           0.0                   0.000000         746.666667  \n",
       "4                        -100.0                 -25.000000         206.500000  \n",
       "...                         ...                        ...                ...  \n",
       "54815                       0.0                   0.000000         382.076333  \n",
       "54816                       0.0                   0.000000          99.447000  \n",
       "54817                       0.0                   0.000000         282.110294  \n",
       "54818                     -60.0                  -4.285714         201.214286  \n",
       "54819                       0.0                   0.000000        1348.217143  \n",
       "\n",
       "[54820 rows x 15 columns]"
      ]
     },
     "metadata": {},
     "execution_count": 92
    }
   ],
   "metadata": {}
  },
  {
   "cell_type": "code",
   "execution_count": null,
   "source": [
    "prediction_proba = best_clf_wrc.predict_proba(test_X)[:, 1]"
   ],
   "outputs": [],
   "metadata": {}
  },
  {
   "cell_type": "code",
   "execution_count": null,
   "source": [
    "import matplotlib.pyplot as plt\r\n",
    "plt.hist(prediction_proba)"
   ],
   "outputs": [
    {
     "output_type": "execute_result",
     "data": {
      "text/plain": [
       "(array([4.4000e+01, 1.4690e+03, 3.6074e+04, 1.4537e+04, 1.6290e+03,\n",
       "        7.0900e+02, 2.6300e+02, 6.6000e+01, 1.5000e+01, 1.4000e+01]),\n",
       " array([0.42628835, 0.45782746, 0.48936657, 0.52090567, 0.55244478,\n",
       "        0.58398389, 0.61552299, 0.6470621 , 0.67860121, 0.71014031,\n",
       "        0.74167942]),\n",
       " <BarContainer object of 10 artists>)"
      ]
     },
     "metadata": {},
     "execution_count": 94
    },
    {
     "output_type": "display_data",
     "data": {
      "image/png": "[encoded data removed]",
      "text/plain": [
       "<Figure size 432x288 with 1 Axes>"
      ]
     },
     "metadata": {
      "needs_background": "light"
     }
    }
   ],
   "metadata": {}
  },
  {
   "cell_type": "code",
   "execution_count": null,
   "source": [
    "out_data = pd.DataFrame(test_data.client_id)"
   ],
   "outputs": [],
   "metadata": {}
  },
  {
   "cell_type": "code",
   "execution_count": null,
   "source": [
    "prediction_proba.shape"
   ],
   "outputs": [
    {
     "output_type": "execute_result",
     "data": {
      "text/plain": [
       "(54820,)"
      ]
     },
     "metadata": {},
     "execution_count": 96
    }
   ],
   "metadata": {}
  },
  {
   "cell_type": "code",
   "execution_count": null,
   "source": [
    "test_data.shape"
   ],
   "outputs": [
    {
     "output_type": "execute_result",
     "data": {
      "text/plain": [
       "(54820, 18)"
      ]
     },
     "metadata": {},
     "execution_count": 97
    }
   ],
   "metadata": {}
  },
  {
   "cell_type": "code",
   "execution_count": null,
   "source": [
    "out_data['pred'] = prediction_proba"
   ],
   "outputs": [],
   "metadata": {}
  },
  {
   "cell_type": "code",
   "execution_count": null,
   "source": [
    "out_data.to_csv('results.csv', index=False)"
   ],
   "outputs": [],
   "metadata": {}
  },
  {
   "cell_type": "code",
   "execution_count": null,
   "source": [],
   "outputs": [],
   "metadata": {}
  }
 ],
 "metadata": {
  "orig_nbformat": 4,
  "language_info": {
   "name": "python",
   "version": "3.9.1",
   "mimetype": "text/x-python",
   "codemirror_mode": {
    "name": "ipython",
    "version": 3
   },
   "pygments_lexer": "ipython3",
   "nbconvert_exporter": "python",
   "file_extension": ".py"
  },
  "kernelspec": {
   "name": "python3",
   "display_name": "Python 3.9.1 64-bit"
  },
  "interpreter": {
   "hash": "d87320467d95eebbbff257235e25593b7a85f99340967afb18d54479c0228d87"
  }
 },
 "nbformat": 4,
 "nbformat_minor": 2
}