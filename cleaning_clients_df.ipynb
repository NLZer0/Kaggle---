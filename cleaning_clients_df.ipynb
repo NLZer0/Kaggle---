{
 "cells": [
  {
   "cell_type": "code",
   "execution_count": 64,
   "source": [
    "import pandas as pd\r\n",
    "import numpy as np"
   ],
   "outputs": [],
   "metadata": {}
  },
  {
   "cell_type": "code",
   "execution_count": 65,
   "source": [
    "clients_df = pd.read_csv('data/clients2.csv')\r\n",
    "q25, q75 = np.percentile(clients_df.age, [25,75])\r\n",
    "intr_qr = q75 - q25\r\n",
    "max = q75 + intr_qr*1.5\r\n",
    "min = q25 - intr_qr*1.5\r\n",
    "clients_df.loc[(clients_df.age > max) | (clients_df.age < min), 'age'] = np.nan\r\n",
    "median_age = clients_df.age.median()\r\n",
    "clients_df['age'] = clients_df['age'].fillna(median_age)\r\n",
    "\r\n",
    "clients_df.gender = clients_df.gender.apply(lambda x: (x=='M') + 2*(x=='F'))\r\n",
    "\r\n",
    "clients_df['first_redeem_date'] = pd.to_datetime(clients_df['first_redeem_date'], errors='coerce')\r\n",
    "clients_df['first_reedem_ts'] = clients_df.first_redeem_date.values.view('int64') / 1e9\r\n",
    "clients_df['first_issue_date'] = pd.to_datetime(clients_df['first_issue_date'], errors='coerce')\r\n",
    "clients_df['first_issue_ts'] = clients_df.first_issue_date.values.view('int64')/(1e9)"
   ],
   "outputs": [],
   "metadata": {}
  },
  {
   "cell_type": "code",
   "execution_count": 66,
   "source": [
    "clients_df = clients_df.drop(columns='client_id.1')"
   ],
   "outputs": [],
   "metadata": {}
  },
  {
   "cell_type": "code",
   "execution_count": 67,
   "source": [
    "clients_df.first_reedem_ts = clients_df.first_reedem_ts / 1e9\r\n",
    "clients_df.first_issue_ts = clients_df.first_issue_ts / 1e9"
   ],
   "outputs": [],
   "metadata": {}
  },
  {
   "cell_type": "code",
   "execution_count": 68,
   "source": [
    "clients_df.boxplot()"
   ],
   "outputs": [
    {
     "output_type": "execute_result",
     "data": {
      "text/plain": [
       "<AxesSubplot:>"
      ]
     },
     "metadata": {},
     "execution_count": 68
    },
    {
     "output_type": "display_data",
     "data": {
      "image/png": "[encoded data removed]",
      "text/plain": [
       "<Figure size 432x288 with 1 Axes>"
      ]
     },
     "metadata": {
      "needs_background": "light"
     }
    }
   ],
   "metadata": {}
  },
  {
   "cell_type": "code",
   "execution_count": 69,
   "source": [
    "clients_df.loc[clients_df.first_reedem_ts < 0, 'first_reedem_ts'] = None"
   ],
   "outputs": [],
   "metadata": {}
  },
  {
   "cell_type": "code",
   "execution_count": 70,
   "source": [
    "median_reedem_ts = clients_df.first_reedem_ts.median()\r\n"
   ],
   "outputs": [],
   "metadata": {}
  },
  {
   "cell_type": "code",
   "execution_count": 71,
   "source": [
    "clients_df['first_reedem_ts'] = clients_df.first_reedem_ts.fillna(median_reedem_ts)"
   ],
   "outputs": [],
   "metadata": {}
  },
  {
   "cell_type": "code",
   "execution_count": 72,
   "source": [
    "clients_df.isnull().sum()"
   ],
   "outputs": [
    {
     "output_type": "execute_result",
     "data": {
      "text/plain": [
       "client_id                0\n",
       "first_issue_date         0\n",
       "first_redeem_date    17546\n",
       "age                      0\n",
       "gender                   0\n",
       "first_reedem_ts          0\n",
       "first_issue_ts           0\n",
       "dtype: int64"
      ]
     },
     "metadata": {},
     "execution_count": 72
    }
   ],
   "metadata": {}
  },
  {
   "cell_type": "code",
   "execution_count": 73,
   "source": [
    "clients_df.loc[:, ['first_reedem_ts', 'first_issue_ts']].boxplot()"
   ],
   "outputs": [
    {
     "output_type": "execute_result",
     "data": {
      "text/plain": [
       "<AxesSubplot:>"
      ]
     },
     "metadata": {},
     "execution_count": 73
    },
    {
     "output_type": "display_data",
     "data": {
      "image/png": "[encoded data removed]",
      "text/plain": [
       "<Figure size 432x288 with 1 Axes>"
      ]
     },
     "metadata": {
      "needs_background": "light"
     }
    }
   ],
   "metadata": {}
  },
  {
   "cell_type": "code",
   "execution_count": 74,
   "source": [
    "clients_df.to_csv('data/cleaned_cliens.csv', index=False)"
   ],
   "outputs": [],
   "metadata": {}
  },
  {
   "cell_type": "code",
   "execution_count": null,
   "source": [],
   "outputs": [],
   "metadata": {}
  },
  {
   "cell_type": "code",
   "execution_count": null,
   "source": [],
   "outputs": [],
   "metadata": {}
  }
 ],
 "metadata": {
  "orig_nbformat": 4,
  "language_info": {
   "name": "python",
   "version": "3.9.1",
   "mimetype": "text/x-python",
   "codemirror_mode": {
    "name": "ipython",
    "version": 3
   },
   "pygments_lexer": "ipython3",
   "nbconvert_exporter": "python",
   "file_extension": ".py"
  },
  "kernelspec": {
   "name": "python3",
   "display_name": "Python 3.9.1 64-bit"
  },
  "interpreter": {
   "hash": "d87320467d95eebbbff257235e25593b7a85f99340967afb18d54479c0228d87"
  }
 },
 "nbformat": 4,
 "nbformat_minor": 2
}